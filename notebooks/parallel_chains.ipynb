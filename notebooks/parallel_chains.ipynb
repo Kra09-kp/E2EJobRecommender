{
 "cells": [
  {
   "cell_type": "markdown",
   "id": "8c7782df",
   "metadata": {},
   "source": [
    "### set the path"
   ]
  },
  {
   "cell_type": "code",
   "execution_count": 1,
   "id": "4520aff7",
   "metadata": {},
   "outputs": [
    {
     "data": {
      "text/plain": [
       "'/media/kirti/Dev/GenAI/E2E_Job_Recommender/notebooks'"
      ]
     },
     "execution_count": 1,
     "metadata": {},
     "output_type": "execute_result"
    }
   ],
   "source": [
    "%pwd"
   ]
  },
  {
   "cell_type": "code",
   "execution_count": 2,
   "id": "fc919d3c",
   "metadata": {},
   "outputs": [
    {
     "data": {
      "text/plain": [
       "'/media/kirti/Dev/GenAI/E2E_Job_Recommender'"
      ]
     },
     "execution_count": 2,
     "metadata": {},
     "output_type": "execute_result"
    }
   ],
   "source": [
    "import os\n",
    "os.chdir('../')\n",
    "%pwd"
   ]
  },
  {
   "cell_type": "markdown",
   "id": "4e49d124",
   "metadata": {},
   "source": [
    "### Importing necessary libraries"
   ]
  },
  {
   "cell_type": "code",
   "execution_count": 3,
   "id": "eba31db6",
   "metadata": {},
   "outputs": [],
   "source": [
    "from src.job_recommender.chains.llm_chain import JobRecommenderChain\n",
    "from src.job_recommender.schema.output_schema import *\n",
    "\n",
    "from src.job_recommender.models.llm_model import LLMJobAssistant"
   ]
  },
  {
   "cell_type": "markdown",
   "id": "a7926933",
   "metadata": {},
   "source": [
    "### Loading resume"
   ]
  },
  {
   "cell_type": "code",
   "execution_count": 4,
   "id": "a978e86c",
   "metadata": {},
   "outputs": [],
   "source": [
    "sample_resume = LLMJobAssistant._load_file(\"sample_resume.txt\")"
   ]
  },
  {
   "cell_type": "markdown",
   "id": "da5f78e9",
   "metadata": {},
   "source": [
    "### Chains"
   ]
  },
  {
   "cell_type": "markdown",
   "id": "98568a0f",
   "metadata": {},
   "source": [
    "#### Resume Summary Chain"
   ]
  },
  {
   "cell_type": "code",
   "execution_count": 13,
   "id": "621801fe",
   "metadata": {},
   "outputs": [],
   "source": [
    "resume_summary_chain = JobRecommenderChain(\n",
    "    schema=ResumeSummary)._get_chain()"
   ]
  },
  {
   "cell_type": "code",
   "execution_count": 6,
   "id": "85c98414",
   "metadata": {},
   "outputs": [
    {
     "name": "stdout",
     "output_type": "stream",
     "text": [
      "Analyze the following resume and provide a brief summary highlighting Skills, Education, Experience and projects and certifications done by the candidate.\n",
      "Here is the resume:\n",
      "Kirti Pogra\n",
      "Email: kirti.pogra@email.com | Phone: +1-234-567-8901 | LinkedIn: linkedin.com/in/kirtipogra\n",
      "\n",
      "Objective\n",
      "----------\n",
      "Passionate and results-driven Machine Learning Engineer with 3+ years of experience designing, developing, and deploying scalable ML solutions. Seeking to leverage expertise in deep learning, data analysis, and model optimization to contribute to innovative projects.\n",
      "\n",
      "Education\n",
      "----------\n",
      "M.S. in Computer Science\n",
      "XYZ University, 2021\n",
      "\n",
      "B.Tech in Information Technology\n",
      "ABC Institute of Technology, 2019\n",
      "\n",
      "Skills\n",
      "----------\n",
      "- Programming: Python, TensorFlow, PyTorch, Scikit-learn, SQL\n",
      "- Machine Learning: Supervised & Unsupervised Learning, Deep Learning, NLP, Computer Vision\n",
      "- Data Engineering: Pandas, NumPy, Data Preprocessing, Feature Engineering\n",
      "- Tools: Docker, Git, MLflow, AWS, Azure\n",
      "- Communication & Collaboration\n",
      "\n",
      "Experience\n",
      "----------\n",
      "Machine Learning Engineer | Tech Innovators Inc. | June 2021 – Present\n",
      "- Developed and deployed NLP models for automated resume screening, improving accuracy by 30%.\n",
      "- Built deep learning models for image classification, reducing error rate by 15%.\n",
      "- Collaborated with data scientists and software engineers to integrate ML solutions into production systems.\n",
      "- Optimized model performance and scalability using distributed training on cloud platforms.\n",
      "\n",
      "Data Science Intern | Smart Analytics Ltd. | Jan 2020 – May 2021\n",
      "- Assisted in building regression models for sales forecasting.\n",
      "- Performed data cleaning, feature selection, and exploratory data analysis.\n",
      "- Presented findings to stakeholders and contributed to project documentation.\n",
      "\n",
      "Projects\n",
      "----------\n",
      "- Sentiment Analysis Platform: Designed and deployed a sentiment analysis tool using BERT for real-time social media monitoring.\n",
      "- Fraud Detection System: Implemented an ensemble model to detect fraudulent transactions with 95% accuracy.\n",
      "\n",
      "Certifications\n",
      "----------\n",
      "- TensorFlow Developer Certificate\n",
      "- AWS Certified Machine Learning – Specialty\n",
      "\n",
      "References\n",
      "----------\n",
      "Available upon request.\n",
      "\n",
      "\n",
      "[2025-08-07 14:10:50,344|(INFO)| File: _client | Message: HTTP Request: POST https://api.groq.com/openai/v1/chat/completions \"HTTP/1.1 200 OK\"]\n"
     ]
    }
   ],
   "source": [
    "# Use the chain as designed: provide file_path and resume_text only\n",
    "try:\n",
    "    result = resume_summary_chain.invoke({\n",
    "        \"file_path\": \"prompts/summary_prompt.txt\",\n",
    "        \"resume_text\": sample_resume\n",
    "    })\n",
    "except Exception as e:\n",
    "    result = str(e)\n",
    "# print(result)"
   ]
  },
  {
   "cell_type": "code",
   "execution_count": 7,
   "id": "7e0d85ca",
   "metadata": {},
   "outputs": [
    {
     "name": "stdout",
     "output_type": "stream",
     "text": [
      "Kirti Pogra is a results-driven Machine Learning Engineer with 3+ years of experience in designing, developing, and deploying scalable ML solutions. Highlights of the resume include skills in deep learning, data analysis, and model optimization, as well as experience in developing and deploying NLP models, image classification models, and fraud detection systems. The candidate holds a Master's degree in Computer Science and a Bachelor's degree in Information Technology, and has certifications in TensorFlow Developer and AWS Certified Machine Learning – Specialty.\n"
     ]
    }
   ],
   "source": [
    "print(result.summary)"
   ]
  },
  {
   "cell_type": "markdown",
   "id": "fce8df53",
   "metadata": {},
   "source": [
    "#### Keyword Extraction Chain"
   ]
  },
  {
   "cell_type": "code",
   "execution_count": 14,
   "id": "366e62b7",
   "metadata": {},
   "outputs": [],
   "source": [
    "keyword_chain = JobRecommenderChain(\n",
    "    schema=Keywords)._get_chain()"
   ]
  },
  {
   "cell_type": "code",
   "execution_count": 9,
   "id": "d018cb48",
   "metadata": {},
   "outputs": [
    {
     "name": "stdout",
     "output_type": "stream",
     "text": [
      "Based on the resume , give me the best job titles or keyword to search for finding the best suited job according to resume.\n",
      "I only want top-5 keywords.\n",
      "Here is the resume:\n",
      "Kirti Pogra\n",
      "Email: kirti.pogra@email.com | Phone: +1-234-567-8901 | LinkedIn: linkedin.com/in/kirtipogra\n",
      "\n",
      "Objective\n",
      "----------\n",
      "Passionate and results-driven Machine Learning Engineer with 3+ years of experience designing, developing, and deploying scalable ML solutions. Seeking to leverage expertise in deep learning, data analysis, and model optimization to contribute to innovative projects.\n",
      "\n",
      "Education\n",
      "----------\n",
      "M.S. in Computer Science\n",
      "XYZ University, 2021\n",
      "\n",
      "B.Tech in Information Technology\n",
      "ABC Institute of Technology, 2019\n",
      "\n",
      "Skills\n",
      "----------\n",
      "- Programming: Python, TensorFlow, PyTorch, Scikit-learn, SQL\n",
      "- Machine Learning: Supervised & Unsupervised Learning, Deep Learning, NLP, Computer Vision\n",
      "- Data Engineering: Pandas, NumPy, Data Preprocessing, Feature Engineering\n",
      "- Tools: Docker, Git, MLflow, AWS, Azure\n",
      "- Communication & Collaboration\n",
      "\n",
      "Experience\n",
      "----------\n",
      "Machine Learning Engineer | Tech Innovators Inc. | June 2021 – Present\n",
      "- Developed and deployed NLP models for automated resume screening, improving accuracy by 30%.\n",
      "- Built deep learning models for image classification, reducing error rate by 15%.\n",
      "- Collaborated with data scientists and software engineers to integrate ML solutions into production systems.\n",
      "- Optimized model performance and scalability using distributed training on cloud platforms.\n",
      "\n",
      "Data Science Intern | Smart Analytics Ltd. | Jan 2020 – May 2021\n",
      "- Assisted in building regression models for sales forecasting.\n",
      "- Performed data cleaning, feature selection, and exploratory data analysis.\n",
      "- Presented findings to stakeholders and contributed to project documentation.\n",
      "\n",
      "Projects\n",
      "----------\n",
      "- Sentiment Analysis Platform: Designed and deployed a sentiment analysis tool using BERT for real-time social media monitoring.\n",
      "- Fraud Detection System: Implemented an ensemble model to detect fraudulent transactions with 95% accuracy.\n",
      "\n",
      "Certifications\n",
      "----------\n",
      "- TensorFlow Developer Certificate\n",
      "- AWS Certified Machine Learning – Specialty\n",
      "\n",
      "References\n",
      "----------\n",
      "Available upon request.\n",
      "[2025-08-07 14:11:09,394|(INFO)| File: _client | Message: HTTP Request: POST https://api.groq.com/openai/v1/chat/completions \"HTTP/1.1 200 OK\"]\n"
     ]
    }
   ],
   "source": [
    "# Use the chain as designed: provide file_path and resume_text only\n",
    "try:\n",
    "    result = keyword_chain.invoke({\n",
    "        \"file_path\": \"prompts/keyword_prompt.txt\",\n",
    "        \"resume_text\": sample_resume\n",
    "    })\n",
    "except Exception as e:\n",
    "    result = str(e)\n",
    "# print(result)"
   ]
  },
  {
   "cell_type": "code",
   "execution_count": 10,
   "id": "a41d1e04",
   "metadata": {},
   "outputs": [
    {
     "data": {
      "text/plain": [
       "Keywords(keywords=['Machine Learning Engineer', 'Deep Learning', 'NLP', 'Data Engineering', 'Data Analysis'])"
      ]
     },
     "execution_count": 10,
     "metadata": {},
     "output_type": "execute_result"
    }
   ],
   "source": [
    "result"
   ]
  },
  {
   "cell_type": "markdown",
   "id": "c2dac4c1",
   "metadata": {},
   "source": [
    "#### Skill Gap Analysis Chain"
   ]
  },
  {
   "cell_type": "code",
   "execution_count": 15,
   "id": "532dd765",
   "metadata": {},
   "outputs": [],
   "source": [
    "find_skill_gap_chain = JobRecommenderChain(\n",
    "    schema=FindSkillGap)._get_chain(structured_output=False)"
   ]
  },
  {
   "cell_type": "code",
   "execution_count": 12,
   "id": "a3cb6b19",
   "metadata": {},
   "outputs": [
    {
     "name": "stdout",
     "output_type": "stream",
     "text": [
      "Carefully analyze the following resume and identify **missing skills** that are currently in demand for tech jobs (Machine Learning, AI, Data Science).\n",
      "\n",
      "Only include skills that are NOT already mentioned in the resume.\n",
      "\n",
      "For each missing skill, return the following:\n",
      "1. **Skill Name**: (One line)\n",
      "2. **Description**: A short description of the skill/tool/technology/methodology and its relevance in the current ML/AI job market.\n",
      "3. **Importance**: Why learning or having this skill would improve the candidate’s career prospects.\n",
      "\n",
      "Format the response clearly and presentably with bullets or sections for each skill.\n",
      "\n",
      "Resume:\n",
      "\"\"\"\n",
      "Kirti Pogra\n",
      "Email: kirti.pogra@email.com | Phone: +1-234-567-8901 | LinkedIn: linkedin.com/in/kirtipogra\n",
      "\n",
      "Objective\n",
      "----------\n",
      "Passionate and results-driven Machine Learning Engineer with 3+ years of experience designing, developing, and deploying scalable ML solutions. Seeking to leverage expertise in deep learning, data analysis, and model optimization to contribute to innovative projects.\n",
      "\n",
      "Education\n",
      "----------\n",
      "M.S. in Computer Science\n",
      "XYZ University, 2021\n",
      "\n",
      "B.Tech in Information Technology\n",
      "ABC Institute of Technology, 2019\n",
      "\n",
      "Skills\n",
      "----------\n",
      "- Programming: Python, TensorFlow, PyTorch, Scikit-learn, SQL\n",
      "- Machine Learning: Supervised & Unsupervised Learning, Deep Learning, NLP, Computer Vision\n",
      "- Data Engineering: Pandas, NumPy, Data Preprocessing, Feature Engineering\n",
      "- Tools: Docker, Git, MLflow, AWS, Azure\n",
      "- Communication & Collaboration\n",
      "\n",
      "Experience\n",
      "----------\n",
      "Machine Learning Engineer | Tech Innovators Inc. | June 2021 – Present\n",
      "- Developed and deployed NLP models for automated resume screening, improving accuracy by 30%.\n",
      "- Built deep learning models for image classification, reducing error rate by 15%.\n",
      "- Collaborated with data scientists and software engineers to integrate ML solutions into production systems.\n",
      "- Optimized model performance and scalability using distributed training on cloud platforms.\n",
      "\n",
      "Data Science Intern | Smart Analytics Ltd. | Jan 2020 – May 2021\n",
      "- Assisted in building regression models for sales forecasting.\n",
      "- Performed data cleaning, feature selection, and exploratory data analysis.\n",
      "- Presented findings to stakeholders and contributed to project documentation.\n",
      "\n",
      "Projects\n",
      "----------\n",
      "- Sentiment Analysis Platform: Designed and deployed a sentiment analysis tool using BERT for real-time social media monitoring.\n",
      "- Fraud Detection System: Implemented an ensemble model to detect fraudulent transactions with 95% accuracy.\n",
      "\n",
      "Certifications\n",
      "----------\n",
      "- TensorFlow Developer Certificate\n",
      "- AWS Certified Machine Learning – Specialty\n",
      "\n",
      "References\n",
      "----------\n",
      "Available upon request.\n",
      "\"\"\"\n",
      "[2025-08-07 14:11:28,351|(INFO)| File: _client | Message: HTTP Request: POST https://api.groq.com/openai/v1/chat/completions \"HTTP/1.1 200 OK\"]\n"
     ]
    }
   ],
   "source": [
    "# Use the chain as designed: provide file_path and resume_text only\n",
    "result = find_skill_gap_chain.invoke({\n",
    "    \"file_path\": \"prompts/finding_skill_gap_prompt.txt\",\n",
    "    \"resume_text\": sample_resume\n",
    "})"
   ]
  },
  {
   "cell_type": "code",
   "execution_count": 17,
   "id": "c2cd713c",
   "metadata": {},
   "outputs": [
    {
     "data": {
      "text/markdown": [
       "After analyzing the resume, I've identified some missing skills that are currently in demand for tech jobs in Machine Learning, AI, and Data Science. Here are the missing skills:\n",
       "\n",
       "**Missing Skills**\n",
       "\n",
       "### **1. Skill Name:** Transfer Learning\n",
       "\n",
       "**Description:** Transfer learning is a technique in deep learning where a pre-trained model is fine-tuned on a specific dataset to adapt to a new task. This skill is crucial in the current ML/AI job market, as it allows developers to leverage pre-trained models and reduce training time and data requirements.\n",
       "\n",
       "**Importance:** Learning transfer learning would improve the candidate's career prospects by enabling them to quickly adapt to new tasks and projects, and by reducing the need for extensive data collection and training.\n",
       "\n",
       "### **2. Skill Name:** Explainable AI (XAI)\n",
       "\n",
       "**Description:** Explainable AI is a subfield of AI that focuses on making AI models more transparent and interpretable. This skill is gaining importance in the industry, as organizations need to understand how AI models make predictions and decisions.\n",
       "\n",
       "**Importance:** Knowing XAI would improve the candidate's career prospects by enabling them to develop trust in AI models and to ensure compliance with regulations like GDPR and HIPAA.\n",
       "\n",
       "### **3. Skill Name:** Natural Language Processing (NLP) with Attention Mechanisms\n",
       "\n",
       "**Description:** Attention mechanisms are a key component of NLP models that allow them to focus on specific parts of the input data. This skill is in high demand, as NLP models with attention mechanisms have achieved state-of-the-art results in many applications.\n",
       "\n",
       "**Importance:** Learning NLP with attention mechanisms would improve the candidate's career prospects by enabling them to develop more accurate and effective NLP models for tasks like language translation, question answering, and text summarization.\n",
       "\n",
       "### **4. Skill Name:** Cloud-based AutoML\n",
       "\n",
       "**Description:** Cloud-based AutoML is a set of tools that allows developers to automate the machine learning process, from data preparation to model deployment. This skill is gaining popularity, as organizations seek to streamline their ML workflows and reduce the need for manual intervention.\n",
       "\n",
       "**Importance:** Knowing cloud-based AutoML would improve the candidate's career prospects by enabling them to automate the ML process and reduce the time and effort required for model development and deployment.\n",
       "\n",
       "### **5. Skill Name:** Data Visualization with D3.js or Plotly\n",
       "\n",
       "**Description:** Data visualization is a crucial step in the ML workflow, as it allows developers to understand and communicate insights to stakeholders. D3.js and Plotly are popular data visualization libraries that can help developers create interactive and informative visualizations.\n",
       "\n",
       "**Importance:** Learning data visualization with D3.js or Plotly would improve the candidate's career prospects by enabling them to effectively communicate insights and"
      ],
      "text/plain": [
       "<IPython.core.display.Markdown object>"
      ]
     },
     "execution_count": 17,
     "metadata": {},
     "output_type": "execute_result"
    }
   ],
   "source": [
    "from IPython.display import Markdown\n",
    "Markdown(result.content)"
   ]
  },
  {
   "cell_type": "markdown",
   "id": "3e950c29",
   "metadata": {},
   "source": [
    "#### Project Ideas Chain"
   ]
  },
  {
   "cell_type": "code",
   "execution_count": 16,
   "id": "95337654",
   "metadata": {},
   "outputs": [],
   "source": [
    "project_idea_chain = JobRecommenderChain(\n",
    "    schema=ProjectIdeas)._get_chain(structured_output=False)"
   ]
  },
  {
   "cell_type": "code",
   "execution_count": 19,
   "id": "7d90d656",
   "metadata": {},
   "outputs": [
    {
     "name": "stdout",
     "output_type": "stream",
     "text": [
      "Analyze the following resume. Based on the candidate's skills, education, and experience, suggest **5 specific project ideas** that will improve the resume and enhance job opportunities.\n",
      "\n",
      "Each project idea should include:\n",
      "1. **Title** of the project\n",
      "2. A **2-3 line description** explaining what it is and what the candidate will learn or demonstrate by doing it.\n",
      "3. Align the project with the candidate's background.\n",
      "\n",
      "Only return a single structured string containing these 5 ideas clearly and concisely.\n",
      "Here is the resume:\n",
      "Kirti Pogra\n",
      "Email: kirti.pogra@email.com | Phone: +1-234-567-8901 | LinkedIn: linkedin.com/in/kirtipogra\n",
      "\n",
      "Objective\n",
      "----------\n",
      "Passionate and results-driven Machine Learning Engineer with 3+ years of experience designing, developing, and deploying scalable ML solutions. Seeking to leverage expertise in deep learning, data analysis, and model optimization to contribute to innovative projects.\n",
      "\n",
      "Education\n",
      "----------\n",
      "M.S. in Computer Science\n",
      "XYZ University, 2021\n",
      "\n",
      "B.Tech in Information Technology\n",
      "ABC Institute of Technology, 2019\n",
      "\n",
      "Skills\n",
      "----------\n",
      "- Programming: Python, TensorFlow, PyTorch, Scikit-learn, SQL\n",
      "- Machine Learning: Supervised & Unsupervised Learning, Deep Learning, NLP, Computer Vision\n",
      "- Data Engineering: Pandas, NumPy, Data Preprocessing, Feature Engineering\n",
      "- Tools: Docker, Git, MLflow, AWS, Azure\n",
      "- Communication & Collaboration\n",
      "\n",
      "Experience\n",
      "----------\n",
      "Machine Learning Engineer | Tech Innovators Inc. | June 2021 – Present\n",
      "- Developed and deployed NLP models for automated resume screening, improving accuracy by 30%.\n",
      "- Built deep learning models for image classification, reducing error rate by 15%.\n",
      "- Collaborated with data scientists and software engineers to integrate ML solutions into production systems.\n",
      "- Optimized model performance and scalability using distributed training on cloud platforms.\n",
      "\n",
      "Data Science Intern | Smart Analytics Ltd. | Jan 2020 – May 2021\n",
      "- Assisted in building regression models for sales forecasting.\n",
      "- Performed data cleaning, feature selection, and exploratory data analysis.\n",
      "- Presented findings to stakeholders and contributed to project documentation.\n",
      "\n",
      "Projects\n",
      "----------\n",
      "- Sentiment Analysis Platform: Designed and deployed a sentiment analysis tool using BERT for real-time social media monitoring.\n",
      "- Fraud Detection System: Implemented an ensemble model to detect fraudulent transactions with 95% accuracy.\n",
      "\n",
      "Certifications\n",
      "----------\n",
      "- TensorFlow Developer Certificate\n",
      "- AWS Certified Machine Learning – Specialty\n",
      "\n",
      "References\n",
      "----------\n",
      "Available upon request.\n",
      "[2025-08-07 14:12:48,720|(INFO)| File: _client | Message: HTTP Request: POST https://api.groq.com/openai/v1/chat/completions \"HTTP/1.1 200 OK\"]\n"
     ]
    }
   ],
   "source": [
    "result = project_idea_chain.invoke({\n",
    "    \"file_path\": \"prompts/project_ideas_prompt.txt\",\n",
    "    \"resume_text\": sample_resume\n",
    "})"
   ]
  },
  {
   "cell_type": "code",
   "execution_count": 17,
   "id": "cd26e79c",
   "metadata": {},
   "outputs": [
    {
     "ename": "NameError",
     "evalue": "name 'Markdown' is not defined",
     "output_type": "error",
     "traceback": [
      "\u001b[31m---------------------------------------------------------------------------\u001b[39m",
      "\u001b[31mNameError\u001b[39m                                 Traceback (most recent call last)",
      "\u001b[36mCell\u001b[39m\u001b[36m \u001b[39m\u001b[32mIn[17]\u001b[39m\u001b[32m, line 1\u001b[39m\n\u001b[32m----> \u001b[39m\u001b[32m1\u001b[39m \u001b[43mMarkdown\u001b[49m(result.content)\n",
      "\u001b[31mNameError\u001b[39m: name 'Markdown' is not defined"
     ]
    }
   ],
   "source": [
    "Markdown(result.content)"
   ]
  },
  {
   "cell_type": "markdown",
   "id": "c566538f",
   "metadata": {},
   "source": [
    "#### Improvement Areas Chain"
   ]
  },
  {
   "cell_type": "code",
   "execution_count": 33,
   "id": "8228ac47",
   "metadata": {},
   "outputs": [],
   "source": [
    "improvement_areas_chain = JobRecommenderChain(\n",
    "    schema=ImprovementAreas)._get_chain(structured_output=False)    "
   ]
  },
  {
   "cell_type": "code",
   "execution_count": 67,
   "id": "9d1a5bc8",
   "metadata": {},
   "outputs": [
    {
     "name": "stdout",
     "output_type": "stream",
     "text": [
      "Analyze the provided resume and identify actionable recommendations to enhance its effectiveness for securing more job opportunities.\n",
      "\n",
      "Instructions:\n",
      "- Recommendations should be specific and based strictly on the resume content.\n",
      "- Do NOT rewrite the resume.\n",
      "- Structure your response in a readable bullet-point format.\n",
      "- Do NOT include a sample or revised resume.\n",
      "\n",
      "\n",
      "Here is the resume:\n",
      "Kirti Pogra\n",
      "Email: kirti.pogra@email.com | Phone: +1-234-567-8901 | LinkedIn: linkedin.com/in/kirtipogra\n",
      "\n",
      "Objective\n",
      "----------\n",
      "Passionate and results-driven Machine Learning Engineer with 3+ years of experience designing, developing, and deploying scalable ML solutions. Seeking to leverage expertise in deep learning, data analysis, and model optimization to contribute to innovative projects.\n",
      "\n",
      "Education\n",
      "----------\n",
      "M.S. in Computer Science\n",
      "XYZ University, 2021\n",
      "\n",
      "B.Tech in Information Technology\n",
      "ABC Institute of Technology, 2019\n",
      "\n",
      "Skills\n",
      "----------\n",
      "- Programming: Python, TensorFlow, PyTorch, Scikit-learn, SQL\n",
      "- Machine Learning: Supervised & Unsupervised Learning, Deep Learning, NLP, Computer Vision\n",
      "- Data Engineering: Pandas, NumPy, Data Preprocessing, Feature Engineering\n",
      "- Tools: Docker, Git, MLflow, AWS, Azure\n",
      "- Communication & Collaboration\n",
      "\n",
      "Experience\n",
      "----------\n",
      "Machine Learning Engineer | Tech Innovators Inc. | June 2021 – Present\n",
      "- Developed and deployed NLP models for automated resume screening, improving accuracy by 30%.\n",
      "- Built deep learning models for image classification, reducing error rate by 15%.\n",
      "- Collaborated with data scientists and software engineers to integrate ML solutions into production systems.\n",
      "- Optimized model performance and scalability using distributed training on cloud platforms.\n",
      "\n",
      "Data Science Intern | Smart Analytics Ltd. | Jan 2020 – May 2021\n",
      "- Assisted in building regression models for sales forecasting.\n",
      "- Performed data cleaning, feature selection, and exploratory data analysis.\n",
      "- Presented findings to stakeholders and contributed to project documentation.\n",
      "\n",
      "Projects\n",
      "----------\n",
      "- Sentiment Analysis Platform: Designed and deployed a sentiment analysis tool using BERT for real-time social media monitoring.\n",
      "- Fraud Detection System: Implemented an ensemble model to detect fraudulent transactions with 95% accuracy.\n",
      "\n",
      "Certifications\n",
      "----------\n",
      "- TensorFlow Developer Certificate\n",
      "- AWS Certified Machine Learning – Specialty\n",
      "\n",
      "References\n",
      "----------\n",
      "Available upon request.\n",
      "\n",
      "[2025-08-07 15:32:52,852|(INFO)| File: _client | Message: HTTP Request: POST https://api.groq.com/openai/v1/chat/completions \"HTTP/1.1 200 OK\"]\n"
     ]
    }
   ],
   "source": [
    "result = improvement_areas_chain.invoke({\n",
    "    \"file_path\": \"prompts/wycd_prompt.txt\",\n",
    "    \"resume_text\": sample_resume\n",
    "})"
   ]
  },
  {
   "cell_type": "code",
   "execution_count": 68,
   "id": "13728656",
   "metadata": {},
   "outputs": [
    {
     "data": {
      "text/markdown": [
       "Here are actionable recommendations to enhance the effectiveness of the resume for securing more job opportunities:\n",
       "\n",
       "**Objective:**\n",
       "\n",
       "* Consider rephrasing the objective to make it more specific and concise. For example, instead of \"Passionate and results-driven Machine Learning Engineer,\" try \"Experienced Machine Learning Engineer seeking to leverage expertise in deep learning, data analysis, and model optimization to drive business value in innovative projects.\"\n",
       "\n",
       "**Education:**\n",
       "\n",
       "* Consider adding relevant coursework, projects, or academic achievements to demonstrate expertise in machine learning and computer science.\n",
       "* Consider removing the second degree (B.Tech in Information Technology) as it's not directly relevant to the job seeker's current career goals.\n",
       "\n",
       "**Skills:**\n",
       "\n",
       "* Consider adding more specific skills related to machine learning, such as knowledge of transfer learning, reinforcement learning, or attention mechanisms.\n",
       "* Consider reorganizing the skills section to group similar skills together (e.g., programming languages, machine learning frameworks, data engineering tools).\n",
       "\n",
       "**Experience:**\n",
       "\n",
       "* Consider adding more specific metrics to quantify the impact of the projects, such as \"Improved customer satisfaction by 25% through personalized product recommendations\" instead of \"Improved accuracy by 30%\".\n",
       "* Consider highlighting achievements that demonstrate leadership, such as \"Led a team to develop and deploy a predictive maintenance model\" instead of \"Collaborated with data scientists and software engineers\".\n",
       "* Consider removing the \"Data Science Intern\" role as it's not directly relevant to the job seeker's current experience and expertise.\n",
       "\n",
       "**Projects:**\n",
       "\n",
       "* Consider adding more details about the projects, such as the problem statement, methodology, and results. This will help demonstrate the job seeker's skills and expertise.\n",
       "* Consider removing the \"Sentiment Analysis Platform\" project as it's not directly related to the job seeker's current experience and expertise.\n",
       "\n",
       "**Certifications:**\n",
       "\n",
       "* Consider adding more certifications or relevant training programs to demonstrate expertise and commitment to staying up-to-date with industry developments.\n",
       "* Consider highlighting the relevance of the certifications to the job seeker's current job role and responsibilities.\n",
       "\n",
       "Overall, the resume is strong, and the job seeker has a solid foundation to build upon. By refining the objective, education, skills, experience, projects, and certifications sections, the job seeker can make their resume more effective at securing job opportunities."
      ],
      "text/plain": [
       "<IPython.core.display.Markdown object>"
      ]
     },
     "execution_count": 68,
     "metadata": {},
     "output_type": "execute_result"
    }
   ],
   "source": [
    "Markdown(result.content)"
   ]
  },
  {
   "cell_type": "markdown",
   "id": "ac5a961e",
   "metadata": {},
   "source": [
    "### Final chain"
   ]
  },
  {
   "cell_type": "code",
   "execution_count": 60,
   "id": "d7efb40e",
   "metadata": {},
   "outputs": [],
   "source": [
    "from langchain.schema.runnable import RunnableParallel\n",
    "from langchain_core.runnables import RunnableLambda"
   ]
  },
  {
   "cell_type": "code",
   "execution_count": 61,
   "id": "01f4e959",
   "metadata": {},
   "outputs": [],
   "source": [
    "def create_path(folder_path,file_name):\n",
    "    return os.path.join(folder_path,file_name)"
   ]
  },
  {
   "cell_type": "code",
   "execution_count": 7,
   "id": "41dbd02a",
   "metadata": {},
   "outputs": [],
   "source": [
    "def safe_dict_access(x, key):\n",
    "    # print(x,key)\n",
    "    if not isinstance(x, dict):\n",
    "        raise TypeError(f\"Input to chain must be a dict, got {type(x)}\")\n",
    "    return x[key]\n",
    "\n",
    "\n",
    "# summary_chain = RunnableLambda(\n",
    "#     lambda x: resume_summary_chain.invoke({\n",
    "#         \"file_path\": create_path(safe_dict_access(x, 'folder_path'), \"summary_prompt.txt\"),\n",
    "#         \"resume_text\": safe_dict_access(x, \"resume\")\n",
    "#     })\n",
    "# )\n",
    "\n",
    "# keyword_chain = RunnableLambda(\n",
    "#     lambda x: keywords_chain.invoke({\n",
    "#         \"file_path\": create_path(safe_dict_access(x, 'folder_path'), \"keyword_prompt.txt\"),\n",
    "#         \"summary\": safe_dict_access(x, \"summary\")\n",
    "#     })\n",
    "# )\n"
   ]
  },
  {
   "cell_type": "code",
   "execution_count": 31,
   "id": "2734a580",
   "metadata": {},
   "outputs": [],
   "source": [
    "# from langchain_core.runnables import RunnableSequence"
   ]
  },
  {
   "cell_type": "code",
   "execution_count": null,
   "id": "c0aee735",
   "metadata": {},
   "outputs": [],
   "source": [
    "# job_recommendation_chain = RunnableSequence(\n",
    "#     lambda x: {\n",
    "#         \"folder_path\": x[\"folder_path\"],  # store it for later\n",
    "#         \"summary\": summary_chain.invoke(x)\n",
    "#     },\n",
    "#     lambda x: keyword_chain.invoke({\n",
    "#         \"folder_path\": x['folder_path'],\n",
    "#         \"summary\": x[\"summary\"]\n",
    "#     })\n",
    "# )"
   ]
  },
  {
   "cell_type": "code",
   "execution_count": 8,
   "id": "6acaeef1",
   "metadata": {},
   "outputs": [
    {
     "name": "stdout",
     "output_type": "stream",
     "text": [
      "Kirti Pogra\n",
      "Email: kirti.pogra@email.com | Phone: +1-234-567-8901 | LinkedIn: linkedin.com/in/kirtipogra\n",
      "\n",
      "Objective\n",
      "----------\n",
      "Passionate and results-driven Machine Learning Engineer with 3+ years of experience designing, developing, and deploying scalable ML solutions. Seeking to leverage expertise in deep learning, data analysis, and model optimization to contribute to innovative projects.\n",
      "\n",
      "Education\n",
      "----------\n",
      "M.S. in Computer Science\n",
      "XYZ University, 2021\n",
      "\n",
      "B.Tech in Information Technology\n",
      "ABC Institute of Technology, 2019\n",
      "\n",
      "Skills\n",
      "----------\n",
      "- Programming: Python, TensorFlow, PyTorch, Scikit-learn, SQL\n",
      "- Machine Learning: Supervised & Unsupervised Learning, Deep Learning, NLP, Computer Vision\n",
      "- Data Engineering: Pandas, NumPy, Data Preprocessing, Feature Engineering\n",
      "- Tools: Docker, Git, MLflow, AWS, Azure\n",
      "- Communication & Collaboration\n",
      "\n",
      "Experience\n",
      "----------\n",
      "Machine Learning Engineer | Tech Innovators Inc. | June 2021 – Present\n",
      "- Developed and deployed NLP models for automated resume screening, improving accuracy by 30%.\n",
      "- Built deep learning models for image classification, reducing error rate by 15%.\n",
      "- Collaborated with data scientists and software engineers to integrate ML solutions into production systems.\n",
      "- Optimized model performance and scalability using distributed training on cloud platforms.\n",
      "\n",
      "Data Science Intern | Smart Analytics Ltd. | Jan 2020 – May 2021\n",
      "- Assisted in building regression models for sales forecasting.\n",
      "- Performed data cleaning, feature selection, and exploratory data analysis.\n",
      "- Presented findings to stakeholders and contributed to project documentation.\n",
      "\n",
      "Projects\n",
      "----------\n",
      "- Sentiment Analysis Platform: Designed and deployed a sentiment analysis tool using BERT for real-time social media monitoring.\n",
      "- Fraud Detection System: Implemented an ensemble model to detect fraudulent transactions with 95% accuracy.\n",
      "\n",
      "Certifications\n",
      "----------\n",
      "- TensorFlow Developer Certificate\n",
      "- AWS Certified Machine Learning – Specialty\n",
      "\n",
      "References\n",
      "----------\n",
      "Available upon request.\n"
     ]
    }
   ],
   "source": [
    "print(sample_resume)"
   ]
  },
  {
   "cell_type": "code",
   "execution_count": null,
   "id": "63d8e766",
   "metadata": {},
   "outputs": [],
   "source": [
    "# result = job_recommendation_chain.invoke({\n",
    "#     \"folder_path\": \"prompts/\",\n",
    "#     \"resume\": sample_resume,\n",
    "# })"
   ]
  },
  {
   "cell_type": "code",
   "execution_count": 19,
   "id": "f9dab394",
   "metadata": {},
   "outputs": [],
   "source": [
    "keywords_chain = RunnableLambda(\n",
    "    lambda x: keyword_chain.invoke({\n",
    "        \"file_path\": create_path(safe_dict_access(x, 'folder_path'), \"keyword_prompt.txt\"),\n",
    "        \"resume_text\": safe_dict_access(x, \"resume\")\n",
    "    })\n",
    ")\n",
    "\n",
    "skill_gap_chain = RunnableLambda(\n",
    "    lambda x: find_skill_gap_chain.invoke({\n",
    "        \"file_path\": create_path(safe_dict_access(x, 'folder_path'), \"finding_skill_gap_prompt.txt\"),\n",
    "        \"resume_text\": safe_dict_access(x,\"resume\")\n",
    "    })\n",
    ")\n",
    "\n",
    "projects_idea_chain = RunnableLambda(\n",
    "    lambda x: project_idea_chain.invoke({\n",
    "        \"file_path\": create_path(safe_dict_access(x, 'folder_path'), \"project_ideas_prompt.txt\"),\n",
    "        \"resume_text\": safe_dict_access(x,\"resume\")\n",
    "    })\n",
    ")\n",
    "\n",
    "improvements_areas_chain = RunnableLambda(\n",
    "    lambda x: improvement_areas_chain.invoke({\n",
    "        \"file_path\": create_path(safe_dict_access(x, 'folder_path'), \"wycd_prompt.txt\"),\n",
    "        \"resume_text\": safe_dict_access(x,\"resume\")\n",
    "    })\n",
    ")"
   ]
  },
  {
   "cell_type": "code",
   "execution_count": 20,
   "id": "6117315d",
   "metadata": {},
   "outputs": [],
   "source": [
    "suggestions_chain = RunnableParallel({\n",
    "        \"find_skill_gap\": skill_gap_chain, \n",
    "        \"project_ideas\": projects_idea_chain,\n",
    "        \"improvement_areas\": improvements_areas_chain\n",
    "    })     "
   ]
  },
  {
   "cell_type": "code",
   "execution_count": 21,
   "id": "4748fbce",
   "metadata": {},
   "outputs": [
    {
     "name": "stdout",
     "output_type": "stream",
     "text": [
      "Analyze the following resume. Based on the candidate's skills, education, and experience, suggest **5 specific project ideas** that will improve the resume and enhance job opportunities.\n",
      "\n",
      "Each project idea should include:\n",
      "1. **Title** of the project\n",
      "2. A **2-3 line description** explaining what it is and what the candidate will learn or demonstrate by doing it.\n",
      "3. Align the project with the candidate's background.\n",
      "\n",
      "Only return a single structured string containing these 5 ideas clearly and concisely.\n",
      "Here is the resume:\n",
      "Kirti Pogra\n",
      "Email: kirti.pogra@email.com | Phone: +1-234-567-8901 | LinkedIn: linkedin.com/in/kirtipogra\n",
      "\n",
      "Objective\n",
      "----------\n",
      "Passionate and results-driven Machine Learning Engineer with 3+ years of experience designing, developing, and deploying scalable ML solutions. Seeking to leverage expertise in deep learning, data analysis, and model optimization to contribute to innovative projects.\n",
      "\n",
      "Education\n",
      "----------\n",
      "M.S. in Computer Science\n",
      "XYZ University, 2021\n",
      "\n",
      "B.Tech in Information Technology\n",
      "ABC Institute of Technology, 2019\n",
      "\n",
      "Skills\n",
      "----------\n",
      "- Programming: Python, TensorFlow, PyTorch, Scikit-learn, SQL\n",
      "- Machine Learning: Supervised & Unsupervised Learning, Deep Learning, NLP, Computer Vision\n",
      "- Data Engineering: Pandas, NumPy, Data Preprocessing, Feature Engineering\n",
      "- Tools: Docker, Git, MLflow, AWS, Azure\n",
      "- Communication & Collaboration\n",
      "\n",
      "Experience\n",
      "----------\n",
      "Machine Learning Engineer | Tech Innovators Inc. | June 2021 – Present\n",
      "- Developed and deployed NLP models for automated resume screening, improving accuracy by 30%.\n",
      "- Built deep learning models for image classification, reducing error rate by 15%.\n",
      "- Collaborated with data scientists and software engineers to integrate ML solutions into production systems.\n",
      "- Optimized model performance and scalability using distributed training on cloud platforms.\n",
      "\n",
      "Data Science Intern | Smart Analytics Ltd. | Jan 2020 – May 2021\n",
      "- Assisted in building regression models for sales forecasting.\n",
      "- Performed data cleaning, feature selection, and exploratory data analysis.\n",
      "- Presented findings to stakeholders and contributed to project documentation.\n",
      "\n",
      "Projects\n",
      "----------\n",
      "- Sentiment Analysis Platform: Designed and deployed a sentiment analysis tool using BERT for real-time social media monitoring.\n",
      "- Fraud Detection System: Implemented an ensemble model to detect fraudulent transactions with 95% accuracy.\n",
      "\n",
      "Certifications\n",
      "----------\n",
      "- TensorFlow Developer Certificate\n",
      "- AWS Certified Machine Learning – Specialty\n",
      "\n",
      "References\n",
      "----------\n",
      "Available upon request.Analyze the provided resume and identify actionable recommendations to enhance its effectiveness for securing more job opportunities. \n",
      "recommendations should be related to the resume's content. \n",
      "Here is the resume:\n",
      "Kirti Pogra\n",
      "Email: kirti.pogra@email.com | Phone: +1-234-567-8901 | LinkedIn: linkedin.com/in/kirtipogra\n",
      "\n",
      "Objective\n",
      "----------\n",
      "Passionate and results-driven Machine Learning Engineer with 3+ years of experience designing, developing, and deploying scalable ML solutions. Seeking to leverage expertise in deep learning, data analysis, and model optimization to contribute to innovative projects.\n",
      "\n",
      "Education\n",
      "----------\n",
      "M.S. in Computer Science\n",
      "XYZ University, 2021\n",
      "\n",
      "B.Tech in Information Technology\n",
      "ABC Institute of Technology, 2019\n",
      "\n",
      "Skills\n",
      "----------\n",
      "- Programming: Python, TensorFlow, PyTorch, Scikit-learn, SQL\n",
      "- Machine Learning: Supervised & Unsupervised Learning, Deep Learning, NLP, Computer Vision\n",
      "- Data Engineering: Pandas, NumPy, Data Preprocessing, Feature Engineering\n",
      "- Tools: Docker, Git, MLflow, AWS, Azure\n",
      "- Communication & Collaboration\n",
      "\n",
      "Experience\n",
      "----------\n",
      "Machine Learning Engineer | Tech Innovators Inc. | June 2021 – Present\n",
      "- Developed and deployed NLP models for automated resume screening, improving accuracy by 30%.\n",
      "- Built deep learning models for image classification, reducing error rate by 15%.\n",
      "- Collaborated with data scientists and software engineers to integrate ML solutions into production systems.\n",
      "- Optimized model performance and scalability using distributed training on cloud platforms.\n",
      "\n",
      "Data Science Intern | Smart Analytics Ltd. | Jan 2020 – May 2021\n",
      "- Assisted in building regression models for sales forecasting.\n",
      "- Performed data cleaning, feature selection, and exploratory data analysis.\n",
      "- Presented findings to stakeholders and contributed to project documentation.\n",
      "\n",
      "Projects\n",
      "----------\n",
      "- Sentiment Analysis Platform: Designed and deployed a sentiment analysis tool using BERT for real-time social media monitoring.\n",
      "- Fraud Detection System: Implemented an ensemble model to detect fraudulent transactions with 95% accuracy.\n",
      "\n",
      "Certifications\n",
      "----------\n",
      "- TensorFlow Developer Certificate\n",
      "- AWS Certified Machine Learning – Specialty\n",
      "\n",
      "References\n",
      "----------\n",
      "Available upon request.\n",
      "\n",
      "Note: Always Conclude with a positive and encouraging message, acknowledging the strengths and accomplishments demonstrated in the resume.\n",
      "Carefully analyze the following resume and identify **missing skills** that are currently in demand for tech jobs (Machine Learning, AI, Data Science).\n",
      "\n",
      "Only include skills that are NOT already mentioned in the resume.\n",
      "\n",
      "For each missing skill, return the following:\n",
      "1. **Skill Name**: (One line)\n",
      "2. **Description**: A short description of the skill/tool/technology/methodology and its relevance in the current ML/AI job market.\n",
      "3. **Importance**: Why learning or having this skill would improve the candidate’s career prospects.\n",
      "\n",
      "Format the response clearly and presentably with bullets or sections for each skill.\n",
      "\n",
      "Resume:\n",
      "\"\"\"\n",
      "Kirti Pogra\n",
      "Email: kirti.pogra@email.com | Phone: +1-234-567-8901 | LinkedIn: linkedin.com/in/kirtipogra\n",
      "\n",
      "Objective\n",
      "----------\n",
      "Passionate and results-driven Machine Learning Engineer with 3+ years of experience designing, developing, and deploying scalable ML solutions. Seeking to leverage expertise in deep learning, data analysis, and model optimization to contribute to innovative projects.\n",
      "\n",
      "Education\n",
      "----------\n",
      "M.S. in Computer Science\n",
      "XYZ University, 2021\n",
      "\n",
      "B.Tech in Information Technology\n",
      "ABC Institute of Technology, 2019\n",
      "\n",
      "Skills\n",
      "----------\n",
      "- Programming: Python, TensorFlow, PyTorch, Scikit-learn, SQL\n",
      "- Machine Learning: Supervised & Unsupervised Learning, Deep Learning, NLP, Computer Vision\n",
      "- Data Engineering: Pandas, NumPy, Data Preprocessing, Feature Engineering\n",
      "- Tools: Docker, Git, MLflow, AWS, Azure\n",
      "- Communication & Collaboration\n",
      "\n",
      "Experience\n",
      "----------\n",
      "Machine Learning Engineer | Tech Innovators Inc. | June 2021 – Present\n",
      "- Developed and deployed NLP models for automated resume screening, improving accuracy by 30%.\n",
      "- Built deep learning models for image classification, reducing error rate by 15%.\n",
      "- Collaborated with data scientists and software engineers to integrate ML solutions into production systems.\n",
      "- Optimized model performance and scalability using distributed training on cloud platforms.\n",
      "\n",
      "Data Science Intern | Smart Analytics Ltd. | Jan 2020 – May 2021\n",
      "- Assisted in building regression models for sales forecasting.\n",
      "- Performed data cleaning, feature selection, and exploratory data analysis.\n",
      "- Presented findings to stakeholders and contributed to project documentation.\n",
      "\n",
      "Projects\n",
      "----------\n",
      "- Sentiment Analysis Platform: Designed and deployed a sentiment analysis tool using BERT for real-time social media monitoring.\n",
      "- Fraud Detection System: Implemented an ensemble model to detect fraudulent transactions with 95% accuracy.\n",
      "\n",
      "Certifications\n",
      "----------\n",
      "- TensorFlow Developer Certificate\n",
      "- AWS Certified Machine Learning – Specialty\n",
      "\n",
      "References\n",
      "----------\n",
      "Available upon request.\n",
      "\"\"\"\n",
      "\n",
      "[2025-08-07 15:06:30,537|(INFO)| File: _client | Message: HTTP Request: POST https://api.groq.com/openai/v1/chat/completions \"HTTP/1.1 200 OK\"]\n",
      "[2025-08-07 15:06:30,678|(INFO)| File: _client | Message: HTTP Request: POST https://api.groq.com/openai/v1/chat/completions \"HTTP/1.1 200 OK\"]\n",
      "[2025-08-07 15:06:30,790|(INFO)| File: _client | Message: HTTP Request: POST https://api.groq.com/openai/v1/chat/completions \"HTTP/1.1 200 OK\"]\n"
     ]
    }
   ],
   "source": [
    "suggestion_result = suggestions_chain.invoke({\n",
    "    \"folder_path\": \"prompts/\",\n",
    "    \"resume\": sample_resume\n",
    "})"
   ]
  },
  {
   "cell_type": "code",
   "execution_count": 22,
   "id": "35ed00f6",
   "metadata": {},
   "outputs": [
    {
     "data": {
      "text/plain": [
       "{'find_skill_gap': AIMessage(content=\"After analyzing the resume, I've identified the following missing skills that are currently in demand for tech jobs in Machine Learning, AI, and Data Science:\\n\\n**Missing Skills:**\\n\\n**1. Skill Name:** Transfer Learning\\n\\n**Description:** Transfer learning is a technique where a pre-trained model is fine-tuned on a new dataset to adapt to a specific task. This is particularly useful in scenarios where there is limited labeled data or when the target task is similar to the source task. Transfer learning is widely used in deep learning and has applications in computer vision, natural language processing, and more.\\n\\n**Importance:** Familiarity with transfer learning would allow the candidate to leverage pre-trained models and adapt them to new tasks, reducing the need for extensive data collection and training from scratch. This skill is highly relevant in today's ML/AI job market, where data efficiency and scalability are crucial.\\n\\n**2. Skill Name:** Explainable AI (XAI)\\n\\n**Description:** Explainable AI refers to the practice of designing AI systems that provide insights into their decision-making processes, making them more transparent and accountable. XAI is essential in high-stakes applications, such as healthcare, finance, and law enforcement, where trust and accountability are paramount.\\n\\n**Importance:** Knowledge of XAI would enable the candidate to design and develop AI systems that are more transparent and explainable, addressing concerns around fairness, accountability, and trust. This skill is gaining importance in the ML/AI job market, as organizations increasingly prioritize transparency and explainability in their AI solutions.\\n\\n**3. Skill Name:** Reinforcement Learning\\n\\n**Description:** Reinforcement learning is a type of machine learning that involves training agents to make decisions in complex, dynamic environments. This skill is particularly relevant in applications such as robotics, game playing, and autonomous systems.\\n\\n**Importance:** Familiarity with reinforcement learning would allow the candidate to develop intelligent agents that can learn from interactions with their environment and make decisions based on rewards and penalties. This skill is highly sought after in the ML/AI job market, as organizations increasingly focus on developing intelligent systems that can interact with and adapt to their environments.\\n\\n**4. Skill Name:** Natural Language Processing (NLP) with Specialized Libraries\\n\\n**Description:** NLP is a subfield of AI that focuses on the interaction between computers and humans in natural language. Familiarity with specialized libraries such as spaCy, NLTK, or Stanford CoreNLP would enable the candidate to work with NLP tasks such as text classification, sentiment analysis, and named entity recognition.\\n\\n**Importance:** Knowledge of NLP with specialized libraries would allow the candidate to develop more sophisticated NLP applications, such as chatbots, language translation systems, and text summarization\", additional_kwargs={}, response_metadata={'token_usage': {'completion_tokens': 550, 'prompt_tokens': 545, 'total_tokens': 1095, 'completion_time': 0.494692461, 'prompt_time': 0.123389541, 'queue_time': 0.314913479, 'total_time': 0.618082002}, 'model_name': 'llama3-8b-8192', 'system_fingerprint': 'fp_0fb809dba3', 'service_tier': 'on_demand', 'finish_reason': 'length', 'logprobs': None}, id='run--35478697-4cdd-4d56-9d20-0808a48f2b78-0', usage_metadata={'input_tokens': 545, 'output_tokens': 550, 'total_tokens': 1095}),\n",
       " 'project_ideas': AIMessage(content=\"Here are 5 specific project ideas that will improve the resume and enhance job opportunities:\\n\\n**1.** **Image Segmentation for Medical Diagnosis**: Develop a deep learning-based image segmentation model to identify tumors in medical images, leveraging skills in computer vision and deep learning. This project will demonstrate the candidate's ability to apply machine learning to a real-world problem and work with medical datasets.\\n\\n**2.** **Natural Language Processing for Text Summarization**: Design and implement a text summarization model using transformer-based architectures, such as BERT or RoBERTa, to summarize long documents or articles. This project will showcase the candidate's expertise in NLP and ability to work with large datasets.\\n\\n**3.** **Time Series Forecasting for Energy Consumption**: Develop a machine learning model to predict energy consumption patterns using historical data, leveraging skills in data analysis and feature engineering. This project will demonstrate the candidate's ability to work with large datasets and apply machine learning to a real-world problem.\\n\\n**4.** **Anomaly Detection for Cybersecurity**: Implement an anomaly detection model using one-class SVM or isolation forest to identify unusual network traffic patterns, leveraging skills in supervised learning and data engineering. This project will showcase the candidate's ability to apply machine learning to a cybersecurity context.\\n\\n**5.** **Explainable AI for Model Interpretability**: Develop an explainable AI model using techniques such as LIME or SHAP to interpret and explain the predictions of a pre-trained model, leveraging skills in deep learning and data analysis. This project will demonstrate the candidate's ability to work with complex models and communicate insights to stakeholders.\\n\\nThese project ideas align with the candidate's background in machine learning, deep learning, and data analysis, and will help to enhance their job opportunities by showcasing their skills and expertise in various areas of machine learning.\", additional_kwargs={}, response_metadata={'token_usage': {'completion_tokens': 365, 'prompt_tokens': 527, 'total_tokens': 892, 'completion_time': 0.370956969, 'prompt_time': 0.059458037, 'queue_time': 0.265894784, 'total_time': 0.430415006}, 'model_name': 'llama3-8b-8192', 'system_fingerprint': 'fp_5b339000ab', 'service_tier': 'on_demand', 'finish_reason': 'stop', 'logprobs': None}, id='run--b980432b-8d60-4343-bd2e-0cd107ff4814-0', usage_metadata={'input_tokens': 527, 'output_tokens': 365, 'total_tokens': 892}),\n",
       " 'improvement_areas': AIMessage(content='Here are some actionable recommendations to enhance the effectiveness of the resume:\\n\\n1. **Quantify achievements**: While the resume provides some numerical data (e.g., \"improving accuracy by 30%\"), it could benefit from more specific and detailed metrics. For example, instead of \"reducing error rate by 15%\", consider \"reducing error rate from 20% to 5% in just 6 weeks\".\\n2. **Emphasize impact**: While the resume lists various skills and tools, it would be more effective to focus on the impact these skills have had on the projects and companies. For instance, instead of \"Built deep learning models for image classification\", consider \"Built deep learning models for image classification, resulting in a 25% increase in accurate predictions and a 15% reduction in processing time\".\\n3. **Use action verbs consistently**: The resume uses a mix of action verbs (e.g., \"Developed\", \"Built\", \"Assisted\", \"Performed\"). To improve consistency, consider using a standard set of action verbs throughout the resume, such as \"Designed\", \"Developed\", \"Implemented\", and \"Optimized\".\\n4. **Highlight achievements over responsibilities**: While the resume provides a good balance between responsibilities and achievements, it could benefit from more emphasis on the achievements. Consider rephrasing some bullet points to focus on the specific accomplishments rather than the tasks performed.\\n5. **Organize projects section**: The Projects section is a great way to showcase expertise and creativity. Consider organizing this section by category (e.g., NLP, Computer Vision, etc.) or by the type of project (e.g., competition, personal, etc.) to make it easier for the reader to scan and understand.\\n6. **Remove redundant information**: The resume mentions both \"Machine Learning\" and \"Deep Learning\" skills under the Skills section. Consider removing the redundant information and focusing on the most relevant skills.\\n7. **Use bullet points consistently**: The resume uses a mix of bullet points and paragraphs. To improve consistency, consider using bullet points throughout the resume to make it easier to scan and read.\\n8. **Consider adding a summary or summary of qualifications**: The resume could benefit from a brief summary or summary of qualifications at the top to provide a quick overview of the candidate\\'s experience, skills, and achievements.\\n\\nHere\\'s a revised version of the resume incorporating these recommendations:\\n\\nKirti Pogra\\nEmail: kirti.pogra@email.com | Phone: +1-234-567-8901 | LinkedIn: linkedin.com/in/kirtipogra\\n\\nSummary:\\nResults-driven Machine Learning Engineer with 3+ years of experience designing, developing, and deploying scalable ML solutions. Proven track', additional_kwargs={}, response_metadata={'token_usage': {'completion_tokens': 550, 'prompt_tokens': 477, 'total_tokens': 1027, 'completion_time': 0.495021026, 'prompt_time': 0.053701358, 'queue_time': 0.267608522, 'total_time': 0.548722384}, 'model_name': 'llama3-8b-8192', 'system_fingerprint': 'fp_0fb809dba3', 'service_tier': 'on_demand', 'finish_reason': 'length', 'logprobs': None}, id='run--e9b6e172-2dd4-4888-9dea-06403c62df96-0', usage_metadata={'input_tokens': 477, 'output_tokens': 550, 'total_tokens': 1027})}"
      ]
     },
     "execution_count": 22,
     "metadata": {},
     "output_type": "execute_result"
    }
   ],
   "source": [
    "suggestion_result"
   ]
  },
  {
   "cell_type": "code",
   "execution_count": 24,
   "id": "9f5e0d44",
   "metadata": {},
   "outputs": [
    {
     "data": {
      "text/plain": [
       "dict_keys(['find_skill_gap', 'project_ideas', 'improvement_areas'])"
      ]
     },
     "execution_count": 24,
     "metadata": {},
     "output_type": "execute_result"
    }
   ],
   "source": [
    "suggestion_result.keys()"
   ]
  },
  {
   "cell_type": "code",
   "execution_count": null,
   "id": "8e6b0df6",
   "metadata": {},
   "outputs": [
    {
     "data": {
      "text/markdown": [
       "After analyzing the resume, I've identified the following missing skills that are currently in demand for tech jobs in Machine Learning, AI, and Data Science:\n",
       "\n",
       "**Missing Skills:**\n",
       "\n",
       "**1. Skill Name:** Transfer Learning\n",
       "\n",
       "**Description:** Transfer learning is a technique where a pre-trained model is fine-tuned on a new dataset to adapt to a specific task. This is particularly useful in scenarios where there is limited labeled data or when the target task is similar to the source task. Transfer learning is widely used in deep learning and has applications in computer vision, natural language processing, and more.\n",
       "\n",
       "**Importance:** Familiarity with transfer learning would allow the candidate to leverage pre-trained models and adapt them to new tasks, reducing the need for extensive data collection and training from scratch. This skill is highly relevant in today's ML/AI job market, where data efficiency and scalability are crucial.\n",
       "\n",
       "**2. Skill Name:** Explainable AI (XAI)\n",
       "\n",
       "**Description:** Explainable AI refers to the practice of designing AI systems that provide insights into their decision-making processes, making them more transparent and accountable. XAI is essential in high-stakes applications, such as healthcare, finance, and law enforcement, where trust and accountability are paramount.\n",
       "\n",
       "**Importance:** Knowledge of XAI would enable the candidate to design and develop AI systems that are more transparent and explainable, addressing concerns around fairness, accountability, and trust. This skill is gaining importance in the ML/AI job market, as organizations increasingly prioritize transparency and explainability in their AI solutions.\n",
       "\n",
       "**3. Skill Name:** Reinforcement Learning\n",
       "\n",
       "**Description:** Reinforcement learning is a type of machine learning that involves training agents to make decisions in complex, dynamic environments. This skill is particularly relevant in applications such as robotics, game playing, and autonomous systems.\n",
       "\n",
       "**Importance:** Familiarity with reinforcement learning would allow the candidate to develop intelligent agents that can learn from interactions with their environment and make decisions based on rewards and penalties. This skill is highly sought after in the ML/AI job market, as organizations increasingly focus on developing intelligent systems that can interact with and adapt to their environments.\n",
       "\n",
       "**4. Skill Name:** Natural Language Processing (NLP) with Specialized Libraries\n",
       "\n",
       "**Description:** NLP is a subfield of AI that focuses on the interaction between computers and humans in natural language. Familiarity with specialized libraries such as spaCy, NLTK, or Stanford CoreNLP would enable the candidate to work with NLP tasks such as text classification, sentiment analysis, and named entity recognition.\n",
       "\n",
       "**Importance:** Knowledge of NLP with specialized libraries would allow the candidate to develop more sophisticated NLP applications, such as chatbots, language translation systems, and text summarization"
      ],
      "text/plain": [
       "<IPython.core.display.Markdown object>"
      ]
     },
     "execution_count": 29,
     "metadata": {},
     "output_type": "execute_result"
    }
   ],
   "source": [
    "from IPython.display import Markdown\n",
    "(Markdown(suggestion_result['find_skill_gap'].content))"
   ]
  },
  {
   "cell_type": "code",
   "execution_count": 30,
   "id": "eca5c344",
   "metadata": {},
   "outputs": [
    {
     "data": {
      "text/markdown": [
       "Here are 5 specific project ideas that will improve the resume and enhance job opportunities:\n",
       "\n",
       "**1.** **Image Segmentation for Medical Diagnosis**: Develop a deep learning-based image segmentation model to identify tumors in medical images, leveraging skills in computer vision and deep learning. This project will demonstrate the candidate's ability to apply machine learning to a real-world problem and work with medical datasets.\n",
       "\n",
       "**2.** **Natural Language Processing for Text Summarization**: Design and implement a text summarization model using transformer-based architectures, such as BERT or RoBERTa, to summarize long documents or articles. This project will showcase the candidate's expertise in NLP and ability to work with large datasets.\n",
       "\n",
       "**3.** **Time Series Forecasting for Energy Consumption**: Develop a machine learning model to predict energy consumption patterns using historical data, leveraging skills in data analysis and feature engineering. This project will demonstrate the candidate's ability to work with large datasets and apply machine learning to a real-world problem.\n",
       "\n",
       "**4.** **Anomaly Detection for Cybersecurity**: Implement an anomaly detection model using one-class SVM or isolation forest to identify unusual network traffic patterns, leveraging skills in supervised learning and data engineering. This project will showcase the candidate's ability to apply machine learning to a cybersecurity context.\n",
       "\n",
       "**5.** **Explainable AI for Model Interpretability**: Develop an explainable AI model using techniques such as LIME or SHAP to interpret and explain the predictions of a pre-trained model, leveraging skills in deep learning and data analysis. This project will demonstrate the candidate's ability to work with complex models and communicate insights to stakeholders.\n",
       "\n",
       "These project ideas align with the candidate's background in machine learning, deep learning, and data analysis, and will help to enhance their job opportunities by showcasing their skills and expertise in various areas of machine learning."
      ],
      "text/plain": [
       "<IPython.core.display.Markdown object>"
      ]
     },
     "execution_count": 30,
     "metadata": {},
     "output_type": "execute_result"
    }
   ],
   "source": [
    "Markdown(suggestion_result['project_ideas'].content)"
   ]
  },
  {
   "cell_type": "code",
   "execution_count": 31,
   "id": "cf74225d",
   "metadata": {},
   "outputs": [
    {
     "data": {
      "text/markdown": [
       "Here are some actionable recommendations to enhance the effectiveness of the resume:\n",
       "\n",
       "1. **Quantify achievements**: While the resume provides some numerical data (e.g., \"improving accuracy by 30%\"), it could benefit from more specific and detailed metrics. For example, instead of \"reducing error rate by 15%\", consider \"reducing error rate from 20% to 5% in just 6 weeks\".\n",
       "2. **Emphasize impact**: While the resume lists various skills and tools, it would be more effective to focus on the impact these skills have had on the projects and companies. For instance, instead of \"Built deep learning models for image classification\", consider \"Built deep learning models for image classification, resulting in a 25% increase in accurate predictions and a 15% reduction in processing time\".\n",
       "3. **Use action verbs consistently**: The resume uses a mix of action verbs (e.g., \"Developed\", \"Built\", \"Assisted\", \"Performed\"). To improve consistency, consider using a standard set of action verbs throughout the resume, such as \"Designed\", \"Developed\", \"Implemented\", and \"Optimized\".\n",
       "4. **Highlight achievements over responsibilities**: While the resume provides a good balance between responsibilities and achievements, it could benefit from more emphasis on the achievements. Consider rephrasing some bullet points to focus on the specific accomplishments rather than the tasks performed.\n",
       "5. **Organize projects section**: The Projects section is a great way to showcase expertise and creativity. Consider organizing this section by category (e.g., NLP, Computer Vision, etc.) or by the type of project (e.g., competition, personal, etc.) to make it easier for the reader to scan and understand.\n",
       "6. **Remove redundant information**: The resume mentions both \"Machine Learning\" and \"Deep Learning\" skills under the Skills section. Consider removing the redundant information and focusing on the most relevant skills.\n",
       "7. **Use bullet points consistently**: The resume uses a mix of bullet points and paragraphs. To improve consistency, consider using bullet points throughout the resume to make it easier to scan and read.\n",
       "8. **Consider adding a summary or summary of qualifications**: The resume could benefit from a brief summary or summary of qualifications at the top to provide a quick overview of the candidate's experience, skills, and achievements.\n",
       "\n",
       "Here's a revised version of the resume incorporating these recommendations:\n",
       "\n",
       "Kirti Pogra\n",
       "Email: kirti.pogra@email.com | Phone: +1-234-567-8901 | LinkedIn: linkedin.com/in/kirtipogra\n",
       "\n",
       "Summary:\n",
       "Results-driven Machine Learning Engineer with 3+ years of experience designing, developing, and deploying scalable ML solutions. Proven track"
      ],
      "text/plain": [
       "<IPython.core.display.Markdown object>"
      ]
     },
     "execution_count": 31,
     "metadata": {},
     "output_type": "execute_result"
    }
   ],
   "source": [
    "Markdown(suggestion_result['improvement_areas'].content)"
   ]
  },
  {
   "cell_type": "code",
   "execution_count": 32,
   "id": "cbb06cb4",
   "metadata": {},
   "outputs": [
    {
     "name": "stdout",
     "output_type": "stream",
     "text": [
      "            +---------------------------------------------------------------+              \n",
      "            | Parallel<find_skill_gap,project_ideas,improvement_areas>Input |              \n",
      "            +---------------------------------------------------------------+              \n",
      "                          *****              *              *****                          \n",
      "                    ******                   *                   ******                    \n",
      "                 ***                         *                         ***                 \n",
      "   +--------------+                  +--------------+                  +--------------+    \n",
      "   | _load_prompt |                  | _load_prompt |                  | _load_prompt |    \n",
      "   +--------------+                  +--------------+                  +--------------+    \n",
      "           *                                 *                                 *           \n",
      "           *                                 *                                 *           \n",
      "           *                                 *                                 *           \n",
      "+--------------------+            +--------------------+            +--------------------+ \n",
      "| ChatPromptTemplate |            | ChatPromptTemplate |            | ChatPromptTemplate | \n",
      "+--------------------+            +--------------------+            +--------------------+ \n",
      "           *                                 *                                 *           \n",
      "           *                                 *                                 *           \n",
      "           *                                 *                                 *           \n",
      "     +----------+                      +----------+                      +----------+      \n",
      "     | ChatGroq |***                   | ChatGroq |                    **| ChatGroq |      \n",
      "     +----------+   ******             +----------+              ******  +----------+      \n",
      "                          *****              *              *****                          \n",
      "                               ******        *        ******                               \n",
      "                                     ***     *     ***                                     \n",
      "            +----------------------------------------------------------------+             \n",
      "            | Parallel<find_skill_gap,project_ideas,improvement_areas>Output |             \n",
      "            +----------------------------------------------------------------+             \n"
     ]
    }
   ],
   "source": [
    "suggestions_chain.get_graph().print_ascii()  # Display the graph of the final chain"
   ]
  },
  {
   "cell_type": "code",
   "execution_count": null,
   "id": "53cabcca",
   "metadata": {},
   "outputs": [],
   "source": []
  }
 ],
 "metadata": {
  "kernelspec": {
   "display_name": "E2E_Job_Recommender",
   "language": "python",
   "name": "python3"
  },
  "language_info": {
   "codemirror_mode": {
    "name": "ipython",
    "version": 3
   },
   "file_extension": ".py",
   "mimetype": "text/x-python",
   "name": "python",
   "nbconvert_exporter": "python",
   "pygments_lexer": "ipython3",
   "version": "3.12.3"
  }
 },
 "nbformat": 4,
 "nbformat_minor": 5
}
