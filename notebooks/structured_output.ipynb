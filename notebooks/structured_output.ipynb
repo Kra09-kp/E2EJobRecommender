{
 "cells": [
  {
   "cell_type": "code",
   "execution_count": 11,
   "id": "75552610",
   "metadata": {},
   "outputs": [
    {
     "data": {
      "text/plain": [
       "'/media/kirti/Dev/GenAI/E2E_Job_Recommender/notebooks'"
      ]
     },
     "execution_count": 11,
     "metadata": {},
     "output_type": "execute_result"
    }
   ],
   "source": [
    "import os\n",
    "%pwd"
   ]
  },
  {
   "cell_type": "code",
   "execution_count": 12,
   "id": "94277ed7",
   "metadata": {},
   "outputs": [
    {
     "data": {
      "text/plain": [
       "'/media/kirti/Dev/GenAI/E2E_Job_Recommender'"
      ]
     },
     "execution_count": 12,
     "metadata": {},
     "output_type": "execute_result"
    }
   ],
   "source": [
    "os.chdir('../')\n",
    "%pwd"
   ]
  },
  {
   "cell_type": "code",
   "execution_count": 13,
   "id": "14ce7058",
   "metadata": {},
   "outputs": [],
   "source": [
    "from dotenv import load_dotenv\n",
    "from pydantic import BaseModel, Field\n",
    "from langchain_groq import ChatGroq"
   ]
  },
  {
   "cell_type": "code",
   "execution_count": 14,
   "id": "aba2ce0c",
   "metadata": {},
   "outputs": [],
   "source": [
    "load_dotenv()\n",
    "model = ChatGroq(\n",
    "    model=\"llama3-8b-8192\",\n",
    "    temperature=0.1,\n",
    "    max_tokens=512,\n",
    ")"
   ]
  },
  {
   "cell_type": "code",
   "execution_count": 15,
   "id": "3d82bfb3",
   "metadata": {},
   "outputs": [],
   "source": [
    "# schema\n",
    "class ResumeSummary(BaseModel):\n",
    "    \"\"\"\n",
    "    Represents a summary of a resume.\n",
    "    \"\"\"\n",
    "    name: str = Field(..., description=\"Name of the candidate\")\n",
    "    skills: list[str] = Field(..., description=\"List of skills possessed by the candidate\")\n",
    "    experience: list[str] = Field(..., description=\"List of experiences of the candidate\")\n",
    "    education: list[str] = Field(..., description=\"List of educational qualifications of the candidate\")\n"
   ]
  },
  {
   "cell_type": "code",
   "execution_count": 16,
   "id": "b0055627",
   "metadata": {},
   "outputs": [],
   "source": [
    "summary_path = \"prompts/summary_prompt.txt\""
   ]
  },
  {
   "cell_type": "code",
   "execution_count": 17,
   "id": "c763da7e",
   "metadata": {},
   "outputs": [],
   "source": [
    "sample_resume = \"\"\"\n",
    "Hello, my name is Kirti Pogra. I am a software engineer with over 5 years of experience in developing scalable web applications. I have a strong background in Python and JavaScript, and I am proficient in frameworks such as Django and React. I have worked on various projects that involve building RESTful APIs, integrating third-party services, and optimizing application performance. I am passionate about coding and always eager to learn new technologies to improve my skills.\n",
    "I hold a Bachelor's degree in Computer Science from XYZ University. In my previous role at ABC Corporation, I led a team of developers to successfully deliver a major project ahead of schedule, which resulted\n",
    "in a 20% increase in customer satisfaction. I am also an active contributor to open-source projects and enjoy participating in hackathons.\n",
    "I am looking for a challenging role where I can apply my technical skills and contribute to innovative projects. I am particularly interested in opportunities that allow me to work with cutting-edge technologies and collaborate with talented teams.\n",
    "I am excited to work with a team of experienced developers and collaborate on innovative projects.\n",
    "\"\"\""
   ]
  },
  {
   "cell_type": "code",
   "execution_count": 18,
   "id": "a26a2514",
   "metadata": {},
   "outputs": [],
   "source": [
    "def load_prompt(file_path):\n",
    "    prompt = ''\n",
    "    with open(file_path, 'r') as file:\n",
    "        prompt = file.read()\n",
    "    return prompt"
   ]
  },
  {
   "cell_type": "code",
   "execution_count": 19,
   "id": "6b86e636",
   "metadata": {},
   "outputs": [],
   "source": [
    "prompt_txt = load_prompt(summary_path)\n",
    "prompt_doc = prompt_txt.format(resume_text=sample_resume)"
   ]
  },
  {
   "cell_type": "code",
   "execution_count": 20,
   "id": "f9859398",
   "metadata": {},
   "outputs": [
    {
     "data": {
      "text/plain": [
       "ResumeSummary(name='Kirti Pogra', skills=['Python', 'JavaScript', 'Django', 'React'], experience=['Led a team of developers to successfully deliver a major project ahead of schedule', 'Active contributor to open-source projects', 'Participated in hackathons'], education=[\"Bachelor's degree in Computer Science from XYZ University\"])"
      ]
     },
     "execution_count": 20,
     "metadata": {},
     "output_type": "execute_result"
    }
   ],
   "source": [
    "structured_model = model.with_structured_output(ResumeSummary)\n",
    "result = structured_model.invoke(prompt_doc)\n",
    "result"
   ]
  },
  {
   "cell_type": "code",
   "execution_count": 23,
   "id": "a3084222",
   "metadata": {},
   "outputs": [
    {
     "data": {
      "text/plain": [
       "(['Led a team of developers to successfully deliver a major project ahead of schedule',\n",
       "  'Active contributor to open-source projects',\n",
       "  'Participated in hackathons'],\n",
       " [\"Bachelor's degree in Computer Science from XYZ University\"])"
      ]
     },
     "execution_count": 23,
     "metadata": {},
     "output_type": "execute_result"
    }
   ],
   "source": [
    "result.experience, result.education"
   ]
  },
  {
   "cell_type": "code",
   "execution_count": null,
   "id": "181e3896",
   "metadata": {},
   "outputs": [],
   "source": []
  }
 ],
 "metadata": {
  "kernelspec": {
   "display_name": "E2E_Job_Recommender",
   "language": "python",
   "name": "python3"
  },
  "language_info": {
   "codemirror_mode": {
    "name": "ipython",
    "version": 3
   },
   "file_extension": ".py",
   "mimetype": "text/x-python",
   "name": "python",
   "nbconvert_exporter": "python",
   "pygments_lexer": "ipython3",
   "version": "3.12.3"
  }
 },
 "nbformat": 4,
 "nbformat_minor": 5
}
