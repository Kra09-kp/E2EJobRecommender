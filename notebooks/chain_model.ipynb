{
 "cells": [
  {
   "cell_type": "code",
   "execution_count": 1,
   "id": "519c61e6",
   "metadata": {},
   "outputs": [
    {
     "data": {
      "text/plain": [
       "'/media/kirti/Dev/GenAI/E2E_Job_Recommender/notebooks'"
      ]
     },
     "execution_count": 1,
     "metadata": {},
     "output_type": "execute_result"
    }
   ],
   "source": [
    "%pwd"
   ]
  },
  {
   "cell_type": "code",
   "execution_count": 2,
   "id": "4e1aee52",
   "metadata": {},
   "outputs": [
    {
     "data": {
      "text/plain": [
       "'/media/kirti/Dev/GenAI/E2E_Job_Recommender'"
      ]
     },
     "execution_count": 2,
     "metadata": {},
     "output_type": "execute_result"
    }
   ],
   "source": [
    "import os\n",
    "os.chdir('../')\n",
    "%pwd"
   ]
  },
  {
   "cell_type": "code",
   "execution_count": 3,
   "id": "4cae144e",
   "metadata": {},
   "outputs": [],
   "source": [
    "from src.job_recommender.schema.output_schema import ResumeSummary\n",
    "from src.job_recommender.models.llm_model import LLMJobAssistant"
   ]
  },
  {
   "cell_type": "code",
   "execution_count": 4,
   "id": "8be92fb9",
   "metadata": {},
   "outputs": [],
   "source": [
    "assistant = LLMJobAssistant()"
   ]
  },
  {
   "cell_type": "code",
   "execution_count": null,
   "id": "37aa0dcd",
   "metadata": {},
   "outputs": [],
   "source": [
    "summary_prompt_doc = assistant._load_file('prompts/summary_prompt.txt')"
   ]
  },
  {
   "cell_type": "code",
   "execution_count": 6,
   "id": "bf2d7723",
   "metadata": {},
   "outputs": [
    {
     "data": {
      "text/plain": [
       "'Summarize the following resume highlighting Skills, Education, Experience. Here is the resume:\\n\\n{resume_text}\\n'"
      ]
     },
     "execution_count": 6,
     "metadata": {},
     "output_type": "execute_result"
    }
   ],
   "source": [
    "summary_prompt_doc"
   ]
  },
  {
   "cell_type": "code",
   "execution_count": 7,
   "id": "2fab4faf",
   "metadata": {},
   "outputs": [
    {
     "name": "stdout",
     "output_type": "stream",
     "text": [
      "Summarize the following resume highlighting Skills, Education, Experience. Here is the resume:\n",
      "\n",
      "Kirti Pogra\n",
      "Email: kirti.pogra@email.com | Phone: +1-234-567-8901 | LinkedIn: linkedin.com/in/kirtipogra\n",
      "\n",
      "Objective\n",
      "----------\n",
      "Passionate and results-driven Machine Learning Engineer with 3+ years of experience designing, developing, and deploying scalable ML solutions. Seeking to leverage expertise in deep learning, data analysis, and model optimization to contribute to innovative projects.\n",
      "\n",
      "Education\n",
      "----------\n",
      "M.S. in Computer Science\n",
      "XYZ University, 2021\n",
      "\n",
      "B.Tech in Information Technology\n",
      "ABC Institute of Technology, 2019\n",
      "\n",
      "Skills\n",
      "----------\n",
      "- Programming: Python, TensorFlow, PyTorch, Scikit-learn, SQL\n",
      "- Machine Learning: Supervised & Unsupervised Learning, Deep Learning, NLP, Computer Vision\n",
      "- Data Engineering: Pandas, NumPy, Data Preprocessing, Feature Engineering\n",
      "- Tools: Docker, Git, MLflow, AWS, Azure\n",
      "- Communication & Collaboration\n",
      "\n",
      "Experience\n",
      "----------\n",
      "Machine Learning Engineer | Tech Innovators Inc. | June 2021 – Present\n",
      "- Developed and deployed NLP models for automated resume screening, improving accuracy by 30%.\n",
      "- Built deep learning models for image classification, reducing error rate by 15%.\n",
      "- Collaborated with data scientists and software engineers to integrate ML solutions into production systems.\n",
      "- Optimized model performance and scalability using distributed training on cloud platforms.\n",
      "\n",
      "Data Science Intern | Smart Analytics Ltd. | Jan 2020 – May 2021\n",
      "- Assisted in building regression models for sales forecasting.\n",
      "- Performed data cleaning, feature selection, and exploratory data analysis.\n",
      "- Presented findings to stakeholders and contributed to project documentation.\n",
      "\n",
      "Projects\n",
      "----------\n",
      "- Sentiment Analysis Platform: Designed and deployed a sentiment analysis tool using BERT for real-time social media monitoring.\n",
      "- Fraud Detection System: Implemented an ensemble model to detect fraudulent transactions with 95% accuracy.\n",
      "\n",
      "Certifications\n",
      "----------\n",
      "- TensorFlow Developer Certificate\n",
      "- AWS Certified Machine Learning – Specialty\n",
      "\n",
      "References\n",
      "----------\n",
      "Available upon request.\n",
      "\n"
     ]
    }
   ],
   "source": [
    "final_prompt = summary_prompt_doc.format(resume_text=sample_resume)\n",
    "print(final_prompt)"
   ]
  },
  {
   "cell_type": "code",
   "execution_count": 8,
   "id": "ad864590",
   "metadata": {},
   "outputs": [],
   "source": [
    "summary_prompt_template = assistant._get_template()\n",
    "summary_prompt = summary_prompt_template.invoke({\"prompt\":final_prompt})"
   ]
  },
  {
   "cell_type": "code",
   "execution_count": 9,
   "id": "5e243add",
   "metadata": {},
   "outputs": [
    {
     "data": {
      "text/plain": [
       "ChatPromptValue(messages=[HumanMessage(content='Summarize the following resume highlighting Skills, Education, Experience. Here is the resume:\\n\\nKirti Pogra\\nEmail: kirti.pogra@email.com | Phone: +1-234-567-8901 | LinkedIn: linkedin.com/in/kirtipogra\\n\\nObjective\\n----------\\nPassionate and results-driven Machine Learning Engineer with 3+ years of experience designing, developing, and deploying scalable ML solutions. Seeking to leverage expertise in deep learning, data analysis, and model optimization to contribute to innovative projects.\\n\\nEducation\\n----------\\nM.S. in Computer Science\\nXYZ University, 2021\\n\\nB.Tech in Information Technology\\nABC Institute of Technology, 2019\\n\\nSkills\\n----------\\n- Programming: Python, TensorFlow, PyTorch, Scikit-learn, SQL\\n- Machine Learning: Supervised & Unsupervised Learning, Deep Learning, NLP, Computer Vision\\n- Data Engineering: Pandas, NumPy, Data Preprocessing, Feature Engineering\\n- Tools: Docker, Git, MLflow, AWS, Azure\\n- Communication & Collaboration\\n\\nExperience\\n----------\\nMachine Learning Engineer | Tech Innovators Inc. | June 2021 – Present\\n- Developed and deployed NLP models for automated resume screening, improving accuracy by 30%.\\n- Built deep learning models for image classification, reducing error rate by 15%.\\n- Collaborated with data scientists and software engineers to integrate ML solutions into production systems.\\n- Optimized model performance and scalability using distributed training on cloud platforms.\\n\\nData Science Intern | Smart Analytics Ltd. | Jan 2020 – May 2021\\n- Assisted in building regression models for sales forecasting.\\n- Performed data cleaning, feature selection, and exploratory data analysis.\\n- Presented findings to stakeholders and contributed to project documentation.\\n\\nProjects\\n----------\\n- Sentiment Analysis Platform: Designed and deployed a sentiment analysis tool using BERT for real-time social media monitoring.\\n- Fraud Detection System: Implemented an ensemble model to detect fraudulent transactions with 95% accuracy.\\n\\nCertifications\\n----------\\n- TensorFlow Developer Certificate\\n- AWS Certified Machine Learning – Specialty\\n\\nReferences\\n----------\\nAvailable upon request.\\n', additional_kwargs={}, response_metadata={})])"
      ]
     },
     "execution_count": 9,
     "metadata": {},
     "output_type": "execute_result"
    }
   ],
   "source": [
    "summary_prompt"
   ]
  },
  {
   "cell_type": "code",
   "execution_count": 10,
   "id": "8cbd15b7",
   "metadata": {},
   "outputs": [],
   "source": [
    "from langchain_core.runnables import RunnableLambda"
   ]
  },
  {
   "cell_type": "code",
   "execution_count": null,
   "id": "5636ed4a",
   "metadata": {},
   "outputs": [],
   "source": [
    "format_prompt = prompt['file_content'].format(resume_text=sample_resume)"
   ]
  },
  {
   "cell_type": "code",
   "execution_count": null,
   "id": "29d0ae97",
   "metadata": {},
   "outputs": [],
   "source": [
    "def load_prompt(inputs):\n",
    "    file_path = inputs['file_path']\n",
    "    kwargs = {k: v for k, v in inputs.items() if k != \"file_path\"}\n",
    "    # print(kwargs)\n",
    "\n",
    "    prompt = assistant._load_file(file_path)\n",
    "    prompt = prompt.format(**kwargs)\n",
    "    return {\"prompt\": prompt}"
   ]
  },
  {
   "cell_type": "code",
   "execution_count": 61,
   "id": "5d4f9ecb",
   "metadata": {},
   "outputs": [],
   "source": [
    "prompt = RunnableLambda(load_prompt)"
   ]
  },
  {
   "cell_type": "code",
   "execution_count": 63,
   "id": "a7478bf0",
   "metadata": {},
   "outputs": [],
   "source": [
    "prompt_data = prompt.invoke({\"file_path\":'prompts/summary_prompt.txt',\"resume_text\": sample_resume})"
   ]
  },
  {
   "cell_type": "code",
   "execution_count": null,
   "id": "919b2575",
   "metadata": {},
   "outputs": [
    {
     "data": {
      "text/plain": [
       "{'prompt': 'Summarize the following resume highlighting Skills, Education, Experience. Here is the resume:\\n\\nKirti Pogra\\nEmail: kirti.pogra@email.com | Phone: +1-234-567-8901 | LinkedIn: linkedin.com/in/kirtipogra\\n\\nObjective\\n----------\\nPassionate and results-driven Machine Learning Engineer with 3+ years of experience designing, developing, and deploying scalable ML solutions. Seeking to leverage expertise in deep learning, data analysis, and model optimization to contribute to innovative projects.\\n\\nEducation\\n----------\\nM.S. in Computer Science\\nXYZ University, 2021\\n\\nB.Tech in Information Technology\\nABC Institute of Technology, 2019\\n\\nSkills\\n----------\\n- Programming: Python, TensorFlow, PyTorch, Scikit-learn, SQL\\n- Machine Learning: Supervised & Unsupervised Learning, Deep Learning, NLP, Computer Vision\\n- Data Engineering: Pandas, NumPy, Data Preprocessing, Feature Engineering\\n- Tools: Docker, Git, MLflow, AWS, Azure\\n- Communication & Collaboration\\n\\nExperience\\n----------\\nMachine Learning Engineer | Tech Innovators Inc. | June 2021 – Present\\n- Developed and deployed NLP models for automated resume screening, improving accuracy by 30%.\\n- Built deep learning models for image classification, reducing error rate by 15%.\\n- Collaborated with data scientists and software engineers to integrate ML solutions into production systems.\\n- Optimized model performance and scalability using distributed training on cloud platforms.\\n\\nData Science Intern | Smart Analytics Ltd. | Jan 2020 – May 2021\\n- Assisted in building regression models for sales forecasting.\\n- Performed data cleaning, feature selection, and exploratory data analysis.\\n- Presented findings to stakeholders and contributed to project documentation.\\n\\nProjects\\n----------\\n- Sentiment Analysis Platform: Designed and deployed a sentiment analysis tool using BERT for real-time social media monitoring.\\n- Fraud Detection System: Implemented an ensemble model to detect fraudulent transactions with 95% accuracy.\\n\\nCertifications\\n----------\\n- TensorFlow Developer Certificate\\n- AWS Certified Machine Learning – Specialty\\n\\nReferences\\n----------\\nAvailable upon request.\\n'}"
      ]
     },
     "execution_count": 25,
     "metadata": {},
     "output_type": "execute_result"
    }
   ],
   "source": [
    "prompt_data"
   ]
  },
  {
   "cell_type": "code",
   "execution_count": 64,
   "id": "54af1e2c",
   "metadata": {},
   "outputs": [],
   "source": [
    "summary_prompt_template = assistant._get_template()"
   ]
  },
  {
   "cell_type": "code",
   "execution_count": 65,
   "id": "4297025d",
   "metadata": {},
   "outputs": [
    {
     "data": {
      "text/plain": [
       "ChatPromptValue(messages=[HumanMessage(content='Summarize the following resume highlighting Skills, Education, Experience. Here is the resume:\\n\\nKirti Pogra\\nEmail: kirti.pogra@email.com | Phone: +1-234-567-8901 | LinkedIn: linkedin.com/in/kirtipogra\\n\\nObjective\\n----------\\nPassionate and results-driven Machine Learning Engineer with 3+ years of experience designing, developing, and deploying scalable ML solutions. Seeking to leverage expertise in deep learning, data analysis, and model optimization to contribute to innovative projects.\\n\\nEducation\\n----------\\nM.S. in Computer Science\\nXYZ University, 2021\\n\\nB.Tech in Information Technology\\nABC Institute of Technology, 2019\\n\\nSkills\\n----------\\n- Programming: Python, TensorFlow, PyTorch, Scikit-learn, SQL\\n- Machine Learning: Supervised & Unsupervised Learning, Deep Learning, NLP, Computer Vision\\n- Data Engineering: Pandas, NumPy, Data Preprocessing, Feature Engineering\\n- Tools: Docker, Git, MLflow, AWS, Azure\\n- Communication & Collaboration\\n\\nExperience\\n----------\\nMachine Learning Engineer | Tech Innovators Inc. | June 2021 – Present\\n- Developed and deployed NLP models for automated resume screening, improving accuracy by 30%.\\n- Built deep learning models for image classification, reducing error rate by 15%.\\n- Collaborated with data scientists and software engineers to integrate ML solutions into production systems.\\n- Optimized model performance and scalability using distributed training on cloud platforms.\\n\\nData Science Intern | Smart Analytics Ltd. | Jan 2020 – May 2021\\n- Assisted in building regression models for sales forecasting.\\n- Performed data cleaning, feature selection, and exploratory data analysis.\\n- Presented findings to stakeholders and contributed to project documentation.\\n\\nProjects\\n----------\\n- Sentiment Analysis Platform: Designed and deployed a sentiment analysis tool using BERT for real-time social media monitoring.\\n- Fraud Detection System: Implemented an ensemble model to detect fraudulent transactions with 95% accuracy.\\n\\nCertifications\\n----------\\n- TensorFlow Developer Certificate\\n- AWS Certified Machine Learning – Specialty\\n\\nReferences\\n----------\\nAvailable upon request.\\n', additional_kwargs={}, response_metadata={})])"
      ]
     },
     "execution_count": 65,
     "metadata": {},
     "output_type": "execute_result"
    }
   ],
   "source": [
    "summary_prompt_template.invoke(prompt_data)"
   ]
  },
  {
   "cell_type": "code",
   "execution_count": 66,
   "id": "6f7f8118",
   "metadata": {},
   "outputs": [],
   "source": [
    "template = assistant._get_template()\n",
    "model = assistant._get_model()\n",
    "model = model.with_structured_output(ResumeSummary)\n"
   ]
  },
  {
   "cell_type": "code",
   "execution_count": 56,
   "id": "b77c6567",
   "metadata": {},
   "outputs": [],
   "source": [
    "chain = prompt | template | model\n"
   ]
  },
  {
   "cell_type": "code",
   "execution_count": 57,
   "id": "d3292304",
   "metadata": {},
   "outputs": [
    {
     "name": "stdout",
     "output_type": "stream",
     "text": [
      "    +-------------------+      \n",
      "    | load_prompt_input |      \n",
      "    +-------------------+      \n",
      "              *                \n",
      "              *                \n",
      "              *                \n",
      "       +-------------+         \n",
      "       | load_prompt |         \n",
      "       +-------------+         \n",
      "              *                \n",
      "              *                \n",
      "              *                \n",
      "    +--------------------+     \n",
      "    | ChatPromptTemplate |     \n",
      "    +--------------------+     \n",
      "              *                \n",
      "              *                \n",
      "              *                \n",
      "        +----------+           \n",
      "        | ChatGroq |           \n",
      "        +----------+           \n",
      "              *                \n",
      "              *                \n",
      "              *                \n",
      "   +---------------------+     \n",
      "   | PydanticToolsParser |     \n",
      "   +---------------------+     \n",
      "              *                \n",
      "              *                \n",
      "              *                \n",
      "+---------------------------+  \n",
      "| PydanticToolsParserOutput |  \n",
      "+---------------------------+  \n"
     ]
    }
   ],
   "source": [
    "chain.get_graph().print_ascii()"
   ]
  },
  {
   "cell_type": "code",
   "execution_count": 58,
   "id": "1b115386",
   "metadata": {},
   "outputs": [
    {
     "name": "stdout",
     "output_type": "stream",
     "text": [
      "{'resume_text': 'Kirti Pogra\\nEmail: kirti.pogra@email.com | Phone: +1-234-567-8901 | LinkedIn: linkedin.com/in/kirtipogra\\n\\nObjective\\n----------\\nPassionate and results-driven Machine Learning Engineer with 3+ years of experience designing, developing, and deploying scalable ML solutions. Seeking to leverage expertise in deep learning, data analysis, and model optimization to contribute to innovative projects.\\n\\nEducation\\n----------\\nM.S. in Computer Science\\nXYZ University, 2021\\n\\nB.Tech in Information Technology\\nABC Institute of Technology, 2019\\n\\nSkills\\n----------\\n- Programming: Python, TensorFlow, PyTorch, Scikit-learn, SQL\\n- Machine Learning: Supervised & Unsupervised Learning, Deep Learning, NLP, Computer Vision\\n- Data Engineering: Pandas, NumPy, Data Preprocessing, Feature Engineering\\n- Tools: Docker, Git, MLflow, AWS, Azure\\n- Communication & Collaboration\\n\\nExperience\\n----------\\nMachine Learning Engineer | Tech Innovators Inc. | June 2021 – Present\\n- Developed and deployed NLP models for automated resume screening, improving accuracy by 30%.\\n- Built deep learning models for image classification, reducing error rate by 15%.\\n- Collaborated with data scientists and software engineers to integrate ML solutions into production systems.\\n- Optimized model performance and scalability using distributed training on cloud platforms.\\n\\nData Science Intern | Smart Analytics Ltd. | Jan 2020 – May 2021\\n- Assisted in building regression models for sales forecasting.\\n- Performed data cleaning, feature selection, and exploratory data analysis.\\n- Presented findings to stakeholders and contributed to project documentation.\\n\\nProjects\\n----------\\n- Sentiment Analysis Platform: Designed and deployed a sentiment analysis tool using BERT for real-time social media monitoring.\\n- Fraud Detection System: Implemented an ensemble model to detect fraudulent transactions with 95% accuracy.\\n\\nCertifications\\n----------\\n- TensorFlow Developer Certificate\\n- AWS Certified Machine Learning – Specialty\\n\\nReferences\\n----------\\nAvailable upon request.'}\n"
     ]
    }
   ],
   "source": [
    "# input_dict = {\n",
    "    \n",
    "# }\n",
    "result = chain.invoke({\"file_path\":\"prompts/summary_prompt.txt\",\n",
    "                       \"resume_text\":sample_resume})\n",
    "\n",
    "# print(result)"
   ]
  },
  {
   "cell_type": "code",
   "execution_count": 59,
   "id": "0e885062",
   "metadata": {},
   "outputs": [
    {
     "data": {
      "text/plain": [
       "ResumeSummary(name='Kirti Pogra', skills=['Python', 'TensorFlow', 'PyTorch', 'Scikit-learn', 'SQL', 'Docker', 'Git', 'MLflow', 'AWS', 'Azure'], experience=['Machine Learning Engineer, Tech Innovators Inc., June 2021 – Present', 'Data Science Intern, Smart Analytics Ltd., Jan 2020 – May 2021'], education=['M.S. in Computer Science, XYZ University, 2021', 'B.Tech in Information Technology, ABC Institute of Technology, 2019'])"
      ]
     },
     "execution_count": 59,
     "metadata": {},
     "output_type": "execute_result"
    }
   ],
   "source": [
    "result"
   ]
  },
  {
   "cell_type": "markdown",
   "id": "08044bcb",
   "metadata": {},
   "source": [
    "### Trial"
   ]
  },
  {
   "cell_type": "code",
   "execution_count": 6,
   "id": "fe60cde7",
   "metadata": {},
   "outputs": [],
   "source": [
    "from src.job_recommender.chains.llm_chain import JobRecommenderChain\n",
    "from src.job_recommender.schema.output_schema import ResumeSummary\n",
    "from src.job_recommender.models.llm_model import LLMJobAssistant\n"
   ]
  },
  {
   "cell_type": "code",
   "execution_count": 4,
   "id": "d80be902",
   "metadata": {},
   "outputs": [],
   "source": [
    "chain = JobRecommenderChain(ResumeSummary)"
   ]
  },
  {
   "cell_type": "code",
   "execution_count": 7,
   "id": "f3c1605c",
   "metadata": {},
   "outputs": [],
   "source": [
    "sample_resume = LLMJobAssistant._load_file('resume.txt')"
   ]
  },
  {
   "cell_type": "code",
   "execution_count": 10,
   "id": "760cffb9",
   "metadata": {},
   "outputs": [],
   "source": [
    "result=chain.invoke({\"file_path\":\"prompts/summary_prompt.txt\",\n",
    "              \"resume_text\":sample_resume})"
   ]
  },
  {
   "cell_type": "code",
   "execution_count": null,
   "id": "45fcf154",
   "metadata": {},
   "outputs": [
    {
     "data": {
      "text/plain": [
       "'Kirti Pogra'"
      ]
     },
     "execution_count": 11,
     "metadata": {},
     "output_type": "execute_result"
    }
   ],
   "source": [
    "result.name #type: ignore"
   ]
  },
  {
   "cell_type": "code",
   "execution_count": 15,
   "id": "3196fb63",
   "metadata": {},
   "outputs": [
    {
     "data": {
      "text/plain": [
       "src.job_recommender.schema.output_schema.ResumeSummary"
      ]
     },
     "execution_count": 15,
     "metadata": {},
     "output_type": "execute_result"
    }
   ],
   "source": [
    "type(result)"
   ]
  },
  {
   "cell_type": "code",
   "execution_count": null,
   "id": "0e4068cd",
   "metadata": {},
   "outputs": [],
   "source": []
  }
 ],
 "metadata": {
  "kernelspec": {
   "display_name": "E2E_Job_Recommender",
   "language": "python",
   "name": "python3"
  },
  "language_info": {
   "codemirror_mode": {
    "name": "ipython",
    "version": 3
   },
   "file_extension": ".py",
   "mimetype": "text/x-python",
   "name": "python",
   "nbconvert_exporter": "python",
   "pygments_lexer": "ipython3",
   "version": "3.12.3"
  }
 },
 "nbformat": 4,
 "nbformat_minor": 5
}
