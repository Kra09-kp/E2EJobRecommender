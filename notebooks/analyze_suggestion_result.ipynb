{
 "cells": [
  {
   "cell_type": "code",
   "execution_count": 1,
   "id": "25585344",
   "metadata": {},
   "outputs": [
    {
     "data": {
      "text/plain": [
       "'/media/kirti/Dev/GenAI/E2E_Job_Recommender/notebooks'"
      ]
     },
     "execution_count": 1,
     "metadata": {},
     "output_type": "execute_result"
    }
   ],
   "source": [
    "%pwd"
   ]
  },
  {
   "cell_type": "code",
   "execution_count": 2,
   "id": "e2ab4feb",
   "metadata": {},
   "outputs": [],
   "source": [
    "import os"
   ]
  },
  {
   "cell_type": "code",
   "execution_count": 3,
   "id": "ae4d00b8",
   "metadata": {},
   "outputs": [
    {
     "data": {
      "text/plain": [
       "'/media/kirti/Dev/GenAI/E2E_Job_Recommender'"
      ]
     },
     "execution_count": 3,
     "metadata": {},
     "output_type": "execute_result"
    }
   ],
   "source": [
    "os.chdir(\"../\")\n",
    "%pwd"
   ]
  },
  {
   "cell_type": "code",
   "execution_count": 4,
   "id": "0f45758c",
   "metadata": {},
   "outputs": [],
   "source": [
    "import pandas as pd\n",
    "import ast"
   ]
  },
  {
   "cell_type": "code",
   "execution_count": 23,
   "id": "8e1b9354",
   "metadata": {},
   "outputs": [],
   "source": [
    "path = \"./artifacts/suggestion.json\"\n",
    "\n",
    "with open(path,'r') as f:\n",
    "    data = f.read()"
   ]
  },
  {
   "cell_type": "code",
   "execution_count": 24,
   "id": "9a57413c",
   "metadata": {},
   "outputs": [],
   "source": [
    "import json\n",
    "data_list = json.loads(data)"
   ]
  },
  {
   "cell_type": "code",
   "execution_count": 25,
   "id": "d1c24237",
   "metadata": {},
   "outputs": [
    {
     "data": {
      "text/plain": [
       "{'find_skill_gap': \"After analyzing the resume, I've identified some missing skills that are currently in demand for tech jobs in Machine Learning, AI, and Data Science. Here are the missing skills, along with their descriptions, importance, and relevance:\\n\\n**1. Skill Name:** **Cloud Computing**\\n\\n**Description:** Cloud computing is a crucial skill in the current job market, as many organizations are moving their data and applications to the cloud. Familiarity with cloud platforms like AWS, Google Cloud, or Microsoft Azure can help candidates work with large datasets, deploy models, and collaborate with teams.\\n\\n**Importance:** Learning cloud computing can improve the candidate's career prospects by enabling them to work on projects that require scalability, collaboration, and data storage.\\n\\n**2. Skill Name:** **Natural Language Processing (NLP)**\\n\\n**Description:** NLP is a subfield of AI that focuses on the interaction between computers and humans in natural language. Knowledge of NLP techniques, such as text classification, sentiment analysis, and language modeling, can help candidates work on projects that involve text data.\\n\\n**Importance:** NLP is a rapidly growing field, and having skills in this area can open up opportunities in areas like chatbots, language translation, and text summarization.\\n\\n**3. Skill Name:** **Distributed Computing**\\n\\n**Description:** Distributed computing is a technique that enables the processing of large datasets across multiple machines. Familiarity with distributed computing frameworks like Apache Spark, Hadoop, or Dask can help candidates work on projects that involve big data.\\n\\n**Importance:** Distributed computing is essential for handling large datasets and can improve the candidate's career prospects by enabling them to work on projects that require scalability and data processing.\\n\\n**4. Skill Name:** **Explainable AI (XAI)**\\n\\n**Description:** XAI is a subfield of AI that focuses on making machine learning models more transparent and interpretable. Knowledge of XAI techniques, such as feature importance, partial dependence plots, and SHAP values, can help candidates work on projects that require model interpretability.\\n\\n**Importance:** XAI is becoming increasingly important as organizations need to understand how their AI models make decisions. Having skills in this area can open up opportunities in areas like regulatory compliance, auditing, and model debugging.\\n\\n**5. Skill Name:** **Time Series Analysis**\\n\\n**Description:** Time series analysis is a technique used to analyze and forecast data that changes over time. Familiarity with time series libraries like pandas, statsmodels, or PyTorch can help candidates work on projects that involve forecasting, anomaly detection, or trend analysis.\\n\\n**Importance:** Time series analysis is a critical skill in many industries, including finance, healthcare, and energy. Having skills in this area can\",\n",
       " 'project_ideas': 'Here are 5 specific project ideas that will improve Kirti Pogra\\'s resume and enhance job opportunities:\\n\\n**1. \"AI-Powered Customer Sentiment Analysis\"**\\nDevelop a project that uses natural language processing (NLP) and machine learning to analyze customer reviews and sentiments. The candidate will learn to work with text data, implement sentiment analysis algorithms, and visualize results. This project aligns with Kirti\\'s background in AI, ML, and NLP.\\n\\n**2. \"Image Classification for Agricultural Crop Identification\"**\\nDesign a project that uses computer vision and deep learning to classify images of crops and identify the type of crop. The candidate will learn to work with image data, implement convolutional neural networks (CNNs), and visualize results. This project aligns with Kirti\\'s interest in agriculture and his experience with computer vision.\\n\\n**3. \"Personalized Recommendation System for Music\"**\\nDevelop a project that uses collaborative filtering and content-based filtering to build a personalized music recommendation system. The candidate will learn to work with user data, implement recommendation algorithms, and visualize results. This project aligns with Kirti\\'s interest in music and his background in AI and ML.\\n\\n**4. \"Predictive Maintenance System for Industrial Equipment\"**\\nDesign a project that uses machine learning and data science to predict equipment failures and optimize maintenance schedules. The candidate will learn to work with time-series data, implement predictive modeling algorithms, and visualize results. This project aligns with Kirti\\'s background in AI, ML, and data science.\\n\\n**5. \"Chatbot for Mental Health Support\"**\\nDevelop a project that uses NLP and machine learning to build a chatbot that provides mental health support and resources to users. The candidate will learn to work with text data, implement conversational AI algorithms, and visualize results. This project aligns with Kirti\\'s interest in human-centered AI and his background in AI, ML, and NLP.\\n\\nThese project ideas will help Kirti demonstrate his skills in AI, ML, and data science, while also showcasing his creativity and problem-solving abilities.',\n",
       " 'improvement_areas': 'Here are actionable recommendations to enhance the effectiveness of the resume:\\n\\n**Summary:**\\n\\n* Consider rephrasing the summary to be more concise and focused on the candidate\\'s professional achievements rather than personal traits.\\n* Highlight the candidate\\'s expertise in AI, ML, and Data Science, and how they can leverage their skills to drive business value.\\n\\n**Technical Skills:**\\n\\n* Consider grouping similar skills together (e.g., Python libraries, machine learning frameworks) to make it easier for recruiters to scan.\\n* Remove redundant skills (e.g., \"data collection and preprocessing\" is already implied by the projects listed).\\n\\n**Professional Experience:**\\n\\n* Use bullet points consistently throughout the experience section to make it easier to scan.\\n* Consider adding specific metrics or achievements to quantify the impact of each project (e.g., \"Increased product deployment by 30% through timely delivery\").\\n* Remove redundant phrases (e.g., \"Designed and implemented\" can be shortened to \"Implemented\").\\n\\n**Projects:**\\n\\n* Consider grouping projects by theme or industry (e.g., AI-powered chatbots, data science projects) to show a focus on specific areas.\\n* Add more details about the impact or results of each project, such as \"Improved farming productivity by 20% through optimized decision-making\".\\n\\n**Education & Other:**\\n\\n* Consider removing the \"OTHER\" section and integrating the language and interests into the summary or professional experience section.\\n* Remove redundant education information (e.g., the MCA in AI is already mentioned in the summary).\\n\\n**Overall:**\\n\\n* Consider adding a clear career objective or job target to the summary to help recruiters understand what the candidate is looking for.\\n* Use a consistent formatting style throughout the resume to make it easier to read.\\n* Remove unnecessary sections (e.g., the portfolio link can be removed and replaced with a link to the candidate\\'s online portfolio).\\n\\nBy implementing these recommendations, the candidate can create a more concise, focused, and effective resume that showcases their skills and achievements in AI, ML, and Data Science.'}"
      ]
     },
     "execution_count": 25,
     "metadata": {},
     "output_type": "execute_result"
    }
   ],
   "source": [
    "data_list"
   ]
  },
  {
   "cell_type": "code",
   "execution_count": 26,
   "id": "84f34903",
   "metadata": {},
   "outputs": [
    {
     "data": {
      "text/plain": [
       "\"After analyzing the resume, I've identified some missing skills that are currently in demand for tech jobs in Machine Learning, AI, and Data Science. Here are the missing skills, along with their descriptions, importance, and relevance:\\n\\n**1. Skill Name:** **Cloud Computing**\\n\\n**Description:** Cloud computing is a crucial skill in the current job market, as many organizations are moving their data and applications to the cloud. Familiarity with cloud platforms like AWS, Google Cloud, or Microsoft Azure can help candidates work with large datasets, deploy models, and collaborate with teams.\\n\\n**Importance:** Learning cloud computing can improve the candidate's career prospects by enabling them to work on projects that require scalability, collaboration, and data storage.\\n\\n**2. Skill Name:** **Natural Language Processing (NLP)**\\n\\n**Description:** NLP is a subfield of AI that focuses on the interaction between computers and humans in natural language. Knowledge of NLP techniques, such as text classification, sentiment analysis, and language modeling, can help candidates work on projects that involve text data.\\n\\n**Importance:** NLP is a rapidly growing field, and having skills in this area can open up opportunities in areas like chatbots, language translation, and text summarization.\\n\\n**3. Skill Name:** **Distributed Computing**\\n\\n**Description:** Distributed computing is a technique that enables the processing of large datasets across multiple machines. Familiarity with distributed computing frameworks like Apache Spark, Hadoop, or Dask can help candidates work on projects that involve big data.\\n\\n**Importance:** Distributed computing is essential for handling large datasets and can improve the candidate's career prospects by enabling them to work on projects that require scalability and data processing.\\n\\n**4. Skill Name:** **Explainable AI (XAI)**\\n\\n**Description:** XAI is a subfield of AI that focuses on making machine learning models more transparent and interpretable. Knowledge of XAI techniques, such as feature importance, partial dependence plots, and SHAP values, can help candidates work on projects that require model interpretability.\\n\\n**Importance:** XAI is becoming increasingly important as organizations need to understand how their AI models make decisions. Having skills in this area can open up opportunities in areas like regulatory compliance, auditing, and model debugging.\\n\\n**5. Skill Name:** **Time Series Analysis**\\n\\n**Description:** Time series analysis is a technique used to analyze and forecast data that changes over time. Familiarity with time series libraries like pandas, statsmodels, or PyTorch can help candidates work on projects that involve forecasting, anomaly detection, or trend analysis.\\n\\n**Importance:** Time series analysis is a critical skill in many industries, including finance, healthcare, and energy. Having skills in this area can\""
      ]
     },
     "execution_count": 26,
     "metadata": {},
     "output_type": "execute_result"
    }
   ],
   "source": [
    "data_list['find_skill_gap']"
   ]
  },
  {
   "cell_type": "code",
   "execution_count": 27,
   "id": "8956c937",
   "metadata": {},
   "outputs": [
    {
     "data": {
      "text/plain": [
       "dict_keys(['find_skill_gap', 'project_ideas', 'improvement_areas'])"
      ]
     },
     "execution_count": 27,
     "metadata": {},
     "output_type": "execute_result"
    }
   ],
   "source": [
    "data_list.keys()"
   ]
  },
  {
   "cell_type": "code",
   "execution_count": 14,
   "id": "1c119933",
   "metadata": {},
   "outputs": [],
   "source": [
    "df = pd.DataFrame([data])"
   ]
  },
  {
   "cell_type": "code",
   "execution_count": 22,
   "id": "06507bfe",
   "metadata": {},
   "outputs": [
    {
     "data": {
      "text/plain": [
       "'{\"find_skill_gap\": \"After analyzing the resume, I\\'ve identified some missing skills that are currently in demand for tech jobs in Machine Learning, AI, and Data Science. Here are the missing skills, along with their descriptions, importance, and relevance:\\\\n\\\\n**1. Skill Name:** **Cloud Computing**\\\\n\\\\n**Description:** Cloud computing is a crucial skill in the current job market, as many organizations are moving their data and applications to the cloud. Familiarity with cloud platforms like AWS, Google Cloud, or Microsoft Azure can help candidates work with large datasets, deploy models, and collaborate with teams.\\\\n\\\\n**Importance:** Learning cloud computing can improve the candidate\\'s career prospects by enabling them to work on projects that require scalability, collaboration, and data storage.\\\\n\\\\n**2. Skill Name:** **Natural Language Processing (NLP)**\\\\n\\\\n**Description:** NLP is a subfield of AI that focuses on the interaction between computers and humans in natural language. Knowledge of NLP techniques, such as text classification, sentiment analysis, and language modeling, can help candidates work on projects that involve text data.\\\\n\\\\n**Importance:** NLP is a rapidly growing field, and having skills in this area can open up opportunities in areas like chatbots, language translation, and text summarization.\\\\n\\\\n**3. Skill Name:** **Distributed Computing**\\\\n\\\\n**Description:** Distributed computing is a technique that enables the processing of large datasets across multiple machines. Familiarity with distributed computing frameworks like Apache Spark, Hadoop, or Dask can help candidates work on projects that involve big data.\\\\n\\\\n**Importance:** Distributed computing is essential for handling large datasets and can improve the candidate\\'s career prospects by enabling them to work on projects that require scalability and data processing.\\\\n\\\\n**4. Skill Name:** **Explainable AI (XAI)**\\\\n\\\\n**Description:** XAI is a subfield of AI that focuses on making machine learning models more transparent and interpretable. Knowledge of XAI techniques, such as feature importance, partial dependence plots, and SHAP values, can help candidates work on projects that require model interpretability.\\\\n\\\\n**Importance:** XAI is becoming increasingly important as organizations need to understand how their AI models make decisions. Having skills in this area can open up opportunities in areas like regulatory compliance, auditing, and model debugging.\\\\n\\\\n**5. Skill Name:** **Time Series Analysis**\\\\n\\\\n**Description:** Time series analysis is a technique used to analyze and forecast data that changes over time. Familiarity with time series libraries like pandas, statsmodels, or PyTorch can help candidates work on projects that involve forecasting, anomaly detection, or trend analysis.\\\\n\\\\n**Importance:** Time series analysis is a critical skill in many industries, including finance, healthcare, and energy. Having skills in this area can\", \"project_ideas\": \"Here are 5 specific project ideas that will improve Kirti Pogra\\'s resume and enhance job opportunities:\\\\n\\\\n**1. \\\\\"AI-Powered Customer Sentiment Analysis\\\\\"**\\\\nDevelop a project that uses natural language processing (NLP) and machine learning to analyze customer reviews and sentiments. The candidate will learn to work with text data, implement sentiment analysis algorithms, and visualize results. This project aligns with Kirti\\'s background in AI, ML, and NLP.\\\\n\\\\n**2. \\\\\"Image Classification for Agricultural Crop Identification\\\\\"**\\\\nDesign a project that uses computer vision and deep learning to classify images of crops and identify the type of crop. The candidate will learn to work with image data, implement convolutional neural networks (CNNs), and visualize results. This project aligns with Kirti\\'s interest in agriculture and his experience with computer vision.\\\\n\\\\n**3. \\\\\"Personalized Recommendation System for Music\\\\\"**\\\\nDevelop a project that uses collaborative filtering and content-based filtering to build a personalized music recommendation system. The candidate will learn to work with user data, implement recommendation algorithms, and visualize results. This project aligns with Kirti\\'s interest in music and his background in AI and ML.\\\\n\\\\n**4. \\\\\"Predictive Maintenance System for Industrial Equipment\\\\\"**\\\\nDesign a project that uses machine learning and data science to predict equipment failures and optimize maintenance schedules. The candidate will learn to work with time-series data, implement predictive modeling algorithms, and visualize results. This project aligns with Kirti\\'s background in AI, ML, and data science.\\\\n\\\\n**5. \\\\\"Chatbot for Mental Health Support\\\\\"**\\\\nDevelop a project that uses NLP and machine learning to build a chatbot that provides mental health support and resources to users. The candidate will learn to work with text data, implement conversational AI algorithms, and visualize results. This project aligns with Kirti\\'s interest in human-centered AI and his background in AI, ML, and NLP.\\\\n\\\\nThese project ideas will help Kirti demonstrate his skills in AI, ML, and data science, while also showcasing his creativity and problem-solving abilities.\", \"improvement_areas\": \"Here are actionable recommendations to enhance the effectiveness of the resume:\\\\n\\\\n**Summary:**\\\\n\\\\n* Consider rephrasing the summary to be more concise and focused on the candidate\\'s professional achievements rather than personal traits.\\\\n* Highlight the candidate\\'s expertise in AI, ML, and Data Science, and how they can leverage their skills to drive business value.\\\\n\\\\n**Technical Skills:**\\\\n\\\\n* Consider grouping similar skills together (e.g., Python libraries, machine learning frameworks) to make it easier for recruiters to scan.\\\\n* Remove redundant skills (e.g., \\\\\"data collection and preprocessing\\\\\" is already implied by the projects listed).\\\\n\\\\n**Professional Experience:**\\\\n\\\\n* Use bullet points consistently throughout the experience section to make it easier to scan.\\\\n* Consider adding specific metrics or achievements to quantify the impact of each project (e.g., \\\\\"Increased product deployment by 30% through timely delivery\\\\\").\\\\n* Remove redundant phrases (e.g., \\\\\"Designed and implemented\\\\\" can be shortened to \\\\\"Implemented\\\\\").\\\\n\\\\n**Projects:**\\\\n\\\\n* Consider grouping projects by theme or industry (e.g., AI-powered chatbots, data science projects) to show a focus on specific areas.\\\\n* Add more details about the impact or results of each project, such as \\\\\"Improved farming productivity by 20% through optimized decision-making\\\\\".\\\\n\\\\n**Education & Other:**\\\\n\\\\n* Consider removing the \\\\\"OTHER\\\\\" section and integrating the language and interests into the summary or professional experience section.\\\\n* Remove redundant education information (e.g., the MCA in AI is already mentioned in the summary).\\\\n\\\\n**Overall:**\\\\n\\\\n* Consider adding a clear career objective or job target to the summary to help recruiters understand what the candidate is looking for.\\\\n* Use a consistent formatting style throughout the resume to make it easier to read.\\\\n* Remove unnecessary sections (e.g., the portfolio link can be removed and replaced with a link to the candidate\\'s online portfolio).\\\\n\\\\nBy implementing these recommendations, the candidate can create a more concise, focused, and effective resume that showcases their skills and achievements in AI, ML, and Data Science.\"}'"
      ]
     },
     "execution_count": 22,
     "metadata": {},
     "output_type": "execute_result"
    }
   ],
   "source": [
    "df[0][0]"
   ]
  },
  {
   "cell_type": "code",
   "execution_count": 20,
   "id": "8f97eced",
   "metadata": {},
   "outputs": [
    {
     "ename": "AttributeError",
     "evalue": "module 'pandas' has no attribute 'to_dict'",
     "output_type": "error",
     "traceback": [
      "\u001b[31m---------------------------------------------------------------------------\u001b[39m",
      "\u001b[31mAttributeError\u001b[39m                            Traceback (most recent call last)",
      "\u001b[36mCell\u001b[39m\u001b[36m \u001b[39m\u001b[32mIn[20]\u001b[39m\u001b[32m, line 1\u001b[39m\n\u001b[32m----> \u001b[39m\u001b[32m1\u001b[39m \u001b[43mpd\u001b[49m\u001b[43m.\u001b[49m\u001b[43mto_dict\u001b[49m(data)\n",
      "\u001b[31mAttributeError\u001b[39m: module 'pandas' has no attribute 'to_dict'"
     ]
    }
   ],
   "source": [
    "pd.to_dict(data)"
   ]
  },
  {
   "cell_type": "code",
   "execution_count": null,
   "id": "cffb817b",
   "metadata": {},
   "outputs": [],
   "source": []
  }
 ],
 "metadata": {
  "kernelspec": {
   "display_name": "E2E_Job_Recommender",
   "language": "python",
   "name": "python3"
  },
  "language_info": {
   "codemirror_mode": {
    "name": "ipython",
    "version": 3
   },
   "file_extension": ".py",
   "mimetype": "text/x-python",
   "name": "python",
   "nbconvert_exporter": "python",
   "pygments_lexer": "ipython3",
   "version": "3.12.3"
  }
 },
 "nbformat": 4,
 "nbformat_minor": 5
}
