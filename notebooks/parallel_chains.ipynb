{
 "cells": [
  {
   "cell_type": "code",
   "execution_count": 1,
   "id": "4520aff7",
   "metadata": {},
   "outputs": [
    {
     "data": {
      "text/plain": [
       "'/media/kirti/Dev/GenAI/E2E_Job_Recommender/notebooks'"
      ]
     },
     "execution_count": 1,
     "metadata": {},
     "output_type": "execute_result"
    }
   ],
   "source": [
    "%pwd"
   ]
  },
  {
   "cell_type": "code",
   "execution_count": 2,
   "id": "fc919d3c",
   "metadata": {},
   "outputs": [
    {
     "data": {
      "text/plain": [
       "'/media/kirti/Dev/GenAI/E2E_Job_Recommender'"
      ]
     },
     "execution_count": 2,
     "metadata": {},
     "output_type": "execute_result"
    }
   ],
   "source": [
    "import os\n",
    "os.chdir('../')\n",
    "%pwd"
   ]
  },
  {
   "cell_type": "code",
   "execution_count": 3,
   "id": "eba31db6",
   "metadata": {},
   "outputs": [],
   "source": [
    "from src.job_recommender.chains.llm_chain import JobRecommenderChain\n",
    "from src.job_recommender.schema.output_schema import *\n",
    "\n",
    "from src.job_recommender.models.llm_model import LLMJobAssistant"
   ]
  },
  {
   "cell_type": "code",
   "execution_count": 4,
   "id": "a978e86c",
   "metadata": {},
   "outputs": [],
   "source": [
    "sample_resume = LLMJobAssistant._load_file(\"sample_resume.txt\")"
   ]
  },
  {
   "cell_type": "code",
   "execution_count": 5,
   "id": "621801fe",
   "metadata": {},
   "outputs": [],
   "source": [
    "resume_summary_chain = JobRecommenderChain(\n",
    "    schema=ResumeSummary).chain"
   ]
  },
  {
   "cell_type": "code",
   "execution_count": 6,
   "id": "16f96c0b",
   "metadata": {},
   "outputs": [],
   "source": [
    "from IPython.display import display, Markdown\n",
    "def display_output():\n",
    "    response = input(\"Enter the response to display: \")\n",
    "    display(Markdown(response))\n",
    "    "
   ]
  },
  {
   "cell_type": "code",
   "execution_count": 8,
   "id": "85c98414",
   "metadata": {},
   "outputs": [
    {
     "name": "stdout",
     "output_type": "stream",
     "text": [
      "[2025-08-06 22:23:26,298|(INFO)| File: _client | Message: HTTP Request: POST https://api.groq.com/openai/v1/chat/completions \"HTTP/1.1 200 OK\"]\n",
      "summary=\"Kirti Pogra, a Machine Learning Engineer with 3+ years of experience, has a strong background in deep learning, data analysis, and model optimization. With a Master's degree in Computer Science and experience in developing and deploying scalable ML solutions, Kirti has a range of skills including programming languages, machine learning algorithms, data engineering, and tools. Notable achievements include improving resume screening accuracy by 30% and reducing error rates in image classification by 15%. Additionally, Kirti has collaborated on projects including sentiment analysis and fraud detection, and holds certifications in TensorFlow and AWS.\"\n",
      "summary=\"Kirti Pogra, a Machine Learning Engineer with 3+ years of experience, has a strong background in deep learning, data analysis, and model optimization. With a Master's degree in Computer Science and experience in developing and deploying scalable ML solutions, Kirti has a range of skills including programming languages, machine learning algorithms, data engineering, and tools. Notable achievements include improving resume screening accuracy by 30% and reducing error rates in image classification by 15%. Additionally, Kirti has collaborated on projects including sentiment analysis and fraud detection, and holds certifications in TensorFlow and AWS.\"\n"
     ]
    }
   ],
   "source": [
    "# Use the chain as designed: provide file_path and resume_text only\n",
    "try:\n",
    "    result = resume_summary_chain.invoke({\n",
    "        \"file_path\": \"prompts/summary_prompt.txt\",\n",
    "        \"resume_text\": sample_resume\n",
    "    })\n",
    "except Exception as e:\n",
    "    result = str(e)\n",
    "print(result)"
   ]
  },
  {
   "cell_type": "code",
   "execution_count": 11,
   "id": "7e0d85ca",
   "metadata": {},
   "outputs": [
    {
     "data": {
      "text/plain": [
       "\"Kirti Pogra, a Machine Learning Engineer with 3+ years of experience, has a strong background in deep learning, data analysis, and model optimization. With a Master's degree in Computer Science and experience in developing and deploying scalable ML solutions, Kirti has a range of skills including programming languages, machine learning algorithms, data engineering, and tools. Notable achievements include improving resume screening accuracy by 30% and reducing error rates in image classification by 15%. Additionally, Kirti has collaborated on projects including sentiment analysis and fraud detection, and holds certifications in TensorFlow and AWS.\""
      ]
     },
     "execution_count": 11,
     "metadata": {},
     "output_type": "execute_result"
    }
   ],
   "source": [
    "result.summary"
   ]
  },
  {
   "cell_type": "code",
   "execution_count": 18,
   "id": "366e62b7",
   "metadata": {},
   "outputs": [],
   "source": [
    "keyword_chain = JobRecommenderChain(\n",
    "    schema=Keywords).chain"
   ]
  },
  {
   "cell_type": "code",
   "execution_count": 26,
   "id": "d018cb48",
   "metadata": {},
   "outputs": [
    {
     "name": "stdout",
     "output_type": "stream",
     "text": [
      "[2025-08-06 23:13:43,962|(INFO)| File: _client | Message: HTTP Request: POST https://api.groq.com/openai/v1/chat/completions \"HTTP/1.1 200 OK\"]\n",
      "keywords=['Software Engineer', 'Full Stack Developer', 'Data Scientist', 'Machine Learning Engineer', 'Cloud Architect']\n",
      "keywords=['Software Engineer', 'Full Stack Developer', 'Data Scientist', 'Machine Learning Engineer', 'Cloud Architect']\n"
     ]
    }
   ],
   "source": [
    "# Use the chain as designed: provide file_path and resume_text only\n",
    "try:\n",
    "    result = keyword_chain.invoke({\n",
    "        \"file_path\": \"prompts/keyword_prompt.txt\",\n",
    "        \"summary\": sample_resume\n",
    "    })\n",
    "except Exception as e:\n",
    "    result = str(e)\n",
    "print(result)"
   ]
  },
  {
   "cell_type": "code",
   "execution_count": 8,
   "id": "532dd765",
   "metadata": {},
   "outputs": [],
   "source": [
    "find_skill_gap_chain = JobRecommenderChain(\n",
    "    schema=FindSkillGap).chain"
   ]
  },
  {
   "cell_type": "code",
   "execution_count": null,
   "id": "a3cb6b19",
   "metadata": {},
   "outputs": [
    {
     "name": "stdout",
     "output_type": "stream",
     "text": [
      "[2025-08-06 22:45:27,532|(INFO)| File: _client | Message: HTTP Request: POST https://api.groq.com/openai/v1/chat/completions \"HTTP/1.1 200 OK\"]\n",
      "analysis=\"Currently, Kirti Pogra's resume lacks skills in the following areas that are in demand in the job market:\\n- Cloud-based platform for model deployment (e.g., Google Cloud AI Platform, Azure Machine Learning)\\n- MLOps (Model Operations) for model management and monitoring\\n- Explainable AI (XAI) for model interpretability and transparency\\n- Edge AI and IoT for applying machine learning models in real-time environments\\n- Conversational AI and dialogue systems for natural language processing\\n- Reinforcement Learning and Generative Adversarial Networks (GANs) for more complex and nuanced applications\\n- Data visualization and storytelling for effective communication of insights and results\\n- DevOps and Continuous Integration/Continuous Deployment (CI/CD) for automating machine learning workflows\\n- Attention Mechanisms and Transformers for NLP applications\\n- Transfer Learning and Fine-Tuning for adapting pre-trained models to new tasks\\n- Model serving platforms like TensorFlow Serving, AWS SageMaker, or Azure Machine Learning\"\n",
      "analysis=\"Currently, Kirti Pogra's resume lacks skills in the following areas that are in demand in the job market:\\n- Cloud-based platform for model deployment (e.g., Google Cloud AI Platform, Azure Machine Learning)\\n- MLOps (Model Operations) for model management and monitoring\\n- Explainable AI (XAI) for model interpretability and transparency\\n- Edge AI and IoT for applying machine learning models in real-time environments\\n- Conversational AI and dialogue systems for natural language processing\\n- Reinforcement Learning and Generative Adversarial Networks (GANs) for more complex and nuanced applications\\n- Data visualization and storytelling for effective communication of insights and results\\n- DevOps and Continuous Integration/Continuous Deployment (CI/CD) for automating machine learning workflows\\n- Attention Mechanisms and Transformers for NLP applications\\n- Transfer Learning and Fine-Tuning for adapting pre-trained models to new tasks\\n- Model serving platforms like TensorFlow Serving, AWS SageMaker, or Azure Machine Learning\"\n"
     ]
    }
   ],
   "source": [
    "# Use the chain as designed: provide file_path and resume_text only\n",
    "result = find_skill_gap_chain.invoke({\n",
    "    \"file_path\": \"prompts/finding_skill_gap_prompt.txt\",\n",
    "    \"resume_text\": sample_resume\n",
    "})"
   ]
  },
  {
   "cell_type": "code",
   "execution_count": null,
   "id": "c2cd713c",
   "metadata": {},
   "outputs": [],
   "source": [
    "print(result.analysis)"
   ]
  },
  {
   "cell_type": "code",
   "execution_count": 10,
   "id": "95337654",
   "metadata": {},
   "outputs": [],
   "source": [
    "project_idea_chain = JobRecommenderChain(\n",
    "    schema=ProjectIdeas).chain"
   ]
  },
  {
   "cell_type": "code",
   "execution_count": 29,
   "id": "7d90d656",
   "metadata": {},
   "outputs": [
    {
     "name": "stdout",
     "output_type": "stream",
     "text": [
      "[2025-08-06 22:54:57,793|(INFO)| File: _client | Message: HTTP Request: POST https://api.groq.com/openai/v1/chat/completions \"HTTP/1.1 200 OK\"]\n"
     ]
    }
   ],
   "source": [
    "result = project_idea_chain.invoke({\n",
    "    \"file_path\": \"prompts/project_ideas_prompt.txt\",\n",
    "    \"resume_text\": sample_resume\n",
    "})"
   ]
  },
  {
   "cell_type": "code",
   "execution_count": 31,
   "id": "cd26e79c",
   "metadata": {},
   "outputs": [
    {
     "data": {
      "text/plain": [
       "ProjectIdeas(ideas=['A sentiment analysis tool using natural language processing techniques to analyze customer feedback and improve product development.', 'A chatbot using machine learning algorithms to assist customers with common inquiries and provide personalized support.', 'A machine learning-based recommender system to suggest products based on customer behavior and preferences.', 'A web scraper using Python to extract relevant information from websites and provide insights for business intelligence.', 'A data visualization dashboard using Tableau to present complex data in an intuitive and easily understandable format.'])"
      ]
     },
     "execution_count": 31,
     "metadata": {},
     "output_type": "execute_result"
    }
   ],
   "source": [
    "result"
   ]
  },
  {
   "cell_type": "code",
   "execution_count": 11,
   "id": "8228ac47",
   "metadata": {},
   "outputs": [],
   "source": [
    "improvement_areas_chain = JobRecommenderChain(\n",
    "    schema=ImprovementAreas).chain"
   ]
  },
  {
   "cell_type": "code",
   "execution_count": 24,
   "id": "9d1a5bc8",
   "metadata": {},
   "outputs": [
    {
     "name": "stdout",
     "output_type": "stream",
     "text": [
      "[2025-08-06 23:08:20,274|(INFO)| File: _client | Message: HTTP Request: POST https://api.groq.com/openai/v1/chat/completions \"HTTP/1.1 200 OK\"]\n"
     ]
    }
   ],
   "source": [
    "result = improvement_areas_chain.invoke({\n",
    "    \"file_path\": \"prompts/wycd_prompt.txt\",\n",
    "    \"resume_text\": sample_resume\n",
    "})"
   ]
  },
  {
   "cell_type": "code",
   "execution_count": 25,
   "id": "13728656",
   "metadata": {},
   "outputs": [
    {
     "data": {
      "text/plain": [
       "\"The resume is strong in highlighting Kirti's technical skills and experience, but could benefit from more specific and quantifiable achievements in the 'Experience' section. Additionally, the 'Projects' section could be expanded to include more details about the impact and results of the projects.\""
      ]
     },
     "execution_count": 25,
     "metadata": {},
     "output_type": "execute_result"
    }
   ],
   "source": [
    "result.suggestions"
   ]
  },
  {
   "cell_type": "code",
   "execution_count": 12,
   "id": "d7efb40e",
   "metadata": {},
   "outputs": [],
   "source": [
    "from langchain.schema.runnable import RunnableParallel\n",
    "from langchain_core.runnables import RunnableLambda"
   ]
  },
  {
   "cell_type": "code",
   "execution_count": 13,
   "id": "01f4e959",
   "metadata": {},
   "outputs": [],
   "source": [
    "def create_path(folder_path,file_name):\n",
    "    return os.path.join(folder_path,file_name)"
   ]
  },
  {
   "cell_type": "code",
   "execution_count": 14,
   "id": "41dbd02a",
   "metadata": {},
   "outputs": [],
   "source": [
    "def safe_dict_access(x, key):\n",
    "    # print(x,key)\n",
    "    if not isinstance(x, dict):\n",
    "        raise TypeError(f\"Input to chain must be a dict, got {type(x)}\")\n",
    "    return x[key]\n",
    "\n",
    "\n",
    "# summary_chain = RunnableLambda(\n",
    "#     lambda x: resume_summary_chain.invoke({\n",
    "#         \"file_path\": create_path(safe_dict_access(x, 'folder_path'), \"summary_prompt.txt\"),\n",
    "#         \"resume_text\": safe_dict_access(x, \"resume\")\n",
    "#     })\n",
    "# )\n",
    "\n",
    "# keyword_chain = RunnableLambda(\n",
    "#     lambda x: keywords_chain.invoke({\n",
    "#         \"file_path\": create_path(safe_dict_access(x, 'folder_path'), \"keyword_prompt.txt\"),\n",
    "#         \"summary\": safe_dict_access(x, \"summary\")\n",
    "#     })\n",
    "# )\n"
   ]
  },
  {
   "cell_type": "code",
   "execution_count": 15,
   "id": "2734a580",
   "metadata": {},
   "outputs": [],
   "source": [
    "# from langchain_core.runnables import RunnableSequence"
   ]
  },
  {
   "cell_type": "code",
   "execution_count": 40,
   "id": "d91d9037",
   "metadata": {},
   "outputs": [],
   "source": [
    "def check_summary(x):\n",
    "    # pr(type(x))\n",
    "    print(x)"
   ]
  },
  {
   "cell_type": "code",
   "execution_count": null,
   "id": "c0aee735",
   "metadata": {},
   "outputs": [],
   "source": [
    "# job_recommendation_chain = RunnableSequence(\n",
    "#     lambda x: {\n",
    "#         \"folder_path\": x[\"folder_path\"],  # store it for later\n",
    "#         \"summary\": summary_chain.invoke(x)\n",
    "#     },\n",
    "#     lambda x: keyword_chain.invoke({\n",
    "#         \"folder_path\": x['folder_path'],\n",
    "#         \"summary\": x[\"summary\"]\n",
    "#     })\n",
    "# )"
   ]
  },
  {
   "cell_type": "code",
   "execution_count": 16,
   "id": "231325b8",
   "metadata": {},
   "outputs": [],
   "source": [
    "sample_resume = LLMJobAssistant._load_file(\"sample_resume.txt\")"
   ]
  },
  {
   "cell_type": "code",
   "execution_count": null,
   "id": "63d8e766",
   "metadata": {},
   "outputs": [],
   "source": [
    "# result = job_recommendation_chain.invoke({\n",
    "#     \"folder_path\": \"prompts/\",\n",
    "#     \"resume\": sample_resume,\n",
    "# })"
   ]
  },
  {
   "cell_type": "code",
   "execution_count": 23,
   "id": "4cb6bc08",
   "metadata": {},
   "outputs": [
    {
     "data": {
      "text/plain": [
       "Keywords(keywords=['Machine Learning Engineer', 'Sentiment Analysis', 'Fraud Detection', 'TensorFlow', 'AWS Machine Learning'])"
      ]
     },
     "execution_count": 23,
     "metadata": {},
     "output_type": "execute_result"
    }
   ],
   "source": [
    "result"
   ]
  },
  {
   "cell_type": "code",
   "execution_count": 22,
   "id": "f9dab394",
   "metadata": {},
   "outputs": [],
   "source": [
    "keywords_chain = RunnableLambda(\n",
    "    lambda x: keyword_chain.invoke({\n",
    "        \"file_path\": create_path(safe_dict_access(x, 'folder_path'), \"keyword_prompt.txt\"),\n",
    "        \"resume_text\": safe_dict_access(x, \"resume\")\n",
    "    })\n",
    ")\n",
    "\n",
    "skill_gap_chain = RunnableLambda(\n",
    "    lambda x: find_skill_gap_chain.invoke({\n",
    "        \"file_path\": create_path(safe_dict_access(x, 'folder_path'), \"finding_skill_gap_prompt.txt\"),\n",
    "        \"resume_text\": safe_dict_access(x,\"resume\")\n",
    "    })\n",
    ")\n",
    "\n",
    "projects_idea_chain = RunnableLambda(\n",
    "    lambda x: project_idea_chain.invoke({\n",
    "        \"file_path\": create_path(safe_dict_access(x, 'folder_path'), \"project_ideas_prompt.txt\"),\n",
    "        \"resume_text\": safe_dict_access(x,\"resume\")\n",
    "    })\n",
    ")\n",
    "\n",
    "improvements_areas_chain = RunnableLambda(\n",
    "    lambda x: improvement_areas_chain.invoke({\n",
    "        \"file_path\": create_path(safe_dict_access(x, 'folder_path'), \"wycd_prompt.txt\"),\n",
    "        \"resume_text\": safe_dict_access(x,\"resume\")\n",
    "    })\n",
    ")"
   ]
  },
  {
   "cell_type": "code",
   "execution_count": 23,
   "id": "6117315d",
   "metadata": {},
   "outputs": [],
   "source": [
    "suggestions_chain = RunnableParallel({\n",
    "        \"keywords\": keywords_chain,\n",
    "        \"find_skill_gap\": skill_gap_chain, \n",
    "        \"project_ideas\": projects_idea_chain,\n",
    "        \"improvement_areas\": improvements_areas_chain\n",
    "    })     "
   ]
  },
  {
   "cell_type": "code",
   "execution_count": 28,
   "id": "4748fbce",
   "metadata": {},
   "outputs": [
    {
     "name": "stdout",
     "output_type": "stream",
     "text": [
      "[2025-08-06 23:14:26,957|(INFO)| File: _client | Message: HTTP Request: POST https://api.groq.com/openai/v1/chat/completions \"HTTP/1.1 200 OK\"]\n",
      "[2025-08-06 23:14:27,214|(INFO)| File: _client | Message: HTTP Request: POST https://api.groq.com/openai/v1/chat/completions \"HTTP/1.1 200 OK\"]\n",
      "[2025-08-06 23:14:27,253|(INFO)| File: _client | Message: HTTP Request: POST https://api.groq.com/openai/v1/chat/completions \"HTTP/1.1 200 OK\"]\n",
      "[2025-08-06 23:14:27,399|(INFO)| File: _client | Message: HTTP Request: POST https://api.groq.com/openai/v1/chat/completions \"HTTP/1.1 200 OK\"]\n"
     ]
    }
   ],
   "source": [
    "suggestion_result = suggestions_chain.invoke({\n",
    "    \"folder_path\": \"prompts/\",\n",
    "    \"resume\": sample_resume\n",
    "})"
   ]
  },
  {
   "cell_type": "code",
   "execution_count": 31,
   "id": "cbb06cb4",
   "metadata": {},
   "outputs": [
    {
     "name": "stdout",
     "output_type": "stream",
     "text": [
      "                           +------------------------------------------------------------------------+                            \n",
      "                           | Parallel<keywords,find_skill_gap,project_ideas,improvement_areas>Input |                            \n",
      "                           +------------------------------------------------------------------------+                            \n",
      "                                  ********            ***               ***            ********                                  \n",
      "                         *********                 ***                     ***                 *********                         \n",
      "                    *****                        **                           **                        *****                    \n",
      "    +--------------+                  +--------------+                    +--------------+                  +--------------+     \n",
      "    | _load_prompt |                  | _load_prompt |                    | _load_prompt |                  | _load_prompt |     \n",
      "    +--------------+                  +--------------+                    +--------------+                  +--------------+     \n",
      "            *                                 *                                   *                                 *            \n",
      "            *                                 *                                   *                                 *            \n",
      "            *                                 *                                   *                                 *            \n",
      "+--------------------+              +--------------------+            +--------------------+              +--------------------+ \n",
      "| ChatPromptTemplate |              | ChatPromptTemplate |            | ChatPromptTemplate |              | ChatPromptTemplate | \n",
      "+--------------------+              +--------------------+            +--------------------+              +--------------------+ \n",
      "            *                                 *                                   *                                 *            \n",
      "            *                                 *                                   *                                 *            \n",
      "            *                                 *                                   *                                 *            \n",
      "      +----------+                      +----------+                        +----------+                      +----------+       \n",
      "      | ChatGroq |                      | ChatGroq |                        | ChatGroq |                      | ChatGroq |       \n",
      "      +----------+                      +----------+                        +----------+                      +----------+       \n",
      "            *                                 *                                   *                                 *            \n",
      "            *                                 *                                   *                                 *            \n",
      "            *                                 *                                   *                                 *            \n",
      "+---------------------+            +---------------------+            +---------------------+            +---------------------+ \n",
      "| PydanticToolsParser |**          | PydanticToolsParser |            | PydanticToolsParser |           *| PydanticToolsParser | \n",
      "+---------------------+  ********* +---------------------+            +---------------------+  ********* +---------------------+ \n",
      "                                  ********            ***               ***            ********                                  \n",
      "                                          *********      ***         ***      *********                                          \n",
      "                                                   *****    **     **    *****                                                   \n",
      "                          +-------------------------------------------------------------------------+                            \n",
      "                          | Parallel<keywords,find_skill_gap,project_ideas,improvement_areas>Output |                            \n",
      "                          +-------------------------------------------------------------------------+                            \n"
     ]
    }
   ],
   "source": [
    "suggestions_chain.get_graph().print_ascii()  # Display the graph of the final chain"
   ]
  },
  {
   "cell_type": "code",
   "execution_count": 32,
   "id": "9c6cbf92",
   "metadata": {},
   "outputs": [
    {
     "data": {
      "text/plain": [
       "{'keywords': Keywords(keywords=['Machine Learning Engineer', 'Deep Learning', 'NLP', 'Data Analysis', 'Model Optimization']),\n",
       " 'find_skill_gap': FindSkillGap(analysis='Missing skills in the job market for a Machine Learning Engineer role'),\n",
       " 'project_ideas': ProjectIdeas(ideas='Data Science, Machine Learning, Python, R, SQL, Excel, Tableau, Power BI, JavaScript, HTML/CSS, React, Angular, Vue.js, MongoDB, MySQL, PostgreSQL, Git, Agile, Scrum, Kanban, Cloud Computing, AWS, Azure, Google Cloud, DevOps, Docker, Kubernetes, CI/CD, Microservices, API Design, Web Development, Mobile App Development, Data Visualization, Business Intelligence, ETL, Data Mining, Predictive Analytics, Natural Language Processing, Computer Vision, Deep Learning'),\n",
       " 'improvement_areas': ImprovementAreas(suggestions=\"The resume is well-structured and highlights the candidate's technical skills and experience. However, there are a few areas that can be improved to increase job opportunities.\")}"
      ]
     },
     "execution_count": 32,
     "metadata": {},
     "output_type": "execute_result"
    }
   ],
   "source": [
    "suggestion_result"
   ]
  },
  {
   "cell_type": "code",
   "execution_count": 34,
   "id": "0983681a",
   "metadata": {},
   "outputs": [
    {
     "data": {
      "text/plain": [
       "['Machine Learning Engineer',\n",
       " 'Deep Learning',\n",
       " 'NLP',\n",
       " 'Data Analysis',\n",
       " 'Model Optimization']"
      ]
     },
     "execution_count": 34,
     "metadata": {},
     "output_type": "execute_result"
    }
   ],
   "source": [
    "suggestion_result['keywords'].keywords"
   ]
  },
  {
   "cell_type": "code",
   "execution_count": null,
   "id": "53cabcca",
   "metadata": {},
   "outputs": [],
   "source": []
  }
 ],
 "metadata": {
  "kernelspec": {
   "display_name": "E2E_Job_Recommender",
   "language": "python",
   "name": "python3"
  },
  "language_info": {
   "codemirror_mode": {
    "name": "ipython",
    "version": 3
   },
   "file_extension": ".py",
   "mimetype": "text/x-python",
   "name": "python",
   "nbconvert_exporter": "python",
   "pygments_lexer": "ipython3",
   "version": "3.12.3"
  }
 },
 "nbformat": 4,
 "nbformat_minor": 5
}
