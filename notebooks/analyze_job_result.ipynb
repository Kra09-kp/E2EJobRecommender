{
 "cells": [
  {
   "cell_type": "code",
   "execution_count": 1,
   "id": "7135cc8d",
   "metadata": {},
   "outputs": [
    {
     "data": {
      "text/plain": [
       "'/media/kirti/Dev/GenAI/E2E_Job_Recommender/notebooks'"
      ]
     },
     "execution_count": 1,
     "metadata": {},
     "output_type": "execute_result"
    }
   ],
   "source": [
    "%pwd"
   ]
  },
  {
   "cell_type": "code",
   "execution_count": 3,
   "id": "047ed715",
   "metadata": {},
   "outputs": [
    {
     "data": {
      "text/plain": [
       "'/media/kirti/Dev/GenAI/E2E_Job_Recommender'"
      ]
     },
     "execution_count": 3,
     "metadata": {},
     "output_type": "execute_result"
    }
   ],
   "source": [
    "import os\n",
    "os.chdir(\"../\")\n",
    "%pwd"
   ]
  },
  {
   "cell_type": "code",
   "execution_count": 4,
   "id": "65ab842f",
   "metadata": {},
   "outputs": [],
   "source": [
    "path = \"./artifacts/linkedin.json\""
   ]
  },
  {
   "cell_type": "code",
   "execution_count": null,
   "id": "9c198fb0",
   "metadata": {},
   "outputs": [],
   "source": [
    "with open(path, \"r\") as file:\n",
    "    data = file.read()"
   ]
  },
  {
   "cell_type": "code",
   "execution_count": null,
   "id": "74005424",
   "metadata": {},
   "outputs": [],
   "source": [
    "import ast\n",
    "import pandas as pd\n",
    "# If 'data' is a string containing Python literal (not JSON), use ast.literal_eval\n",
    "data_list = ast.literal_eval(data)\n",
    "df = pd.DataFrame(data_list)"
   ]
  },
  {
   "cell_type": "code",
   "execution_count": 14,
   "id": "1cdd6315",
   "metadata": {},
   "outputs": [
    {
     "name": "stdout",
     "output_type": "stream",
     "text": [
      "<class 'pandas.core.frame.DataFrame'>\n",
      "RangeIndex: 98 entries, 0 to 97\n",
      "Data columns (total 31 columns):\n",
      " #   Column                 Non-Null Count  Dtype \n",
      "---  ------                 --------------  ----- \n",
      " 0   id                     98 non-null     object\n",
      " 1   trackingId             98 non-null     object\n",
      " 2   refId                  98 non-null     object\n",
      " 3   link                   98 non-null     object\n",
      " 4   title                  98 non-null     object\n",
      " 5   companyName            98 non-null     object\n",
      " 6   companyLinkedinUrl     98 non-null     object\n",
      " 7   companyLogo            98 non-null     object\n",
      " 8   location               98 non-null     object\n",
      " 9   salaryInfo             98 non-null     object\n",
      " 10  postedAt               98 non-null     object\n",
      " 11  benefits               98 non-null     object\n",
      " 12  descriptionHtml        98 non-null     object\n",
      " 13  applicantsCount        98 non-null     object\n",
      " 14  applyUrl               98 non-null     object\n",
      " 15  salary                 98 non-null     object\n",
      " 16  descriptionText        98 non-null     object\n",
      " 17  jobPosterName          12 non-null     object\n",
      " 18  jobPosterTitle         12 non-null     object\n",
      " 19  jobPosterPhoto         12 non-null     object\n",
      " 20  jobPosterProfileUrl    12 non-null     object\n",
      " 21  seniorityLevel         95 non-null     object\n",
      " 22  employmentType         98 non-null     object\n",
      " 23  jobFunction            97 non-null     object\n",
      " 24  industries             97 non-null     object\n",
      " 25  inputUrl               98 non-null     object\n",
      " 26  companyAddress         94 non-null     object\n",
      " 27  companyWebsite         96 non-null     object\n",
      " 28  companySlogan          56 non-null     object\n",
      " 29  companyDescription     97 non-null     object\n",
      " 30  companyEmployeesCount  98 non-null     int64 \n",
      "dtypes: int64(1), object(30)\n",
      "memory usage: 23.9+ KB\n"
     ]
    }
   ],
   "source": [
    "df.info()"
   ]
  },
  {
   "cell_type": "code",
   "execution_count": 15,
   "id": "4c26208a",
   "metadata": {},
   "outputs": [
    {
     "data": {
      "text/plain": [
       "Index(['id', 'trackingId', 'refId', 'link', 'title', 'companyName',\n",
       "       'companyLinkedinUrl', 'companyLogo', 'location', 'salaryInfo',\n",
       "       'postedAt', 'benefits', 'descriptionHtml', 'applicantsCount',\n",
       "       'applyUrl', 'salary', 'descriptionText', 'jobPosterName',\n",
       "       'jobPosterTitle', 'jobPosterPhoto', 'jobPosterProfileUrl',\n",
       "       'seniorityLevel', 'employmentType', 'jobFunction', 'industries',\n",
       "       'inputUrl', 'companyAddress', 'companyWebsite', 'companySlogan',\n",
       "       'companyDescription', 'companyEmployeesCount'],\n",
       "      dtype='object')"
      ]
     },
     "execution_count": 15,
     "metadata": {},
     "output_type": "execute_result"
    }
   ],
   "source": [
    "df.columns"
   ]
  },
  {
   "cell_type": "markdown",
   "id": "09dddee2",
   "metadata": {},
   "source": [
    "What I need:\n",
    "'link', 'title', 'companyName',\n",
    "       'companyLinkedinUrl', 'companyLogo', 'location', 'salaryInfo',\n",
    "       'postedAt', 'benefits', 'descriptionHtml', 'applicantsCount',\n",
    "       'applyUrl', 'salary', 'descriptionText'"
   ]
  },
  {
   "cell_type": "code",
   "execution_count": 17,
   "id": "eb49fb0b",
   "metadata": {},
   "outputs": [],
   "source": [
    "final_data = df[['link', 'title', 'companyName',\n",
    "       'companyLinkedinUrl', 'companyLogo', 'location', 'salaryInfo',\n",
    "       'postedAt', 'benefits', 'descriptionHtml', 'applicantsCount',\n",
    "       'applyUrl', 'salary', 'descriptionText']]"
   ]
  },
  {
   "cell_type": "code",
   "execution_count": 18,
   "id": "1054a6a5",
   "metadata": {},
   "outputs": [
    {
     "data": {
      "text/html": [
       "<div>\n",
       "<style scoped>\n",
       "    .dataframe tbody tr th:only-of-type {\n",
       "        vertical-align: middle;\n",
       "    }\n",
       "\n",
       "    .dataframe tbody tr th {\n",
       "        vertical-align: top;\n",
       "    }\n",
       "\n",
       "    .dataframe thead th {\n",
       "        text-align: right;\n",
       "    }\n",
       "</style>\n",
       "<table border=\"1\" class=\"dataframe\">\n",
       "  <thead>\n",
       "    <tr style=\"text-align: right;\">\n",
       "      <th></th>\n",
       "      <th>link</th>\n",
       "      <th>title</th>\n",
       "      <th>companyName</th>\n",
       "      <th>companyLinkedinUrl</th>\n",
       "      <th>companyLogo</th>\n",
       "      <th>location</th>\n",
       "      <th>salaryInfo</th>\n",
       "      <th>postedAt</th>\n",
       "      <th>benefits</th>\n",
       "      <th>descriptionHtml</th>\n",
       "      <th>applicantsCount</th>\n",
       "      <th>applyUrl</th>\n",
       "      <th>salary</th>\n",
       "      <th>descriptionText</th>\n",
       "    </tr>\n",
       "  </thead>\n",
       "  <tbody>\n",
       "    <tr>\n",
       "      <th>0</th>\n",
       "      <td>https://in.linkedin.com/jobs/view/senior-softw...</td>\n",
       "      <td>Senior Software Engineer</td>\n",
       "      <td>Flipkart</td>\n",
       "      <td>https://in.linkedin.com/company/flipkart?trk=p...</td>\n",
       "      <td>https://media.licdn.com/dms/image/v2/D560BAQHt...</td>\n",
       "      <td>Bengaluru, Karnataka, India</td>\n",
       "      <td>[]</td>\n",
       "      <td>2025-08-16</td>\n",
       "      <td>[Actively Hiring]</td>\n",
       "      <td>&lt;p&gt;Dear Candidate &lt;/p&gt;&lt;p&gt;&lt;br&gt;&lt;/p&gt;&lt;p&gt;The ideal ...</td>\n",
       "      <td>200</td>\n",
       "      <td></td>\n",
       "      <td></td>\n",
       "      <td>Dear Candidate The ideal candidate is a self-m...</td>\n",
       "    </tr>\n",
       "    <tr>\n",
       "      <th>1</th>\n",
       "      <td>https://in.linkedin.com/jobs/view/assistant-ma...</td>\n",
       "      <td>Assistant Manager - Category</td>\n",
       "      <td>Swiggy</td>\n",
       "      <td>https://in.linkedin.com/company/swiggy-in?trk=...</td>\n",
       "      <td>https://media.licdn.com/dms/image/v2/D560BAQFg...</td>\n",
       "      <td>Bengaluru, Karnataka, India</td>\n",
       "      <td>[]</td>\n",
       "      <td>2025-08-14</td>\n",
       "      <td>[Actively Hiring]</td>\n",
       "      <td>&lt;strong&gt;Role - Assistant Manager - Category&lt;br...</td>\n",
       "      <td>200</td>\n",
       "      <td>https://careers.swiggy.com/#/careers?src=linke...</td>\n",
       "      <td></td>\n",
       "      <td>Role - Assistant Manager - CategoryWay of Work...</td>\n",
       "    </tr>\n",
       "    <tr>\n",
       "      <th>2</th>\n",
       "      <td>https://in.linkedin.com/jobs/view/python-devel...</td>\n",
       "      <td>Python Developer</td>\n",
       "      <td>Ideas2IT Technologies</td>\n",
       "      <td>https://www.linkedin.com/company/ideas2it?trk=...</td>\n",
       "      <td>https://media.licdn.com/dms/image/v2/D560BAQHN...</td>\n",
       "      <td>Chennai, Tamil Nadu, India</td>\n",
       "      <td>[]</td>\n",
       "      <td>2025-08-15</td>\n",
       "      <td>[Actively Hiring]</td>\n",
       "      <td>&lt;strong&gt;Job Role&lt;br&gt;&lt;br&gt;&lt;/strong&gt;The Python De...</td>\n",
       "      <td>141</td>\n",
       "      <td>https://app.turbohire.co/job/publicjobs/GzQsDg...</td>\n",
       "      <td></td>\n",
       "      <td>Job RoleThe Python Developer role involves dev...</td>\n",
       "    </tr>\n",
       "    <tr>\n",
       "      <th>3</th>\n",
       "      <td>https://in.linkedin.com/jobs/view/data-scienti...</td>\n",
       "      <td>Data Scientist</td>\n",
       "      <td>Fusemachines</td>\n",
       "      <td>https://www.linkedin.com/company/fusemachines?...</td>\n",
       "      <td>https://media.licdn.com/dms/image/v2/D560BAQFp...</td>\n",
       "      <td>Pune, Maharashtra, India</td>\n",
       "      <td>[]</td>\n",
       "      <td>2025-08-15</td>\n",
       "      <td>[]</td>\n",
       "      <td>&lt;strong&gt;About Fusemachines&lt;br&gt;&lt;br&gt;&lt;/strong&gt;Fus...</td>\n",
       "      <td>200</td>\n",
       "      <td></td>\n",
       "      <td></td>\n",
       "      <td>About FusemachinesFusemachines is a 10+ year o...</td>\n",
       "    </tr>\n",
       "    <tr>\n",
       "      <th>4</th>\n",
       "      <td>https://in.linkedin.com/jobs/view/software-eng...</td>\n",
       "      <td>Software Engineer 2</td>\n",
       "      <td>Intuit</td>\n",
       "      <td>https://www.linkedin.com/company/intuit?trk=pu...</td>\n",
       "      <td>https://media.licdn.com/dms/image/v2/C560BAQFT...</td>\n",
       "      <td>Bengaluru, Karnataka, India</td>\n",
       "      <td>[]</td>\n",
       "      <td>2025-08-15</td>\n",
       "      <td>[Actively Hiring]</td>\n",
       "      <td>&lt;strong&gt;Overview&lt;br&gt;&lt;br&gt;&lt;/strong&gt;Intuit is a m...</td>\n",
       "      <td>108</td>\n",
       "      <td>https://jobs.intuit.com/job/-/-/27595/85017932...</td>\n",
       "      <td></td>\n",
       "      <td>OverviewIntuit is a mission-driven, global fin...</td>\n",
       "    </tr>\n",
       "  </tbody>\n",
       "</table>\n",
       "</div>"
      ],
      "text/plain": [
       "                                                link  \\\n",
       "0  https://in.linkedin.com/jobs/view/senior-softw...   \n",
       "1  https://in.linkedin.com/jobs/view/assistant-ma...   \n",
       "2  https://in.linkedin.com/jobs/view/python-devel...   \n",
       "3  https://in.linkedin.com/jobs/view/data-scienti...   \n",
       "4  https://in.linkedin.com/jobs/view/software-eng...   \n",
       "\n",
       "                          title            companyName  \\\n",
       "0      Senior Software Engineer               Flipkart   \n",
       "1  Assistant Manager - Category                 Swiggy   \n",
       "2              Python Developer  Ideas2IT Technologies   \n",
       "3                Data Scientist           Fusemachines   \n",
       "4           Software Engineer 2                 Intuit   \n",
       "\n",
       "                                  companyLinkedinUrl  \\\n",
       "0  https://in.linkedin.com/company/flipkart?trk=p...   \n",
       "1  https://in.linkedin.com/company/swiggy-in?trk=...   \n",
       "2  https://www.linkedin.com/company/ideas2it?trk=...   \n",
       "3  https://www.linkedin.com/company/fusemachines?...   \n",
       "4  https://www.linkedin.com/company/intuit?trk=pu...   \n",
       "\n",
       "                                         companyLogo  \\\n",
       "0  https://media.licdn.com/dms/image/v2/D560BAQHt...   \n",
       "1  https://media.licdn.com/dms/image/v2/D560BAQFg...   \n",
       "2  https://media.licdn.com/dms/image/v2/D560BAQHN...   \n",
       "3  https://media.licdn.com/dms/image/v2/D560BAQFp...   \n",
       "4  https://media.licdn.com/dms/image/v2/C560BAQFT...   \n",
       "\n",
       "                      location salaryInfo    postedAt           benefits  \\\n",
       "0  Bengaluru, Karnataka, India         []  2025-08-16  [Actively Hiring]   \n",
       "1  Bengaluru, Karnataka, India         []  2025-08-14  [Actively Hiring]   \n",
       "2   Chennai, Tamil Nadu, India         []  2025-08-15  [Actively Hiring]   \n",
       "3     Pune, Maharashtra, India         []  2025-08-15                 []   \n",
       "4  Bengaluru, Karnataka, India         []  2025-08-15  [Actively Hiring]   \n",
       "\n",
       "                                     descriptionHtml applicantsCount  \\\n",
       "0  <p>Dear Candidate </p><p><br></p><p>The ideal ...             200   \n",
       "1  <strong>Role - Assistant Manager - Category<br...             200   \n",
       "2  <strong>Job Role<br><br></strong>The Python De...             141   \n",
       "3  <strong>About Fusemachines<br><br></strong>Fus...             200   \n",
       "4  <strong>Overview<br><br></strong>Intuit is a m...             108   \n",
       "\n",
       "                                            applyUrl salary  \\\n",
       "0                                                             \n",
       "1  https://careers.swiggy.com/#/careers?src=linke...          \n",
       "2  https://app.turbohire.co/job/publicjobs/GzQsDg...          \n",
       "3                                                             \n",
       "4  https://jobs.intuit.com/job/-/-/27595/85017932...          \n",
       "\n",
       "                                     descriptionText  \n",
       "0  Dear Candidate The ideal candidate is a self-m...  \n",
       "1  Role - Assistant Manager - CategoryWay of Work...  \n",
       "2  Job RoleThe Python Developer role involves dev...  \n",
       "3  About FusemachinesFusemachines is a 10+ year o...  \n",
       "4  OverviewIntuit is a mission-driven, global fin...  "
      ]
     },
     "execution_count": 18,
     "metadata": {},
     "output_type": "execute_result"
    }
   ],
   "source": [
    "final_data.head()"
   ]
  },
  {
   "cell_type": "code",
   "execution_count": 19,
   "id": "d0a2cea1",
   "metadata": {},
   "outputs": [
    {
     "name": "stderr",
     "output_type": "stream",
     "text": [
      "/tmp/ipykernel_77466/1400426438.py:3: SettingWithCopyWarning: \n",
      "A value is trying to be set on a copy of a slice from a DataFrame\n",
      "\n",
      "See the caveats in the documentation: https://pandas.pydata.org/pandas-docs/stable/user_guide/indexing.html#returning-a-view-versus-a-copy\n",
      "  final_data.drop(columns=['descriptionText'], inplace=True)\n"
     ]
    }
   ],
   "source": [
    "# as i am doing this because i want to display data on webpage so i will keep html col and dropping text one\n",
    "\n",
    "final_data.drop(columns=['descriptionText'], inplace=True)"
   ]
  },
  {
   "cell_type": "code",
   "execution_count": 20,
   "id": "fbf36021",
   "metadata": {},
   "outputs": [
    {
     "data": {
      "text/html": [
       "<div>\n",
       "<style scoped>\n",
       "    .dataframe tbody tr th:only-of-type {\n",
       "        vertical-align: middle;\n",
       "    }\n",
       "\n",
       "    .dataframe tbody tr th {\n",
       "        vertical-align: top;\n",
       "    }\n",
       "\n",
       "    .dataframe thead th {\n",
       "        text-align: right;\n",
       "    }\n",
       "</style>\n",
       "<table border=\"1\" class=\"dataframe\">\n",
       "  <thead>\n",
       "    <tr style=\"text-align: right;\">\n",
       "      <th></th>\n",
       "      <th>link</th>\n",
       "      <th>title</th>\n",
       "      <th>companyName</th>\n",
       "      <th>companyLinkedinUrl</th>\n",
       "      <th>companyLogo</th>\n",
       "      <th>location</th>\n",
       "      <th>salaryInfo</th>\n",
       "      <th>postedAt</th>\n",
       "      <th>benefits</th>\n",
       "      <th>descriptionHtml</th>\n",
       "      <th>applicantsCount</th>\n",
       "      <th>applyUrl</th>\n",
       "      <th>salary</th>\n",
       "    </tr>\n",
       "  </thead>\n",
       "  <tbody>\n",
       "    <tr>\n",
       "      <th>0</th>\n",
       "      <td>https://in.linkedin.com/jobs/view/senior-softw...</td>\n",
       "      <td>Senior Software Engineer</td>\n",
       "      <td>Flipkart</td>\n",
       "      <td>https://in.linkedin.com/company/flipkart?trk=p...</td>\n",
       "      <td>https://media.licdn.com/dms/image/v2/D560BAQHt...</td>\n",
       "      <td>Bengaluru, Karnataka, India</td>\n",
       "      <td>[]</td>\n",
       "      <td>2025-08-16</td>\n",
       "      <td>[Actively Hiring]</td>\n",
       "      <td>&lt;p&gt;Dear Candidate &lt;/p&gt;&lt;p&gt;&lt;br&gt;&lt;/p&gt;&lt;p&gt;The ideal ...</td>\n",
       "      <td>200</td>\n",
       "      <td></td>\n",
       "      <td></td>\n",
       "    </tr>\n",
       "    <tr>\n",
       "      <th>1</th>\n",
       "      <td>https://in.linkedin.com/jobs/view/assistant-ma...</td>\n",
       "      <td>Assistant Manager - Category</td>\n",
       "      <td>Swiggy</td>\n",
       "      <td>https://in.linkedin.com/company/swiggy-in?trk=...</td>\n",
       "      <td>https://media.licdn.com/dms/image/v2/D560BAQFg...</td>\n",
       "      <td>Bengaluru, Karnataka, India</td>\n",
       "      <td>[]</td>\n",
       "      <td>2025-08-14</td>\n",
       "      <td>[Actively Hiring]</td>\n",
       "      <td>&lt;strong&gt;Role - Assistant Manager - Category&lt;br...</td>\n",
       "      <td>200</td>\n",
       "      <td>https://careers.swiggy.com/#/careers?src=linke...</td>\n",
       "      <td></td>\n",
       "    </tr>\n",
       "    <tr>\n",
       "      <th>2</th>\n",
       "      <td>https://in.linkedin.com/jobs/view/python-devel...</td>\n",
       "      <td>Python Developer</td>\n",
       "      <td>Ideas2IT Technologies</td>\n",
       "      <td>https://www.linkedin.com/company/ideas2it?trk=...</td>\n",
       "      <td>https://media.licdn.com/dms/image/v2/D560BAQHN...</td>\n",
       "      <td>Chennai, Tamil Nadu, India</td>\n",
       "      <td>[]</td>\n",
       "      <td>2025-08-15</td>\n",
       "      <td>[Actively Hiring]</td>\n",
       "      <td>&lt;strong&gt;Job Role&lt;br&gt;&lt;br&gt;&lt;/strong&gt;The Python De...</td>\n",
       "      <td>141</td>\n",
       "      <td>https://app.turbohire.co/job/publicjobs/GzQsDg...</td>\n",
       "      <td></td>\n",
       "    </tr>\n",
       "    <tr>\n",
       "      <th>3</th>\n",
       "      <td>https://in.linkedin.com/jobs/view/data-scienti...</td>\n",
       "      <td>Data Scientist</td>\n",
       "      <td>Fusemachines</td>\n",
       "      <td>https://www.linkedin.com/company/fusemachines?...</td>\n",
       "      <td>https://media.licdn.com/dms/image/v2/D560BAQFp...</td>\n",
       "      <td>Pune, Maharashtra, India</td>\n",
       "      <td>[]</td>\n",
       "      <td>2025-08-15</td>\n",
       "      <td>[]</td>\n",
       "      <td>&lt;strong&gt;About Fusemachines&lt;br&gt;&lt;br&gt;&lt;/strong&gt;Fus...</td>\n",
       "      <td>200</td>\n",
       "      <td></td>\n",
       "      <td></td>\n",
       "    </tr>\n",
       "    <tr>\n",
       "      <th>4</th>\n",
       "      <td>https://in.linkedin.com/jobs/view/software-eng...</td>\n",
       "      <td>Software Engineer 2</td>\n",
       "      <td>Intuit</td>\n",
       "      <td>https://www.linkedin.com/company/intuit?trk=pu...</td>\n",
       "      <td>https://media.licdn.com/dms/image/v2/C560BAQFT...</td>\n",
       "      <td>Bengaluru, Karnataka, India</td>\n",
       "      <td>[]</td>\n",
       "      <td>2025-08-15</td>\n",
       "      <td>[Actively Hiring]</td>\n",
       "      <td>&lt;strong&gt;Overview&lt;br&gt;&lt;br&gt;&lt;/strong&gt;Intuit is a m...</td>\n",
       "      <td>108</td>\n",
       "      <td>https://jobs.intuit.com/job/-/-/27595/85017932...</td>\n",
       "      <td></td>\n",
       "    </tr>\n",
       "  </tbody>\n",
       "</table>\n",
       "</div>"
      ],
      "text/plain": [
       "                                                link  \\\n",
       "0  https://in.linkedin.com/jobs/view/senior-softw...   \n",
       "1  https://in.linkedin.com/jobs/view/assistant-ma...   \n",
       "2  https://in.linkedin.com/jobs/view/python-devel...   \n",
       "3  https://in.linkedin.com/jobs/view/data-scienti...   \n",
       "4  https://in.linkedin.com/jobs/view/software-eng...   \n",
       "\n",
       "                          title            companyName  \\\n",
       "0      Senior Software Engineer               Flipkart   \n",
       "1  Assistant Manager - Category                 Swiggy   \n",
       "2              Python Developer  Ideas2IT Technologies   \n",
       "3                Data Scientist           Fusemachines   \n",
       "4           Software Engineer 2                 Intuit   \n",
       "\n",
       "                                  companyLinkedinUrl  \\\n",
       "0  https://in.linkedin.com/company/flipkart?trk=p...   \n",
       "1  https://in.linkedin.com/company/swiggy-in?trk=...   \n",
       "2  https://www.linkedin.com/company/ideas2it?trk=...   \n",
       "3  https://www.linkedin.com/company/fusemachines?...   \n",
       "4  https://www.linkedin.com/company/intuit?trk=pu...   \n",
       "\n",
       "                                         companyLogo  \\\n",
       "0  https://media.licdn.com/dms/image/v2/D560BAQHt...   \n",
       "1  https://media.licdn.com/dms/image/v2/D560BAQFg...   \n",
       "2  https://media.licdn.com/dms/image/v2/D560BAQHN...   \n",
       "3  https://media.licdn.com/dms/image/v2/D560BAQFp...   \n",
       "4  https://media.licdn.com/dms/image/v2/C560BAQFT...   \n",
       "\n",
       "                      location salaryInfo    postedAt           benefits  \\\n",
       "0  Bengaluru, Karnataka, India         []  2025-08-16  [Actively Hiring]   \n",
       "1  Bengaluru, Karnataka, India         []  2025-08-14  [Actively Hiring]   \n",
       "2   Chennai, Tamil Nadu, India         []  2025-08-15  [Actively Hiring]   \n",
       "3     Pune, Maharashtra, India         []  2025-08-15                 []   \n",
       "4  Bengaluru, Karnataka, India         []  2025-08-15  [Actively Hiring]   \n",
       "\n",
       "                                     descriptionHtml applicantsCount  \\\n",
       "0  <p>Dear Candidate </p><p><br></p><p>The ideal ...             200   \n",
       "1  <strong>Role - Assistant Manager - Category<br...             200   \n",
       "2  <strong>Job Role<br><br></strong>The Python De...             141   \n",
       "3  <strong>About Fusemachines<br><br></strong>Fus...             200   \n",
       "4  <strong>Overview<br><br></strong>Intuit is a m...             108   \n",
       "\n",
       "                                            applyUrl salary  \n",
       "0                                                            \n",
       "1  https://careers.swiggy.com/#/careers?src=linke...         \n",
       "2  https://app.turbohire.co/job/publicjobs/GzQsDg...         \n",
       "3                                                            \n",
       "4  https://jobs.intuit.com/job/-/-/27595/85017932...         "
      ]
     },
     "execution_count": 20,
     "metadata": {},
     "output_type": "execute_result"
    }
   ],
   "source": [
    "final_data.head()"
   ]
  },
  {
   "cell_type": "code",
   "execution_count": 21,
   "id": "3311aff2",
   "metadata": {},
   "outputs": [
    {
     "data": {
      "text/plain": [
       "array(['', '₹80,000.00/mo - ₹90,000.00/mo',\n",
       "       '₹3,000,000.00/yr - ₹4,500,000.00/yr'], dtype=object)"
      ]
     },
     "execution_count": 21,
     "metadata": {},
     "output_type": "execute_result"
    }
   ],
   "source": [
    "final_data['salary'].unique()"
   ]
  },
  {
   "cell_type": "code",
   "execution_count": 22,
   "id": "0edadde9",
   "metadata": {},
   "outputs": [
    {
     "data": {
      "text/plain": [
       "salary\n",
       "                                       96\n",
       "₹80,000.00/mo - ₹90,000.00/mo           1\n",
       "₹3,000,000.00/yr - ₹4,500,000.00/yr     1\n",
       "Name: count, dtype: int64"
      ]
     },
     "execution_count": 22,
     "metadata": {},
     "output_type": "execute_result"
    }
   ],
   "source": [
    "final_data['salary'].value_counts()"
   ]
  },
  {
   "cell_type": "code",
   "execution_count": 23,
   "id": "cc442775",
   "metadata": {},
   "outputs": [
    {
     "data": {
      "text/plain": [
       "salaryInfo\n",
       "[]                                90\n",
       "[₹2,000,000.00, ₹3,500,000.00]     3\n",
       "[₹3,000,000.00, ₹4,500,000.00]     2\n",
       "[₹2,500,000.00, ₹4,800,000.00]     1\n",
       "[₹80,000.00, ₹90,000.00]           1\n",
       "[₹3,000,000.00, ₹5,000,000.00]     1\n",
       "Name: count, dtype: int64"
      ]
     },
     "execution_count": 23,
     "metadata": {},
     "output_type": "execute_result"
    }
   ],
   "source": [
    "final_data['salaryInfo'].value_counts()"
   ]
  },
  {
   "cell_type": "markdown",
   "id": "ae491572",
   "metadata": {},
   "source": [
    "Okay so both columns have multiple empty values so its better to just drop it , as most of the time we will get nothing"
   ]
  },
  {
   "cell_type": "code",
   "execution_count": 24,
   "id": "b976684a",
   "metadata": {},
   "outputs": [],
   "source": [
    "columns_to_drop = [\"salary\",\"salaryInfo\"]"
   ]
  },
  {
   "cell_type": "markdown",
   "id": "273e2c12",
   "metadata": {},
   "source": [
    "now lets check for the other columns"
   ]
  },
  {
   "cell_type": "code",
   "execution_count": 26,
   "id": "2a80d8a7",
   "metadata": {},
   "outputs": [
    {
     "data": {
      "text/html": [
       "<div>\n",
       "<style scoped>\n",
       "    .dataframe tbody tr th:only-of-type {\n",
       "        vertical-align: middle;\n",
       "    }\n",
       "\n",
       "    .dataframe tbody tr th {\n",
       "        vertical-align: top;\n",
       "    }\n",
       "\n",
       "    .dataframe thead th {\n",
       "        text-align: right;\n",
       "    }\n",
       "</style>\n",
       "<table border=\"1\" class=\"dataframe\">\n",
       "  <thead>\n",
       "    <tr style=\"text-align: right;\">\n",
       "      <th></th>\n",
       "      <th>link</th>\n",
       "      <th>title</th>\n",
       "      <th>companyName</th>\n",
       "      <th>companyLinkedinUrl</th>\n",
       "      <th>companyLogo</th>\n",
       "      <th>location</th>\n",
       "      <th>salaryInfo</th>\n",
       "      <th>postedAt</th>\n",
       "      <th>benefits</th>\n",
       "      <th>descriptionHtml</th>\n",
       "      <th>applicantsCount</th>\n",
       "      <th>applyUrl</th>\n",
       "      <th>salary</th>\n",
       "    </tr>\n",
       "  </thead>\n",
       "  <tbody>\n",
       "    <tr>\n",
       "      <th>0</th>\n",
       "      <td>https://in.linkedin.com/jobs/view/senior-softw...</td>\n",
       "      <td>Senior Software Engineer</td>\n",
       "      <td>Flipkart</td>\n",
       "      <td>https://in.linkedin.com/company/flipkart?trk=p...</td>\n",
       "      <td>https://media.licdn.com/dms/image/v2/D560BAQHt...</td>\n",
       "      <td>Bengaluru, Karnataka, India</td>\n",
       "      <td>[]</td>\n",
       "      <td>2025-08-16</td>\n",
       "      <td>[Actively Hiring]</td>\n",
       "      <td>&lt;p&gt;Dear Candidate &lt;/p&gt;&lt;p&gt;&lt;br&gt;&lt;/p&gt;&lt;p&gt;The ideal ...</td>\n",
       "      <td>200</td>\n",
       "      <td></td>\n",
       "      <td></td>\n",
       "    </tr>\n",
       "    <tr>\n",
       "      <th>1</th>\n",
       "      <td>https://in.linkedin.com/jobs/view/assistant-ma...</td>\n",
       "      <td>Assistant Manager - Category</td>\n",
       "      <td>Swiggy</td>\n",
       "      <td>https://in.linkedin.com/company/swiggy-in?trk=...</td>\n",
       "      <td>https://media.licdn.com/dms/image/v2/D560BAQFg...</td>\n",
       "      <td>Bengaluru, Karnataka, India</td>\n",
       "      <td>[]</td>\n",
       "      <td>2025-08-14</td>\n",
       "      <td>[Actively Hiring]</td>\n",
       "      <td>&lt;strong&gt;Role - Assistant Manager - Category&lt;br...</td>\n",
       "      <td>200</td>\n",
       "      <td>https://careers.swiggy.com/#/careers?src=linke...</td>\n",
       "      <td></td>\n",
       "    </tr>\n",
       "    <tr>\n",
       "      <th>2</th>\n",
       "      <td>https://in.linkedin.com/jobs/view/python-devel...</td>\n",
       "      <td>Python Developer</td>\n",
       "      <td>Ideas2IT Technologies</td>\n",
       "      <td>https://www.linkedin.com/company/ideas2it?trk=...</td>\n",
       "      <td>https://media.licdn.com/dms/image/v2/D560BAQHN...</td>\n",
       "      <td>Chennai, Tamil Nadu, India</td>\n",
       "      <td>[]</td>\n",
       "      <td>2025-08-15</td>\n",
       "      <td>[Actively Hiring]</td>\n",
       "      <td>&lt;strong&gt;Job Role&lt;br&gt;&lt;br&gt;&lt;/strong&gt;The Python De...</td>\n",
       "      <td>141</td>\n",
       "      <td>https://app.turbohire.co/job/publicjobs/GzQsDg...</td>\n",
       "      <td></td>\n",
       "    </tr>\n",
       "    <tr>\n",
       "      <th>3</th>\n",
       "      <td>https://in.linkedin.com/jobs/view/data-scienti...</td>\n",
       "      <td>Data Scientist</td>\n",
       "      <td>Fusemachines</td>\n",
       "      <td>https://www.linkedin.com/company/fusemachines?...</td>\n",
       "      <td>https://media.licdn.com/dms/image/v2/D560BAQFp...</td>\n",
       "      <td>Pune, Maharashtra, India</td>\n",
       "      <td>[]</td>\n",
       "      <td>2025-08-15</td>\n",
       "      <td>[]</td>\n",
       "      <td>&lt;strong&gt;About Fusemachines&lt;br&gt;&lt;br&gt;&lt;/strong&gt;Fus...</td>\n",
       "      <td>200</td>\n",
       "      <td></td>\n",
       "      <td></td>\n",
       "    </tr>\n",
       "    <tr>\n",
       "      <th>4</th>\n",
       "      <td>https://in.linkedin.com/jobs/view/software-eng...</td>\n",
       "      <td>Software Engineer 2</td>\n",
       "      <td>Intuit</td>\n",
       "      <td>https://www.linkedin.com/company/intuit?trk=pu...</td>\n",
       "      <td>https://media.licdn.com/dms/image/v2/C560BAQFT...</td>\n",
       "      <td>Bengaluru, Karnataka, India</td>\n",
       "      <td>[]</td>\n",
       "      <td>2025-08-15</td>\n",
       "      <td>[Actively Hiring]</td>\n",
       "      <td>&lt;strong&gt;Overview&lt;br&gt;&lt;br&gt;&lt;/strong&gt;Intuit is a m...</td>\n",
       "      <td>108</td>\n",
       "      <td>https://jobs.intuit.com/job/-/-/27595/85017932...</td>\n",
       "      <td></td>\n",
       "    </tr>\n",
       "  </tbody>\n",
       "</table>\n",
       "</div>"
      ],
      "text/plain": [
       "                                                link  \\\n",
       "0  https://in.linkedin.com/jobs/view/senior-softw...   \n",
       "1  https://in.linkedin.com/jobs/view/assistant-ma...   \n",
       "2  https://in.linkedin.com/jobs/view/python-devel...   \n",
       "3  https://in.linkedin.com/jobs/view/data-scienti...   \n",
       "4  https://in.linkedin.com/jobs/view/software-eng...   \n",
       "\n",
       "                          title            companyName  \\\n",
       "0      Senior Software Engineer               Flipkart   \n",
       "1  Assistant Manager - Category                 Swiggy   \n",
       "2              Python Developer  Ideas2IT Technologies   \n",
       "3                Data Scientist           Fusemachines   \n",
       "4           Software Engineer 2                 Intuit   \n",
       "\n",
       "                                  companyLinkedinUrl  \\\n",
       "0  https://in.linkedin.com/company/flipkart?trk=p...   \n",
       "1  https://in.linkedin.com/company/swiggy-in?trk=...   \n",
       "2  https://www.linkedin.com/company/ideas2it?trk=...   \n",
       "3  https://www.linkedin.com/company/fusemachines?...   \n",
       "4  https://www.linkedin.com/company/intuit?trk=pu...   \n",
       "\n",
       "                                         companyLogo  \\\n",
       "0  https://media.licdn.com/dms/image/v2/D560BAQHt...   \n",
       "1  https://media.licdn.com/dms/image/v2/D560BAQFg...   \n",
       "2  https://media.licdn.com/dms/image/v2/D560BAQHN...   \n",
       "3  https://media.licdn.com/dms/image/v2/D560BAQFp...   \n",
       "4  https://media.licdn.com/dms/image/v2/C560BAQFT...   \n",
       "\n",
       "                      location salaryInfo    postedAt           benefits  \\\n",
       "0  Bengaluru, Karnataka, India         []  2025-08-16  [Actively Hiring]   \n",
       "1  Bengaluru, Karnataka, India         []  2025-08-14  [Actively Hiring]   \n",
       "2   Chennai, Tamil Nadu, India         []  2025-08-15  [Actively Hiring]   \n",
       "3     Pune, Maharashtra, India         []  2025-08-15                 []   \n",
       "4  Bengaluru, Karnataka, India         []  2025-08-15  [Actively Hiring]   \n",
       "\n",
       "                                     descriptionHtml applicantsCount  \\\n",
       "0  <p>Dear Candidate </p><p><br></p><p>The ideal ...             200   \n",
       "1  <strong>Role - Assistant Manager - Category<br...             200   \n",
       "2  <strong>Job Role<br><br></strong>The Python De...             141   \n",
       "3  <strong>About Fusemachines<br><br></strong>Fus...             200   \n",
       "4  <strong>Overview<br><br></strong>Intuit is a m...             108   \n",
       "\n",
       "                                            applyUrl salary  \n",
       "0                                                            \n",
       "1  https://careers.swiggy.com/#/careers?src=linke...         \n",
       "2  https://app.turbohire.co/job/publicjobs/GzQsDg...         \n",
       "3                                                            \n",
       "4  https://jobs.intuit.com/job/-/-/27595/85017932...         "
      ]
     },
     "execution_count": 26,
     "metadata": {},
     "output_type": "execute_result"
    }
   ],
   "source": [
    "final_data.head()"
   ]
  },
  {
   "cell_type": "code",
   "execution_count": 28,
   "id": "7c4b599a",
   "metadata": {},
   "outputs": [
    {
     "data": {
      "text/plain": [
       "applyUrl\n",
       "                                                                                                                                                                                     32\n",
       "https://internshala.com/internship/detail/data-analytics-internship-in-multiple-locations-at-urban-company1755152797/?utm_campaign=linkedin_d2002&utm_source=Linkedin_Partnership     3\n",
       "https://careers.google.com/jobs/results/141128841836798662-solution-expert/?src=Online/LinkedIn/linkedin_us&utm_source=linkedin&utm_medium=jobposting&utm_campaign=contract           2\n",
       "https://paypal.eightfold.ai/careers?domain=paypal.com&sort_by=relevance&query=R0129205&Codes=W-LINKEDIN                                                                               1\n",
       "https://www.apna.co/job/Kolkata/Sales-and-Marketing-Leader-766745689?utm_source=LinkedIn&utm_medium=listing&utm_campaign=linkedin_apply&ref=linkedin                                  1\n",
       "Name: count, dtype: int64"
      ]
     },
     "execution_count": 28,
     "metadata": {},
     "output_type": "execute_result"
    }
   ],
   "source": [
    "final_data[\"applyUrl\"].value_counts()[:5]"
   ]
  },
  {
   "cell_type": "markdown",
   "id": "9dc0fe3f",
   "metadata": {},
   "source": [
    "one more thing I notice that applyUrl and link columns present different data but applyurl have many empty values and also in both columns link will be good enough for me"
   ]
  },
  {
   "cell_type": "code",
   "execution_count": 29,
   "id": "49b4bdf1",
   "metadata": {},
   "outputs": [],
   "source": [
    "columns_to_drop.append(\"applyUrl\")"
   ]
  },
  {
   "cell_type": "code",
   "execution_count": 30,
   "id": "80b70516",
   "metadata": {},
   "outputs": [
    {
     "data": {
      "text/plain": [
       "benefits\n",
       "[Actively Hiring]          55\n",
       "[]                         31\n",
       "[Be an early applicant]    12\n",
       "Name: count, dtype: int64"
      ]
     },
     "execution_count": 30,
     "metadata": {},
     "output_type": "execute_result"
    }
   ],
   "source": [
    "final_data['benefits'].value_counts()"
   ]
  },
  {
   "cell_type": "markdown",
   "id": "15ce6201",
   "metadata": {},
   "source": [
    "this columns is important but for my project i don't think it will play major role that's why i am going to drop this one also"
   ]
  },
  {
   "cell_type": "code",
   "execution_count": 31,
   "id": "c5c858af",
   "metadata": {},
   "outputs": [],
   "source": [
    "columns_to_drop.append(\"benefits\")"
   ]
  },
  {
   "cell_type": "code",
   "execution_count": 33,
   "id": "272a7413",
   "metadata": {},
   "outputs": [
    {
     "data": {
      "text/html": [
       "<div>\n",
       "<style scoped>\n",
       "    .dataframe tbody tr th:only-of-type {\n",
       "        vertical-align: middle;\n",
       "    }\n",
       "\n",
       "    .dataframe tbody tr th {\n",
       "        vertical-align: top;\n",
       "    }\n",
       "\n",
       "    .dataframe thead th {\n",
       "        text-align: right;\n",
       "    }\n",
       "</style>\n",
       "<table border=\"1\" class=\"dataframe\">\n",
       "  <thead>\n",
       "    <tr style=\"text-align: right;\">\n",
       "      <th></th>\n",
       "      <th>link</th>\n",
       "      <th>title</th>\n",
       "      <th>companyName</th>\n",
       "      <th>companyLinkedinUrl</th>\n",
       "      <th>companyLogo</th>\n",
       "      <th>location</th>\n",
       "      <th>salaryInfo</th>\n",
       "      <th>postedAt</th>\n",
       "      <th>benefits</th>\n",
       "      <th>descriptionHtml</th>\n",
       "      <th>applicantsCount</th>\n",
       "      <th>applyUrl</th>\n",
       "      <th>salary</th>\n",
       "    </tr>\n",
       "  </thead>\n",
       "  <tbody>\n",
       "    <tr>\n",
       "      <th>0</th>\n",
       "      <td>https://in.linkedin.com/jobs/view/senior-softw...</td>\n",
       "      <td>Senior Software Engineer</td>\n",
       "      <td>Flipkart</td>\n",
       "      <td>https://in.linkedin.com/company/flipkart?trk=p...</td>\n",
       "      <td>https://media.licdn.com/dms/image/v2/D560BAQHt...</td>\n",
       "      <td>Bengaluru, Karnataka, India</td>\n",
       "      <td>[]</td>\n",
       "      <td>2025-08-16</td>\n",
       "      <td>[Actively Hiring]</td>\n",
       "      <td>&lt;p&gt;Dear Candidate &lt;/p&gt;&lt;p&gt;&lt;br&gt;&lt;/p&gt;&lt;p&gt;The ideal ...</td>\n",
       "      <td>200</td>\n",
       "      <td></td>\n",
       "      <td></td>\n",
       "    </tr>\n",
       "    <tr>\n",
       "      <th>1</th>\n",
       "      <td>https://in.linkedin.com/jobs/view/assistant-ma...</td>\n",
       "      <td>Assistant Manager - Category</td>\n",
       "      <td>Swiggy</td>\n",
       "      <td>https://in.linkedin.com/company/swiggy-in?trk=...</td>\n",
       "      <td>https://media.licdn.com/dms/image/v2/D560BAQFg...</td>\n",
       "      <td>Bengaluru, Karnataka, India</td>\n",
       "      <td>[]</td>\n",
       "      <td>2025-08-14</td>\n",
       "      <td>[Actively Hiring]</td>\n",
       "      <td>&lt;strong&gt;Role - Assistant Manager - Category&lt;br...</td>\n",
       "      <td>200</td>\n",
       "      <td>https://careers.swiggy.com/#/careers?src=linke...</td>\n",
       "      <td></td>\n",
       "    </tr>\n",
       "    <tr>\n",
       "      <th>2</th>\n",
       "      <td>https://in.linkedin.com/jobs/view/python-devel...</td>\n",
       "      <td>Python Developer</td>\n",
       "      <td>Ideas2IT Technologies</td>\n",
       "      <td>https://www.linkedin.com/company/ideas2it?trk=...</td>\n",
       "      <td>https://media.licdn.com/dms/image/v2/D560BAQHN...</td>\n",
       "      <td>Chennai, Tamil Nadu, India</td>\n",
       "      <td>[]</td>\n",
       "      <td>2025-08-15</td>\n",
       "      <td>[Actively Hiring]</td>\n",
       "      <td>&lt;strong&gt;Job Role&lt;br&gt;&lt;br&gt;&lt;/strong&gt;The Python De...</td>\n",
       "      <td>141</td>\n",
       "      <td>https://app.turbohire.co/job/publicjobs/GzQsDg...</td>\n",
       "      <td></td>\n",
       "    </tr>\n",
       "    <tr>\n",
       "      <th>3</th>\n",
       "      <td>https://in.linkedin.com/jobs/view/data-scienti...</td>\n",
       "      <td>Data Scientist</td>\n",
       "      <td>Fusemachines</td>\n",
       "      <td>https://www.linkedin.com/company/fusemachines?...</td>\n",
       "      <td>https://media.licdn.com/dms/image/v2/D560BAQFp...</td>\n",
       "      <td>Pune, Maharashtra, India</td>\n",
       "      <td>[]</td>\n",
       "      <td>2025-08-15</td>\n",
       "      <td>[]</td>\n",
       "      <td>&lt;strong&gt;About Fusemachines&lt;br&gt;&lt;br&gt;&lt;/strong&gt;Fus...</td>\n",
       "      <td>200</td>\n",
       "      <td></td>\n",
       "      <td></td>\n",
       "    </tr>\n",
       "    <tr>\n",
       "      <th>4</th>\n",
       "      <td>https://in.linkedin.com/jobs/view/software-eng...</td>\n",
       "      <td>Software Engineer 2</td>\n",
       "      <td>Intuit</td>\n",
       "      <td>https://www.linkedin.com/company/intuit?trk=pu...</td>\n",
       "      <td>https://media.licdn.com/dms/image/v2/C560BAQFT...</td>\n",
       "      <td>Bengaluru, Karnataka, India</td>\n",
       "      <td>[]</td>\n",
       "      <td>2025-08-15</td>\n",
       "      <td>[Actively Hiring]</td>\n",
       "      <td>&lt;strong&gt;Overview&lt;br&gt;&lt;br&gt;&lt;/strong&gt;Intuit is a m...</td>\n",
       "      <td>108</td>\n",
       "      <td>https://jobs.intuit.com/job/-/-/27595/85017932...</td>\n",
       "      <td></td>\n",
       "    </tr>\n",
       "  </tbody>\n",
       "</table>\n",
       "</div>"
      ],
      "text/plain": [
       "                                                link  \\\n",
       "0  https://in.linkedin.com/jobs/view/senior-softw...   \n",
       "1  https://in.linkedin.com/jobs/view/assistant-ma...   \n",
       "2  https://in.linkedin.com/jobs/view/python-devel...   \n",
       "3  https://in.linkedin.com/jobs/view/data-scienti...   \n",
       "4  https://in.linkedin.com/jobs/view/software-eng...   \n",
       "\n",
       "                          title            companyName  \\\n",
       "0      Senior Software Engineer               Flipkart   \n",
       "1  Assistant Manager - Category                 Swiggy   \n",
       "2              Python Developer  Ideas2IT Technologies   \n",
       "3                Data Scientist           Fusemachines   \n",
       "4           Software Engineer 2                 Intuit   \n",
       "\n",
       "                                  companyLinkedinUrl  \\\n",
       "0  https://in.linkedin.com/company/flipkart?trk=p...   \n",
       "1  https://in.linkedin.com/company/swiggy-in?trk=...   \n",
       "2  https://www.linkedin.com/company/ideas2it?trk=...   \n",
       "3  https://www.linkedin.com/company/fusemachines?...   \n",
       "4  https://www.linkedin.com/company/intuit?trk=pu...   \n",
       "\n",
       "                                         companyLogo  \\\n",
       "0  https://media.licdn.com/dms/image/v2/D560BAQHt...   \n",
       "1  https://media.licdn.com/dms/image/v2/D560BAQFg...   \n",
       "2  https://media.licdn.com/dms/image/v2/D560BAQHN...   \n",
       "3  https://media.licdn.com/dms/image/v2/D560BAQFp...   \n",
       "4  https://media.licdn.com/dms/image/v2/C560BAQFT...   \n",
       "\n",
       "                      location salaryInfo    postedAt           benefits  \\\n",
       "0  Bengaluru, Karnataka, India         []  2025-08-16  [Actively Hiring]   \n",
       "1  Bengaluru, Karnataka, India         []  2025-08-14  [Actively Hiring]   \n",
       "2   Chennai, Tamil Nadu, India         []  2025-08-15  [Actively Hiring]   \n",
       "3     Pune, Maharashtra, India         []  2025-08-15                 []   \n",
       "4  Bengaluru, Karnataka, India         []  2025-08-15  [Actively Hiring]   \n",
       "\n",
       "                                     descriptionHtml applicantsCount  \\\n",
       "0  <p>Dear Candidate </p><p><br></p><p>The ideal ...             200   \n",
       "1  <strong>Role - Assistant Manager - Category<br...             200   \n",
       "2  <strong>Job Role<br><br></strong>The Python De...             141   \n",
       "3  <strong>About Fusemachines<br><br></strong>Fus...             200   \n",
       "4  <strong>Overview<br><br></strong>Intuit is a m...             108   \n",
       "\n",
       "                                            applyUrl salary  \n",
       "0                                                            \n",
       "1  https://careers.swiggy.com/#/careers?src=linke...         \n",
       "2  https://app.turbohire.co/job/publicjobs/GzQsDg...         \n",
       "3                                                            \n",
       "4  https://jobs.intuit.com/job/-/-/27595/85017932...         "
      ]
     },
     "execution_count": 33,
     "metadata": {},
     "output_type": "execute_result"
    }
   ],
   "source": [
    "final_data.head()"
   ]
  },
  {
   "cell_type": "markdown",
   "id": "0c576fb6",
   "metadata": {},
   "source": [
    "companyName and companyLinkedinUrl are also not that important columns for my project so bye bye...\n"
   ]
  },
  {
   "cell_type": "code",
   "execution_count": 34,
   "id": "44231ddb",
   "metadata": {},
   "outputs": [],
   "source": [
    "columns_to_drop.extend([\"companyName\",\"companyLinkedinUrl\"])"
   ]
  },
  {
   "cell_type": "code",
   "execution_count": 35,
   "id": "22ca9474",
   "metadata": {},
   "outputs": [
    {
     "data": {
      "text/plain": [
       "6"
      ]
     },
     "execution_count": 35,
     "metadata": {},
     "output_type": "execute_result"
    }
   ],
   "source": [
    "len(columns_to_drop)"
   ]
  },
  {
   "cell_type": "code",
   "execution_count": 36,
   "id": "86454b4c",
   "metadata": {},
   "outputs": [
    {
     "name": "stderr",
     "output_type": "stream",
     "text": [
      "/tmp/ipykernel_77466/2876276212.py:1: SettingWithCopyWarning: \n",
      "A value is trying to be set on a copy of a slice from a DataFrame\n",
      "\n",
      "See the caveats in the documentation: https://pandas.pydata.org/pandas-docs/stable/user_guide/indexing.html#returning-a-view-versus-a-copy\n",
      "  final_data.drop(columns=columns_to_drop, inplace=True)\n"
     ]
    }
   ],
   "source": [
    "final_data.drop(columns=columns_to_drop, inplace=True)"
   ]
  },
  {
   "cell_type": "code",
   "execution_count": 37,
   "id": "92c93d54",
   "metadata": {},
   "outputs": [
    {
     "data": {
      "text/html": [
       "<div>\n",
       "<style scoped>\n",
       "    .dataframe tbody tr th:only-of-type {\n",
       "        vertical-align: middle;\n",
       "    }\n",
       "\n",
       "    .dataframe tbody tr th {\n",
       "        vertical-align: top;\n",
       "    }\n",
       "\n",
       "    .dataframe thead th {\n",
       "        text-align: right;\n",
       "    }\n",
       "</style>\n",
       "<table border=\"1\" class=\"dataframe\">\n",
       "  <thead>\n",
       "    <tr style=\"text-align: right;\">\n",
       "      <th></th>\n",
       "      <th>link</th>\n",
       "      <th>title</th>\n",
       "      <th>companyLogo</th>\n",
       "      <th>location</th>\n",
       "      <th>postedAt</th>\n",
       "      <th>descriptionHtml</th>\n",
       "      <th>applicantsCount</th>\n",
       "    </tr>\n",
       "  </thead>\n",
       "  <tbody>\n",
       "    <tr>\n",
       "      <th>0</th>\n",
       "      <td>https://in.linkedin.com/jobs/view/senior-softw...</td>\n",
       "      <td>Senior Software Engineer</td>\n",
       "      <td>https://media.licdn.com/dms/image/v2/D560BAQHt...</td>\n",
       "      <td>Bengaluru, Karnataka, India</td>\n",
       "      <td>2025-08-16</td>\n",
       "      <td>&lt;p&gt;Dear Candidate &lt;/p&gt;&lt;p&gt;&lt;br&gt;&lt;/p&gt;&lt;p&gt;The ideal ...</td>\n",
       "      <td>200</td>\n",
       "    </tr>\n",
       "    <tr>\n",
       "      <th>1</th>\n",
       "      <td>https://in.linkedin.com/jobs/view/assistant-ma...</td>\n",
       "      <td>Assistant Manager - Category</td>\n",
       "      <td>https://media.licdn.com/dms/image/v2/D560BAQFg...</td>\n",
       "      <td>Bengaluru, Karnataka, India</td>\n",
       "      <td>2025-08-14</td>\n",
       "      <td>&lt;strong&gt;Role - Assistant Manager - Category&lt;br...</td>\n",
       "      <td>200</td>\n",
       "    </tr>\n",
       "    <tr>\n",
       "      <th>2</th>\n",
       "      <td>https://in.linkedin.com/jobs/view/python-devel...</td>\n",
       "      <td>Python Developer</td>\n",
       "      <td>https://media.licdn.com/dms/image/v2/D560BAQHN...</td>\n",
       "      <td>Chennai, Tamil Nadu, India</td>\n",
       "      <td>2025-08-15</td>\n",
       "      <td>&lt;strong&gt;Job Role&lt;br&gt;&lt;br&gt;&lt;/strong&gt;The Python De...</td>\n",
       "      <td>141</td>\n",
       "    </tr>\n",
       "    <tr>\n",
       "      <th>3</th>\n",
       "      <td>https://in.linkedin.com/jobs/view/data-scienti...</td>\n",
       "      <td>Data Scientist</td>\n",
       "      <td>https://media.licdn.com/dms/image/v2/D560BAQFp...</td>\n",
       "      <td>Pune, Maharashtra, India</td>\n",
       "      <td>2025-08-15</td>\n",
       "      <td>&lt;strong&gt;About Fusemachines&lt;br&gt;&lt;br&gt;&lt;/strong&gt;Fus...</td>\n",
       "      <td>200</td>\n",
       "    </tr>\n",
       "    <tr>\n",
       "      <th>4</th>\n",
       "      <td>https://in.linkedin.com/jobs/view/software-eng...</td>\n",
       "      <td>Software Engineer 2</td>\n",
       "      <td>https://media.licdn.com/dms/image/v2/C560BAQFT...</td>\n",
       "      <td>Bengaluru, Karnataka, India</td>\n",
       "      <td>2025-08-15</td>\n",
       "      <td>&lt;strong&gt;Overview&lt;br&gt;&lt;br&gt;&lt;/strong&gt;Intuit is a m...</td>\n",
       "      <td>108</td>\n",
       "    </tr>\n",
       "  </tbody>\n",
       "</table>\n",
       "</div>"
      ],
      "text/plain": [
       "                                                link  \\\n",
       "0  https://in.linkedin.com/jobs/view/senior-softw...   \n",
       "1  https://in.linkedin.com/jobs/view/assistant-ma...   \n",
       "2  https://in.linkedin.com/jobs/view/python-devel...   \n",
       "3  https://in.linkedin.com/jobs/view/data-scienti...   \n",
       "4  https://in.linkedin.com/jobs/view/software-eng...   \n",
       "\n",
       "                          title  \\\n",
       "0      Senior Software Engineer   \n",
       "1  Assistant Manager - Category   \n",
       "2              Python Developer   \n",
       "3                Data Scientist   \n",
       "4           Software Engineer 2   \n",
       "\n",
       "                                         companyLogo  \\\n",
       "0  https://media.licdn.com/dms/image/v2/D560BAQHt...   \n",
       "1  https://media.licdn.com/dms/image/v2/D560BAQFg...   \n",
       "2  https://media.licdn.com/dms/image/v2/D560BAQHN...   \n",
       "3  https://media.licdn.com/dms/image/v2/D560BAQFp...   \n",
       "4  https://media.licdn.com/dms/image/v2/C560BAQFT...   \n",
       "\n",
       "                      location    postedAt  \\\n",
       "0  Bengaluru, Karnataka, India  2025-08-16   \n",
       "1  Bengaluru, Karnataka, India  2025-08-14   \n",
       "2   Chennai, Tamil Nadu, India  2025-08-15   \n",
       "3     Pune, Maharashtra, India  2025-08-15   \n",
       "4  Bengaluru, Karnataka, India  2025-08-15   \n",
       "\n",
       "                                     descriptionHtml applicantsCount  \n",
       "0  <p>Dear Candidate </p><p><br></p><p>The ideal ...             200  \n",
       "1  <strong>Role - Assistant Manager - Category<br...             200  \n",
       "2  <strong>Job Role<br><br></strong>The Python De...             141  \n",
       "3  <strong>About Fusemachines<br><br></strong>Fus...             200  \n",
       "4  <strong>Overview<br><br></strong>Intuit is a m...             108  "
      ]
     },
     "execution_count": 37,
     "metadata": {},
     "output_type": "execute_result"
    }
   ],
   "source": [
    "final_data.head()"
   ]
  },
  {
   "cell_type": "code",
   "execution_count": 38,
   "id": "5d22c000",
   "metadata": {},
   "outputs": [
    {
     "name": "stdout",
     "output_type": "stream",
     "text": [
      "Here is the top 5 value counts for link\n",
      "link\n",
      "https://in.linkedin.com/jobs/view/senior-software-engineer-at-flipkart-4286871308?refId=U0lmlInKZLhKbdYyAaHRbA%3D%3D&trackingId=XSm4lZBpl6996aKN99Eafg%3D%3D&position=23&pageNum=0                                      1\n",
      "https://in.linkedin.com/jobs/view/web-developer-at-scout-inc-4287084340?refId=JN%2FM9GQw%2FLqVhRK3qzcaTw%3D%3D&trackingId=GqWJO7AHl%2BAhLYMlAXxh4w%3D%3D&position=16&pageNum=3                                          1\n",
      "https://in.linkedin.com/jobs/view/%C2%A0consultant-senior-consultant-at-pwc-4285759272?refId=JN%2FM9GQw%2FLqVhRK3qzcaTw%3D%3D&trackingId=WX2Uk0oQ6ck59wIbCpC8Kw%3D%3D&position=22&pageNum=3                             1\n",
      "https://in.linkedin.com/jobs/view/data-analytics-internship-in-delhi-gurgaon-noida-at-urban-company-4286244308?refId=N6EZDe28DQ%2F%2FZ3IcgHx7sQ%3D%3D&trackingId=rcOPTz%2F1SOSo0TZv4k3JgA%3D%3D&position=4&pageNum=2    1\n",
      "https://in.linkedin.com/jobs/view/sales-and-marketing-leader-at-aditya-birla-capital-4286182126?refId=N6EZDe28DQ%2F%2FZ3IcgHx7sQ%3D%3D&trackingId=piUsjK4GpBDbHJVXDZ8sPQ%3D%3D&position=8&pageNum=2                     1\n",
      "Name: count, dtype: int64\n",
      "\n",
      "\n",
      "\n",
      "Here is the top 5 value counts for title\n",
      "title\n",
      "Python Developer                                      4\n",
      "Software Engineer                                     3\n",
      "Data Analytics Internship in Delhi, Gurgaon, Noida    3\n",
      "Frontend Developer                                    3\n",
      "Web Developer                                         3\n",
      "Name: count, dtype: int64\n",
      "\n",
      "\n",
      "\n",
      "Here is the top 5 value counts for companyLogo\n",
      "companyLogo\n",
      "https://media.licdn.com/dms/image/v2/D4D0BAQFaDS1OUAQ38w/company-logo_100_100/company-logo_100_100/0/1738336671308?e=1758153600&v=beta&t=DU_U4cDbiZP-_4mZ_tlQQFg73suiVWFe_V6KpNWlQZc                              7\n",
      "https://media.licdn.com/dms/image/v2/D4D0BAQFRJbym_ZuGMA/company-logo_100_100/company-logo_100_100/0/1706788062189/aditya_birla_capital_logo?e=1758153600&v=beta&t=mVtHdix6coN4L22mFTm-pI51Ml8kPBrN7qKzyvY_-fA    7\n",
      "https://media.licdn.com/dms/image/v2/C4D0BAQHiNSL4Or29cg/company-logo_100_100/company-logo_100_100/0/1631311446380?e=1758153600&v=beta&t=l-dkRzGweGPbRO4xwxHoBtyfmPWygw68Xq1CX5U4Llw                              5\n",
      "https://media.licdn.com/dms/image/v2/C560BAQGL2p38Nc6Qkg/company-logo_100_100/company-logo_100_100/0/1661518370542/reliance_logo?e=1758153600&v=beta&t=yiZVJxEuSMALtdpqmKZfL-T8ASp6BkJLO_iVEtyzNYk                4\n",
      "https://media.licdn.com/dms/image/v2/D560BAQHtneRyv-iofA/company-logo_100_100/B56Za6BjbWHgAU-/0/1746877692629/flipkart_logo?e=1758153600&v=beta&t=AuZ0dzacyWOOJCdwnhOz1FshCNf36S5F1nYFwPsA42U                     3\n",
      "Name: count, dtype: int64\n",
      "\n",
      "\n",
      "\n",
      "Here is the top 5 value counts for location\n",
      "location\n",
      "Bengaluru, Karnataka, India    31\n",
      "Pune, Maharashtra, India        9\n",
      "Hyderabad, Telangana, India     8\n",
      "Kolkata, West Bengal, India     6\n",
      "Jamnagar, Gujarat, India        5\n",
      "Name: count, dtype: int64\n",
      "\n",
      "\n",
      "\n",
      "Here is the top 5 value counts for postedAt\n",
      "postedAt\n",
      "2025-08-14    29\n",
      "2025-08-18    28\n",
      "2025-08-17    15\n",
      "2025-08-15    14\n",
      "2025-08-16    12\n",
      "Name: count, dtype: int64\n",
      "\n",
      "\n",
      "\n",
      "Here is the top 5 value counts for descriptionHtml\n",
      "descriptionHtml\n",
      "<strong>Selected Intern's Day-to-day Responsibilities Include<br><br></strong><ul><li> Build &amp; maintain backend data processes and pipelines.</li><li> Write optimized SQL queries for data extraction &amp; analysis.</li><li> Create and manage performance dashboards.</li><li> Automate recurring reports for business tracking.</li><li> Generate actionable insights from data to support decision-making.<br><br></li></ul>About Company: Urban Company, originally launched as UrbanClap in November 2014 by Abhiraj Bhal, Raghav Chandra, and Varun Khaitan, aimed to transform the disorganized and offline home services industry. We have built the platform on three core principles: delivering exceptional customer experience, empowering service professionals with better earnings and training, and using technology to streamline operations. Today, Urban Company operates in 56 cities across India, the UAE, Singapore, Saudi Arabia, and the USA. It has completed over 36 million service bookings through a network of 40,000+ trained professionals, offering 50+ home and beauty services via its app and website.                                                                                                                                                                                                                                                                                                                                                                                                                                                                                                                                                                                                                                                                                                                                                                                                                                                                                                                                                                                                                                                                                                                                                                                                                                                                                                                                                                                                                                                                                                                                                                                                                                                                                                                                                                                                                                                                                                                                                                                                                                                                                                                                                                                                                                                                                                                                                                                                                                                                                                                                                                                                                                                                                                                                                                                                                                                                                                                                                                                                                                                                                                                                                                                                                                                                                                                                                                                                                                                                                                                                                                                                         3\n",
      "<strong>Job Description<br><br></strong>We are seeking a talented and experienced Web Developer to join our dynamic team. The ideal candidate will have a strong background in product management, a deep understanding of user needs, and a proven track record of successfully launching and iterating on digital products.<br><br><strong>Key Responsibilities<br><br></strong><ul><li>Design, build, and test web-based applications for various site components and edit site content.</li><li>Document technical designs and specifications.</li><li>Research and incorporate updated content for websites.<br><br></li></ul><strong>Must-Have Skills<br><br></strong><ul><li>3+ years of experience as a web developer.<br><br></li></ul>(*Note: This is a requirement for one of Scout's clients)<br><br>Skills: react.js,javascript,css,html,web application development                                                                                                                                                                                                                                                                                                                                                                                                                                                                                                                                                                                                                                                                                                                                                                                                                                                                                                                                                                                                                                                                                                                                                                                                                                                                                                                                                                                                                                                                                                                                                                                                                                                                                                                                                                                                                                                                                                                                                                                                                                                                                                                                                                                                                                                                                                                                                                                                                                                                                                                                                                                                                                                                                                                                                                                                                                                                                                                                                                                                                                                                                                                                                                                                                                                                                                                                                                                                                                                                                                                                                                                                                                                                                                                                                                                                                                                                          3\n",
      "Note: By applying to this position you will have an opportunity to share your preferred working location from the following: <strong>Gurugram, Haryana, India; Bengaluru, Karnataka, India; Hyderabad, Telangana, India</strong>.<strong>Minimum qualifications:<br><br></strong><ul><li>Bachelor's degree or equivalent practical experience.</li><li>2 years of experience working with digital media or digital marketing/advertising solutions, implementing and measuring campaigns and providing client solutions.<br><br></li></ul><strong>Preferred qualifications:<br><br></strong><ul><li>3 years of experience with Internet products and technologies.</li><li>Experience in data analysis, with the ability to interpret datasets, identify trends, and translate findings into compelling narratives.</li><li>Knowledge of search platforms and products, the performance advertising market, or online ads landscape.</li><li>Ability to collaborate cross-functionally with multiple teams and stakeholders while building relationships.</li><li>Excellent project management skills, with the ability to oversee multiple, simultaneous solutions, supported by internal teams.</li><li>Excellent business communication, negotiation, and influencing skills.<br><br></li></ul><strong>About The Job<br><br></strong>gTech Ads is responsible for all support and media and technical services for customers big and small across our entire Ad products stack. We help our customers get the most out of our Ad and Publisher products and guide them when they need help. We provide a range of services from enabling better self help and in-product support, to providing better support through interactions, setting up accounts and implementing ad campaigns, and providing media solutions for customers business and marketing needs and providing complex technical and measurement solutions along with consultative support for our large customers. These solutions range from bespoke and customized ones for our customers to scalable support for millions of customers worldwide. Based on the evolving needs of our ads customers, we partner with Sales, Product and Engineering teams within Google to develop better solutions, tools, and services to improve our products and enhance our client experience. As a cross-functional and global team, we ensure our customers get the best return on investment with Google and we remain a trusted partner.<br><br>Google creates products and services that make the world a better place, and gTech’s role is to help bring them to life. Our teams of trusted advisors support customers globally. Our solutions are rooted in our technical skill, product expertise, and a thorough understanding of our customers’ complex needs. Whether the answer is a bespoke solution to solve a unique problem, or a new tool that can scale across Google, everything we do aims to ensure our customers benefit from the full potential of Google products.<br><br>To learn more about gTech, check out our video .<br><br><strong>Responsibilities<br><br></strong><ul><li>Advise key Google Ads clients, leveraging digital marketing and tech solutions to address business issues, collaborate as a thought partner, design media plans, and deliver technical solutions to achieve business goals.</li><li>Build relationships with external advertisers to deliver business outcomes through Google Ads, supporting planning, pitching, implementation, and optimization to boost product adoption and business growth.</li><li>Collaborate with teams to drive growth plans for clients, develop and apply insights of market and engaged environment for vertical and sub-verticals in solutions offered.</li><li>Deliver consultative digital marketing solutions that address issues and enhance the customer's experience.</li><li>Advocate new product features, assist with adoption through setup and provide technical guidance for infrastructure and data integration in Google Ads.<br><br><br></li></ul>Google is proud to be an equal opportunity workplace and is an affirmative action employer. We are committed to equal employment opportunity regardless of race, color, ancestry, religion, sex, national origin, sexual orientation, age, citizenship, marital status, disability, gender identity or Veteran status. We also consider qualified applicants regardless of criminal histories, consistent with legal requirements. See also Google's EEO Policy and EEO is the Law. If you have a disability or special need that requires accommodation, please let us know by completing our Accommodations for Applicants form .    2\n",
      "This job is provided by apna.co 🚀 Aditya Birla Group is Hiring! 🌟<br><br>📍 Interview Location: Park Street, Kolkata<br><br>🎯 Multiple Roles | Multiple Vacancies<br><br>Looking for an exciting career opportunity with one of India's leading conglomerates? This is your chance to join Aditya Birla Group and grow with us! 💼✨<br><br>🔹 Why Join Us?<br><br>✅ Attractive Salary &amp; Perks 💰<br><br>✅ Career Growth Opportunities 📈<br><br>✅ Dynamic Work Culture 🤝<br><br>💡 Roles available across various departments!<br><br>📅 Walk-in Interviews happening soon! Don’t miss out—apply today! 🚀<br><br>📩 To Apply: Drop your CV at [Email] or WhatsApp at [Number]<br><br>#Hiring #JobAlert #CareerOpportunity #AdityaBirla #KolkataJobs #WalkInInterview 🚀                                                                                                                                                                                                                                                                                                                                                                                                                                                                                                                                                                                                                                                                                                                                                                                                                                                                                                                                                                                                                                                                                                                                                                                                                                                                                                                                                                                                                                                                                                                                                                                                                                                                                                                                                                                                                                                                                                                                                                                                                                                                                                                                                                                                                                                                                                                                                                                                                                                                                                                                                                                                                                                                                                                                                                                                                                                                                                                                                                                                                                                                                                                                                                                                                                                                                                                                                                                                                                                                                                                                                                                                                                                                                                                                                                                                                                                                                                                                                                                         2\n",
      "<strong>About The Role<br><br></strong>We're looking for Software Engineers to deliver business-critical application services. You'll build intuitive software for core business functions. If you enjoy solving real-world challenges and want to work across both backend and frontend systems, this is the role for you.<br><br><strong>Must Have Qualification/Skills<br><br></strong><ul><li>3+ years of non-internship professional software development experience</li><li>Experience programming with at least one modern language such as Java, C++, or C#</li><li>Strong problem-solving and analytical skills.</li><li>Understanding of software development life cycle (SDLC) concepts.</li><li>Eagerness to learn and grow in a collaborative environment.<br><br></li></ul>(*Note: This is a requirement for one of Scout's clients)<br><br>Skills: software development,software development life cycle (sdlc),application                                                                                                                                                                                                                                                                                                                                                                                                                                                                                                                                                                                                                                                                                                                                                                                                                                                                                                                                                                                                                                                                                                                                                                                                                                                                                                                                                                                                                                                                                                                                                                                                                                                                                                                                                                                                                                                                                                                                                                                                                                                                                                                                                                                                                                                                                                                                                                                                                                                                                                                                                                                                                                                                                                                                                                                                                                                                                                                                                                                                                                                                                                                                                                                                                                                                                                                                                                                                                                                                                                                                                                                                                                                                                                                                                                                                                  2\n",
      "Name: count, dtype: int64\n",
      "\n",
      "\n",
      "\n",
      "Here is the top 5 value counts for applicantsCount\n",
      "applicantsCount\n",
      "200    50\n",
      "25     12\n",
      "26      3\n",
      "83      2\n",
      "141     2\n",
      "Name: count, dtype: int64\n",
      "\n",
      "\n",
      "\n"
     ]
    }
   ],
   "source": [
    "for col in final_data.columns:\n",
    "    print(\"Here is the top 5 value counts for\", col)\n",
    "    print(final_data[col].value_counts()[:5])\n",
    "    print(\"\\n\\n\")"
   ]
  },
  {
   "cell_type": "markdown",
   "id": "16dd6e6a",
   "metadata": {},
   "source": [
    "Okay now everything is looking fine lets make the data ready for the ui"
   ]
  },
  {
   "cell_type": "code",
   "execution_count": 39,
   "id": "7be97f71",
   "metadata": {},
   "outputs": [
    {
     "data": {
      "text/plain": [
       "Index(['link', 'title', 'companyLogo', 'location', 'postedAt',\n",
       "       'descriptionHtml', 'applicantsCount'],\n",
       "      dtype='object')"
      ]
     },
     "execution_count": 39,
     "metadata": {},
     "output_type": "execute_result"
    }
   ],
   "source": [
    "final_data.columns"
   ]
  },
  {
   "cell_type": "code",
   "execution_count": null,
   "id": "2a86ab9d",
   "metadata": {},
   "outputs": [],
   "source": [
    "import ast\n",
    "import pandas as pd\n",
    "def make_data_clean(data):\n",
    "    \n",
    "    # If 'data' is a string containing Python literal (not JSON), use ast.literal_eval\n",
    "    data_list = ast.literal_eval(data)\n",
    "    df = pd.DataFrame(data_list)\n",
    "    df = df[['link', 'title', 'companyLogo', 'location', 'postedAt',\n",
    "       'descriptionHtml', 'applicantsCount']]\n",
    "    \n",
    "    return df"
   ]
  }
 ],
 "metadata": {
  "kernelspec": {
   "display_name": "E2E_Job_Recommender",
   "language": "python",
   "name": "python3"
  },
  "language_info": {
   "codemirror_mode": {
    "name": "ipython",
    "version": 3
   },
   "file_extension": ".py",
   "mimetype": "text/x-python",
   "name": "python",
   "nbconvert_exporter": "python",
   "pygments_lexer": "ipython3",
   "version": "3.12.3"
  }
 },
 "nbformat": 4,
 "nbformat_minor": 5
}
